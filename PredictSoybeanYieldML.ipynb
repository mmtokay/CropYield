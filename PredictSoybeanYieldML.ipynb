{
 "cells": [
  {
   "cell_type": "markdown",
   "metadata": {
    "colab_type": "text",
    "id": "gD2Nxo0AHu7w"
   },
   "source": [
    "This dataset is part of the [Farming Systems Project](https://www.ars.usda.gov/northeast-area/beltsville-md-barc/beltsville-agricultural-research-center/sustainable-agricultural-systems-laboratory/docs/farming-systems-project/) at USDA, Beltsville MD.  This data is not available online on the USDA\n",
    " website but can be found on my [GitHub](https://github.com/mmtokay/DATA606/tree/master/dataset)\n",
    "* Julian Day \n",
    "* Month\n",
    "* Day\n",
    "* Date\n",
    "* avgtTempC - average temperature in C\n",
    "* maxTempC - maximum temperature in C\n",
    "* minTempC - minimum temperature in C\n",
    "* maxHumPct - maximum humidity in %\n",
    "* minHumPct - minimum humidity in %\n",
    "* avgRadWm-2 - average radiation in w/m2\n",
    "* meanWindMs-1 - mean wind in m/s\n",
    "* PrecipitationMm - precipitation/snow me# Model A"
   ]
  },
  {
   "cell_type": "code",
   "execution_count": null,
   "metadata": {
    "colab": {
     "base_uri": "https://localhost:8080/",
     "height": 178
    },
    "colab_type": "code",
    "executionInfo": {
     "elapsed": 27114,
     "status": "ok",
     "timestamp": 1588995451245,
     "user": {
      "displayName": "Maura Tokay",
      "photoUrl": "",
      "userId": "08366631216777031425"
     },
     "user_tz": 240
    },
    "id": "-WqchYRo7LRu",
    "outputId": "2d555723-b23d-41be-a9c6-445287c9a03d"
   },
   "outputs": [],
   "source": [
    "import io\n",
    "import matplotlib.pyplot as plt\n",
    "import numpy as np\n",
    "import pandas as pd\n",
    "import re\n",
    "import warnings\n",
    "import time\n",
    "import pathlib\n",
    "import seaborn as sns\n",
    "import tensorflow as tf\n",
    "import tensorflow_docs as tfdocs\n",
    "import tensorflow_docs.plots\n",
    "import tensorflow_docs.modeling\n",
    "\n",
    "from datetime import datetime, timedelta\n",
    "from sklearn import linear_model\n",
    "from sklearn.decomposition import PCA\n",
    "from sklearn.ensemble import RandomForestRegressor\n",
    "from sklearn.linear_model import LogisticRegression, LinearRegression, RidgeClassifier\n",
    "from sklearn.metrics import *\n",
    "from sklearn.model_selection import train_test_split, GridSearchCV, cross_val_score, cross_val_predict, cross_validate\n",
    "from sklearn.pipeline import Pipeline\n",
    "from sklearn.preprocessing import OneHotEncoder, PolynomialFeatures, RobustScaler, Normalizer, MinMaxScaler, StandardScaler, Binarizer\n",
    "from sklearn.tree import DecisionTreeRegressor, export_graphviz\n",
    "from sklearn.utils import shuffle\n",
    "from time import time\n",
    "from tensorflow import keras\n",
    "from tensorflow.keras import layers\n",
    "\n",
    "print(tf.__version__)\n",
    "warnings.simplefilter(action='ignore', category=FutureWarning)"
   ]
  },
  {
   "cell_type": "code",
   "execution_count": null,
   "metadata": {
    "colab": {},
    "colab_type": "code",
    "id": "Ifhbo7XhS6SR"
   },
   "outputs": [],
   "source": [
    "def modelEvaluation(test_y, y_pred):\n",
    "    # Mean absolute error regression loss (Best is 0)\n",
    "    mae = mean_absolute_error(test_y, y_pred)\n",
    "    print(\"Mean absolute error regression loss (Best is 0) = {:.5f}\".format(mae))\n",
    "    \n",
    "    # Mean squared error\n",
    "    mse = mean_squared_error(test_y, y_pred)\n",
    "    print(\"Mean squared error (Best is 0) = {:.5f}\".format(mse))\n",
    "    \n",
    "    # Median absolute error regression loss\n",
    "    maerl = median_absolute_error(test_y, y_pred)\n",
    "    print(\"Median absolute error regression loss or Mean absolute percentage error (Best is 0) = {:.5f}\".format(maerl))\n",
    "    \n",
    "    # Coefficient of determination (Best is 1)\n",
    "    r2 = r2_score(y_pred, test_y)\n",
    "    print(\"Coefficient of determination (Best is 1) = {:.5f}\".format(r2))\n",
    "\n",
    "    a = plt.axes(aspect='equal')\n",
    "    plt.scatter(test_y, y_pred)\n",
    "    plt.xlabel('True Values [GrainYield]')\n",
    "    plt.ylabel('Predictions [GrainYield]')\n",
    "    lims = [0, 5500]\n",
    "    plt.xlim(lims)\n",
    "    plt.ylim(lims)\n",
    "    _ = plt.plot(lims, lims)\n",
    "\n",
    "def errorPlot(test_y, y_pred):\n",
    "    error = y_pred - test_y\n",
    "    plt.hist(error, bins = 25)\n",
    "    plt.xlabel(\"Prediction Error [GrainYield]\")\n",
    "    _ = plt.ylabel(\"Count\")"
   ]
  },
  {
   "cell_type": "markdown",
   "metadata": {
    "colab_type": "text",
    "id": "HJ7OR-mpS6ST"
   },
   "source": [
    "# Soybean - 15 weeks"
   ]
  },
  {
   "cell_type": "code",
   "execution_count": null,
   "metadata": {
    "colab": {
     "base_uri": "https://localhost:8080/",
     "height": 1000,
     "output_embedded_package_id": "14-pLsHy4ZLvO3GHlAgwcdk4YmUY2J6nK"
    },
    "colab_type": "code",
    "executionInfo": {
     "elapsed": 6825,
     "status": "ok",
     "timestamp": 1588995466461,
     "user": {
      "displayName": "Maura Tokay",
      "photoUrl": "",
      "userId": "08366631216777031425"
     },
     "user_tz": 240
    },
    "id": "yckB20VsS6SU",
    "outputId": "ccf45d32-dca6-4d9d-c7e9-356f2b4892b1"
   },
   "outputs": [],
   "source": [
    "dataSoy15w = pd.read_csv('./dataset/soyFeatures15w.csv')\n",
    "corrSoy15w = dataSoy15w.corr()\n",
    "corrSoy15w.style.background_gradient(cmap='coolwarm').set_precision(2)"
   ]
  },
  {
   "cell_type": "code",
   "execution_count": null,
   "metadata": {
    "colab": {},
    "colab_type": "code",
    "id": "aIl26AZsS6Sa"
   },
   "outputs": [],
   "source": [
    "# Splitting data set\n",
    "train_15w_X, test_15w_X = train_test_split(dataSoy15w.drop('GrainYield', axis=1), random_state=1)\n",
    "train_15w_y, test_15w_y = train_test_split(dataSoy15w['GrainYield'], random_state=1)\n",
    "\n",
    "# Apply Robust Scaler\n",
    "scaler = RobustScaler()\n",
    "train_scaler_15w_X = scaler.fit_transform(train_15w_X)\n",
    "test_scaler_15w_X = scaler.transform(test_15w_X)"
   ]
  },
  {
   "cell_type": "markdown",
   "metadata": {
    "colab_type": "text",
    "id": "Zsw9MixuS6Sc"
   },
   "source": [
    "**Lasso**"
   ]
  },
  {
   "cell_type": "code",
   "execution_count": null,
   "metadata": {
    "colab": {
     "base_uri": "https://localhost:8080/",
     "height": 618
    },
    "colab_type": "code",
    "executionInfo": {
     "elapsed": 1240,
     "status": "ok",
     "timestamp": 1588995477097,
     "user": {
      "displayName": "Maura Tokay",
      "photoUrl": "",
      "userId": "08366631216777031425"
     },
     "user_tz": 240
    },
    "id": "dt6t0OflS6Sd",
    "outputId": "3b1367e3-7791-4ca6-ec19-46b515fcab15"
   },
   "outputs": [],
   "source": [
    "lm = linear_model.Lasso(alpha=0.4)\n",
    "lm.fit(train_scaler_15w_X,train_15w_y)\n",
    "y_pred_15w_lm = lm.predict(test_scaler_15w_X)\n",
    "modelEvaluation(test_15w_y, y_pred_15w_lm)\n",
    "\n",
    "important_features = pd.Series(data=lm.coef_,index=dataSoy15w.drop('GrainYield', axis=1).columns)\n",
    "important_features.sort_values(ascending=False,inplace=True)\n",
    "print(important_features[:5])\n",
    "print(important_features[-5:])"
   ]
  },
  {
   "cell_type": "code",
   "execution_count": null,
   "metadata": {
    "colab": {
     "base_uri": "https://localhost:8080/",
     "height": 278
    },
    "colab_type": "code",
    "executionInfo": {
     "elapsed": 1249,
     "status": "ok",
     "timestamp": 1588995481786,
     "user": {
      "displayName": "Maura Tokay",
      "photoUrl": "",
      "userId": "08366631216777031425"
     },
     "user_tz": 240
    },
    "id": "gmPEflrVXZCD",
    "outputId": "7430004c-7c1f-4927-c437-a83452b385de"
   },
   "outputs": [],
   "source": [
    "errorPlot(test_15w_y, y_pred_15w_lm)"
   ]
  },
  {
   "cell_type": "markdown",
   "metadata": {
    "colab_type": "text",
    "id": "tdyCkFC8S6Sf"
   },
   "source": [
    "**Decision Tree Regressor**"
   ]
  },
  {
   "cell_type": "code",
   "execution_count": null,
   "metadata": {
    "colab": {
     "base_uri": "https://localhost:8080/",
     "height": 563
    },
    "colab_type": "code",
    "executionInfo": {
     "elapsed": 1217,
     "status": "ok",
     "timestamp": 1588995486844,
     "user": {
      "displayName": "Maura Tokay",
      "photoUrl": "",
      "userId": "08366631216777031425"
     },
     "user_tz": 240
    },
    "id": "wl5cPRgES6Sf",
    "outputId": "0e26ebef-8596-4c9f-d23d-a995d47ba9cd"
   },
   "outputs": [],
   "source": [
    "tree_model = DecisionTreeRegressor()\n",
    "tree_model.fit(train_scaler_15w_X,train_15w_y)\n",
    "y_pred_15w_dtr = tree_model.predict(test_scaler_15w_X)\n",
    "modelEvaluation(test_15w_y, y_pred_15w_dtr)\n",
    "\n",
    "mportant_features = pd.Series(data=tree_model.feature_importances_,index=dataSoy15w.drop('GrainYield', axis=1).columns)\n",
    "important_features.sort_values(ascending=False,inplace=True)\n",
    "print(important_features[:5])\n",
    "print(important_features[-5:])"
   ]
  },
  {
   "cell_type": "code",
   "execution_count": null,
   "metadata": {
    "colab": {
     "base_uri": "https://localhost:8080/",
     "height": 278
    },
    "colab_type": "code",
    "executionInfo": {
     "elapsed": 863,
     "status": "ok",
     "timestamp": 1588995493021,
     "user": {
      "displayName": "Maura Tokay",
      "photoUrl": "",
      "userId": "08366631216777031425"
     },
     "user_tz": 240
    },
    "id": "bqDV5RXXXxRF",
    "outputId": "6ec59ee5-cfa6-442a-bd7a-5615b494a7ca"
   },
   "outputs": [],
   "source": [
    "errorPlot(test_15w_y, y_pred_15w_dtr)"
   ]
  },
  {
   "cell_type": "markdown",
   "metadata": {
    "colab_type": "text",
    "id": "Se9UdtZnS6Si"
   },
   "source": [
    "**Random Forest Regressor**"
   ]
  },
  {
   "cell_type": "code",
   "execution_count": null,
   "metadata": {
    "colab": {
     "base_uri": "https://localhost:8080/",
     "height": 456
    },
    "colab_type": "code",
    "executionInfo": {
     "elapsed": 1680,
     "status": "ok",
     "timestamp": 1588995500899,
     "user": {
      "displayName": "Maura Tokay",
      "photoUrl": "",
      "userId": "08366631216777031425"
     },
     "user_tz": 240
    },
    "id": "MlKY6aG5S6Si",
    "outputId": "310539f1-1ea2-437d-a147-a3afec895d53"
   },
   "outputs": [],
   "source": [
    "rf_model = RandomForestRegressor()\n",
    "rf_model.fit(train_scaler_15w_X,train_15w_y)\n",
    "y_pred_15w_rfr = rf_model.predict(test_scaler_15w_X)\n",
    "modelEvaluation(test_15w_y, y_pred_15w_rfr)\n",
    "\n",
    "important_features = pd.Series(data=rf_model.feature_importances_,index=dataSoy15w.drop('GrainYield', axis=1).columns)\n",
    "important_features.sort_values(ascending=False,inplace=True)\n",
    "print(important_features[:5])"
   ]
  },
  {
   "cell_type": "code",
   "execution_count": null,
   "metadata": {
    "colab": {
     "base_uri": "https://localhost:8080/",
     "height": 278
    },
    "colab_type": "code",
    "executionInfo": {
     "elapsed": 1041,
     "status": "ok",
     "timestamp": 1588995504682,
     "user": {
      "displayName": "Maura Tokay",
      "photoUrl": "",
      "userId": "08366631216777031425"
     },
     "user_tz": 240
    },
    "id": "KD6RK688YGKo",
    "outputId": "46163ccc-7651-4f60-e61a-58ea74aaa4dc"
   },
   "outputs": [],
   "source": [
    "errorPlot(test_15w_y, y_pred_15w_rfr)"
   ]
  },
  {
   "cell_type": "code",
   "execution_count": null,
   "metadata": {
    "colab": {
     "base_uri": "https://localhost:8080/",
     "height": 456
    },
    "colab_type": "code",
    "executionInfo": {
     "elapsed": 3571,
     "status": "ok",
     "timestamp": 1588995510433,
     "user": {
      "displayName": "Maura Tokay",
      "photoUrl": "",
      "userId": "08366631216777031425"
     },
     "user_tz": 240
    },
    "id": "oAb1HCmoS6Sk",
    "outputId": "43b0411a-c12f-4b2a-b16e-ad389f0618f0"
   },
   "outputs": [],
   "source": [
    "max_depth = 30\n",
    "n_est = 400\n",
    "rf_model = RandomForestRegressor(n_estimators=n_est,max_depth=max_depth,random_state=0)\n",
    "rf_model.fit(train_scaler_15w_X,train_15w_y)\n",
    "y_pred_15w_rfrc = rf_model.predict(test_scaler_15w_X)\n",
    "modelEvaluation(test_15w_y, y_pred_15w_rfrc)\n",
    "\n",
    "important_features = pd.Series(data=rf_model.feature_importances_,index=dataSoy15w.drop('GrainYield', axis=1).columns)\n",
    "important_features.sort_values(ascending=False,inplace=True)\n",
    "print(important_features[:5])"
   ]
  },
  {
   "cell_type": "code",
   "execution_count": null,
   "metadata": {
    "colab": {
     "base_uri": "https://localhost:8080/",
     "height": 278
    },
    "colab_type": "code",
    "executionInfo": {
     "elapsed": 442,
     "status": "ok",
     "timestamp": 1588995514430,
     "user": {
      "displayName": "Maura Tokay",
      "photoUrl": "",
      "userId": "08366631216777031425"
     },
     "user_tz": 240
    },
    "id": "wP2QhGZ5Y7qD",
    "outputId": "7aa1c270-db61-4026-a986-a22c3accf92f"
   },
   "outputs": [],
   "source": [
    "errorPlot(test_15w_y, y_pred_15w_rfrc)"
   ]
  },
  {
   "cell_type": "markdown",
   "metadata": {
    "colab_type": "text",
    "id": "B1FLHxSLc5MS"
   },
   "source": [
    "**Neural Network**"
   ]
  },
  {
   "cell_type": "markdown",
   "metadata": {
    "colab_type": "text",
    "id": "p25gBBujc7M0"
   },
   "source": [
    "***Build the model***\n",
    "\n",
    "\n",
    "Let's build our model. Here, we'll use a Sequential model with seven densely connected hidden layers, and an output layer that returns a single, continuous value. The model building steps are wrapped in a function, build_model, since we'll create a second model, later on."
   ]
  },
  {
   "cell_type": "code",
   "execution_count": null,
   "metadata": {
    "colab": {},
    "colab_type": "code",
    "id": "ir2cYS81dB3C"
   },
   "outputs": [],
   "source": [
    "def build_model():\n",
    "    model = keras.Sequential([\n",
    "        layers.Dense(128, activation='relu', input_shape=[len(train_15w_X.keys())]),\n",
    "        layers.Dense(64, activation='relu'),\n",
    "        layers.Dense(32, activation='relu'),\n",
    "        layers.Flatten(),\n",
    "        layers.Dense(64, activation='relu'),\n",
    "        layers.Dense(32, activation='relu'),\n",
    "        layers.Dense(16, activation='relu'),\n",
    "        layers.Dense(1)\n",
    "    ])\n",
    "    optimizer = tf.keras.optimizers.RMSprop(learning_rate=0.001)\n",
    "\n",
    "    model.compile(loss='mse',optimizer=optimizer,metrics=['mae', 'mse'])\n",
    "    return model"
   ]
  },
  {
   "cell_type": "code",
   "execution_count": null,
   "metadata": {
    "colab": {},
    "colab_type": "code",
    "id": "CjpmFpWJdPvS"
   },
   "outputs": [],
   "source": [
    "model = build_model()"
   ]
  },
  {
   "cell_type": "markdown",
   "metadata": {
    "colab_type": "text",
    "id": "fydGJ6fodW1q"
   },
   "source": [
    "***Inspect the model***\n",
    "\n",
    "Use the .summary method to print a simple description of the model"
   ]
  },
  {
   "cell_type": "code",
   "execution_count": null,
   "metadata": {
    "colab": {
     "base_uri": "https://localhost:8080/",
     "height": 443
    },
    "colab_type": "code",
    "executionInfo": {
     "elapsed": 820,
     "status": "ok",
     "timestamp": 1588995527354,
     "user": {
      "displayName": "Maura Tokay",
      "photoUrl": "",
      "userId": "08366631216777031425"
     },
     "user_tz": 240
    },
    "id": "446DNraSdZMK",
    "outputId": "85359433-ce68-4020-d151-051635be75fd"
   },
   "outputs": [],
   "source": [
    "model.summary()"
   ]
  },
  {
   "cell_type": "markdown",
   "metadata": {
    "colab_type": "text",
    "id": "HOZhFTopdiZw"
   },
   "source": [
    "***Train the model***\n",
    "\n",
    "Train the model for 200 epochs, and record the training and validation accuracy in the history object."
   ]
  },
  {
   "cell_type": "code",
   "execution_count": null,
   "metadata": {
    "colab": {
     "base_uri": "https://localhost:8080/",
     "height": 105
    },
    "colab_type": "code",
    "executionInfo": {
     "elapsed": 10414,
     "status": "ok",
     "timestamp": 1588995540573,
     "user": {
      "displayName": "Maura Tokay",
      "photoUrl": "",
      "userId": "08366631216777031425"
     },
     "user_tz": 240
    },
    "id": "BlAvEkHtdkc6",
    "outputId": "1627cf6c-b94b-4254-c230-a6e422c3b9fd"
   },
   "outputs": [],
   "source": [
    "EPOCHS = 200\n",
    "history = model.fit(train_scaler_15w_X, train_15w_y, epochs=EPOCHS, validation_split = 0.2, verbose=0, callbacks=[tfdocs.modeling.EpochDots()])"
   ]
  },
  {
   "cell_type": "code",
   "execution_count": null,
   "metadata": {
    "colab": {},
    "colab_type": "code",
    "id": "VeyEYEZOd8Fi"
   },
   "outputs": [],
   "source": [
    "plotter = tfdocs.plots.HistoryPlotter(smoothing_std=2)"
   ]
  },
  {
   "cell_type": "code",
   "execution_count": null,
   "metadata": {
    "colab": {
     "base_uri": "https://localhost:8080/",
     "height": 296
    },
    "colab_type": "code",
    "executionInfo": {
     "elapsed": 1156,
     "status": "ok",
     "timestamp": 1588995547330,
     "user": {
      "displayName": "Maura Tokay",
      "photoUrl": "",
      "userId": "08366631216777031425"
     },
     "user_tz": 240
    },
    "id": "DfRqJE2vd9ch",
    "outputId": "126480ee-240f-485f-c54c-c3f6ce6d2bde"
   },
   "outputs": [],
   "source": [
    "plotter.plot({'Basic': history}, metric = \"mae\")\n",
    "plt.ylabel('MAE [GrainYield]')"
   ]
  },
  {
   "cell_type": "code",
   "execution_count": null,
   "metadata": {
    "colab": {
     "base_uri": "https://localhost:8080/",
     "height": 307
    },
    "colab_type": "code",
    "executionInfo": {
     "elapsed": 1076,
     "status": "ok",
     "timestamp": 1588995550707,
     "user": {
      "displayName": "Maura Tokay",
      "photoUrl": "",
      "userId": "08366631216777031425"
     },
     "user_tz": 240
    },
    "id": "5tRfH8ubeDdW",
    "outputId": "dd6fe7c4-7626-4516-e296-95494fe64f73"
   },
   "outputs": [],
   "source": [
    "plotter.plot({'Basic': history}, metric = \"mse\")\n",
    "plt.ylabel('MSE [GrainYield^2]')"
   ]
  },
  {
   "cell_type": "code",
   "execution_count": null,
   "metadata": {
    "colab": {
     "base_uri": "https://localhost:8080/",
     "height": 70
    },
    "colab_type": "code",
    "executionInfo": {
     "elapsed": 3903,
     "status": "ok",
     "timestamp": 1588995559176,
     "user": {
      "displayName": "Maura Tokay",
      "photoUrl": "",
      "userId": "08366631216777031425"
     },
     "user_tz": 240
    },
    "id": "jpa9BjnweOy5",
    "outputId": "6f7d7295-6527-428b-e177-257b6249873d"
   },
   "outputs": [],
   "source": [
    "model = build_model()\n",
    "\n",
    "# The patience parameter is the amount of epochs to check for improvement\n",
    "early_stop = keras.callbacks.EarlyStopping(monitor='val_loss', patience=10)\n",
    "early_history = model.fit(train_scaler_15w_X, train_15w_y, epochs=EPOCHS, validation_split = 0.2, verbose=0, callbacks=[early_stop, tfdocs.modeling.EpochDots()])"
   ]
  },
  {
   "cell_type": "markdown",
   "metadata": {
    "colab_type": "text",
    "id": "HBD_FiFhedMo"
   },
   "source": [
    "Let's see how well the model generalizes by using the test set, which we did not use when training the model. This tells us how well we can expect the model to predict when we use it in the real world."
   ]
  },
  {
   "cell_type": "code",
   "execution_count": null,
   "metadata": {
    "colab": {
     "base_uri": "https://localhost:8080/",
     "height": 52
    },
    "colab_type": "code",
    "executionInfo": {
     "elapsed": 933,
     "status": "ok",
     "timestamp": 1588995562503,
     "user": {
      "displayName": "Maura Tokay",
      "photoUrl": "",
      "userId": "08366631216777031425"
     },
     "user_tz": 240
    },
    "id": "Xtg-KXleei9u",
    "outputId": "38da1b18-db66-4b0a-8c0b-07262154cb9b"
   },
   "outputs": [],
   "source": [
    "loss, mae, mse = model.evaluate(test_scaler_15w_X, test_15w_y, verbose=2)\n",
    "print(\"Testing set Mean Abs Error: {:5.2f} GrainYield\".format(mae))"
   ]
  },
  {
   "cell_type": "markdown",
   "metadata": {
    "colab_type": "text",
    "id": "6LZb3--wes3l"
   },
   "source": [
    "***Make predictions***\n",
    "\n",
    "Finally, predict GrainYield values using data in the testing set:"
   ]
  },
  {
   "cell_type": "code",
   "execution_count": null,
   "metadata": {
    "colab": {},
    "colab_type": "code",
    "id": "KRfHTkAaezyV"
   },
   "outputs": [],
   "source": [
    "y_pred_15w_nn = model.predict(test_scaler_15w_X).flatten()"
   ]
  },
  {
   "cell_type": "markdown",
   "metadata": {
    "colab_type": "text",
    "id": "p2iZYGLbe8S6"
   },
   "source": [
    "It looks like our model predicts reasonably well. Let's take a look at the error distribution."
   ]
  },
  {
   "cell_type": "code",
   "execution_count": null,
   "metadata": {
    "colab": {
     "base_uri": "https://localhost:8080/",
     "height": 350
    },
    "colab_type": "code",
    "executionInfo": {
     "elapsed": 1098,
     "status": "ok",
     "timestamp": 1588995574857,
     "user": {
      "displayName": "Maura Tokay",
      "photoUrl": "",
      "userId": "08366631216777031425"
     },
     "user_tz": 240
    },
    "id": "Gx0pnyc3e-gB",
    "outputId": "5e5cca4c-52ad-427e-d8ed-316b085c8eb8"
   },
   "outputs": [],
   "source": [
    "modelEvaluation(test_15w_y, y_pred_15w_nn)"
   ]
  },
  {
   "cell_type": "code",
   "execution_count": null,
   "metadata": {
    "colab": {
     "base_uri": "https://localhost:8080/",
     "height": 278
    },
    "colab_type": "code",
    "executionInfo": {
     "elapsed": 1027,
     "status": "ok",
     "timestamp": 1588995579447,
     "user": {
      "displayName": "Maura Tokay",
      "photoUrl": "",
      "userId": "08366631216777031425"
     },
     "user_tz": 240
    },
    "id": "P8cW-6b0fJBZ",
    "outputId": "8a889785-9c0f-42ec-b9c7-8b6b8493b9f1"
   },
   "outputs": [],
   "source": [
    "errorPlot(test_15w_y, y_pred_15w_nn)"
   ]
  },
  {
   "cell_type": "markdown",
   "metadata": {
    "colab_type": "text",
    "id": "WP5nyTpkS6Sm"
   },
   "source": [
    "# Soybean - 14 weeks"
   ]
  },
  {
   "cell_type": "code",
   "execution_count": null,
   "metadata": {
    "colab": {
     "base_uri": "https://localhost:8080/",
     "height": 1000,
     "output_embedded_package_id": "1z1ChUFJt05dUQnVgVICrDF9vSgUX7zcw"
    },
    "colab_type": "code",
    "executionInfo": {
     "elapsed": 5378,
     "status": "ok",
     "timestamp": 1588995600812,
     "user": {
      "displayName": "Maura Tokay",
      "photoUrl": "",
      "userId": "08366631216777031425"
     },
     "user_tz": 240
    },
    "id": "fIybXQqWS6Sn",
    "outputId": "b48d5691-56e9-4fce-8b88-8a397e87a918"
   },
   "outputs": [],
   "source": [
    "dataSoy14w = pd.read_csv('./dataset/soyFeatures14w.csv')\n",
    "corrSoy14w = dataSoy14w.corr()\n",
    "corrSoy14w.style.background_gradient(cmap='coolwarm').set_precision(2)"
   ]
  },
  {
   "cell_type": "code",
   "execution_count": null,
   "metadata": {
    "colab": {},
    "colab_type": "code",
    "id": "hu5PVs27S6Sv"
   },
   "outputs": [],
   "source": [
    "# Splitting data set\n",
    "train_14w_X, test_14w_X = train_test_split(dataSoy14w.drop('GrainYield', axis=1), random_state=1)\n",
    "train_14w_y, test_14w_y = train_test_split(dataSoy14w['GrainYield'], random_state=1)\n",
    "\n",
    "# Apply Robust Scaler\n",
    "scaler = RobustScaler()\n",
    "train_scaler_14w_X = scaler.fit_transform(train_14w_X)\n",
    "test_scaler_14w_X = scaler.transform(test_14w_X)"
   ]
  },
  {
   "cell_type": "markdown",
   "metadata": {
    "colab_type": "text",
    "id": "jygxjIpsS6Sy"
   },
   "source": [
    "**Lasso**"
   ]
  },
  {
   "cell_type": "code",
   "execution_count": null,
   "metadata": {
    "colab": {
     "base_uri": "https://localhost:8080/",
     "height": 618
    },
    "colab_type": "code",
    "executionInfo": {
     "elapsed": 1005,
     "status": "ok",
     "timestamp": 1588995622908,
     "user": {
      "displayName": "Maura Tokay",
      "photoUrl": "",
      "userId": "08366631216777031425"
     },
     "user_tz": 240
    },
    "id": "ZIMXOR3nS6Sy",
    "outputId": "ae9d68c8-0eee-4990-b801-e6adc701cc0f"
   },
   "outputs": [],
   "source": [
    "lm = linear_model.Lasso(alpha=0.6)\n",
    "lm.fit(train_scaler_14w_X,train_14w_y)\n",
    "y_pred_14w_lm = lm.predict(test_scaler_14w_X)\n",
    "modelEvaluation(test_14w_y, y_pred_14w_lm)\n",
    "\n",
    "important_features = pd.Series(data=lm.coef_,index=dataSoy14w.drop('GrainYield', axis=1).columns)\n",
    "important_features.sort_values(ascending=False,inplace=True)\n",
    "print(important_features[:5])\n",
    "print(important_features[-5:])"
   ]
  },
  {
   "cell_type": "code",
   "execution_count": null,
   "metadata": {
    "colab": {
     "base_uri": "https://localhost:8080/",
     "height": 278
    },
    "colab_type": "code",
    "executionInfo": {
     "elapsed": 864,
     "status": "ok",
     "timestamp": 1588995627728,
     "user": {
      "displayName": "Maura Tokay",
      "photoUrl": "",
      "userId": "08366631216777031425"
     },
     "user_tz": 240
    },
    "id": "mtGAA--_acH7",
    "outputId": "fdc1aba1-2e88-462e-a9b3-0fcceeb95655"
   },
   "outputs": [],
   "source": [
    "errorPlot(test_14w_y, y_pred_14w_lm)"
   ]
  },
  {
   "cell_type": "markdown",
   "metadata": {
    "colab_type": "text",
    "id": "ceeeocUES6S0"
   },
   "source": [
    "**Decision Tree Regressor**"
   ]
  },
  {
   "cell_type": "code",
   "execution_count": null,
   "metadata": {
    "colab": {
     "base_uri": "https://localhost:8080/",
     "height": 563
    },
    "colab_type": "code",
    "executionInfo": {
     "elapsed": 649,
     "status": "ok",
     "timestamp": 1588995631925,
     "user": {
      "displayName": "Maura Tokay",
      "photoUrl": "",
      "userId": "08366631216777031425"
     },
     "user_tz": 240
    },
    "id": "lt6yIzs9S6S0",
    "outputId": "6f6c89f5-5440-4c6f-99a9-43631f85d94b"
   },
   "outputs": [],
   "source": [
    "tree_model = DecisionTreeRegressor()\n",
    "tree_model.fit(train_scaler_14w_X,train_14w_y)\n",
    "y_pred_14w_dtr = tree_model.predict(test_scaler_14w_X)\n",
    "modelEvaluation(test_14w_y, y_pred_14w_dtr)\n",
    "\n",
    "mportant_features = pd.Series(data=tree_model.feature_importances_,index=dataSoy14w.drop('GrainYield', axis=1).columns)\n",
    "important_features.sort_values(ascending=False,inplace=True)\n",
    "print(important_features[:5])\n",
    "print(important_features[-5:])"
   ]
  },
  {
   "cell_type": "code",
   "execution_count": null,
   "metadata": {
    "colab": {
     "base_uri": "https://localhost:8080/",
     "height": 278
    },
    "colab_type": "code",
    "executionInfo": {
     "elapsed": 9572,
     "status": "ok",
     "timestamp": 1588995644836,
     "user": {
      "displayName": "Maura Tokay",
      "photoUrl": "",
      "userId": "08366631216777031425"
     },
     "user_tz": 240
    },
    "id": "xL2e_DrvbFcW",
    "outputId": "49c352ba-5869-48bb-9871-cc9a29f1d995"
   },
   "outputs": [],
   "source": [
    "errorPlot(test_14w_y, y_pred_14w_dtr)"
   ]
  },
  {
   "cell_type": "markdown",
   "metadata": {
    "colab_type": "text",
    "id": "EFQYMVR9S6S2"
   },
   "source": [
    "**Random Forest Regressor**"
   ]
  },
  {
   "cell_type": "code",
   "execution_count": null,
   "metadata": {
    "colab": {
     "base_uri": "https://localhost:8080/",
     "height": 456
    },
    "colab_type": "code",
    "executionInfo": {
     "elapsed": 1072,
     "status": "ok",
     "timestamp": 1588995649709,
     "user": {
      "displayName": "Maura Tokay",
      "photoUrl": "",
      "userId": "08366631216777031425"
     },
     "user_tz": 240
    },
    "id": "RR_0o8r-S6S2",
    "outputId": "d8fb8956-e444-41e2-80f9-1ceac37c3e74"
   },
   "outputs": [],
   "source": [
    "rf_model = RandomForestRegressor()\n",
    "rf_model.fit(train_scaler_14w_X,train_14w_y)\n",
    "y_pred_14w_rfr = rf_model.predict(test_scaler_14w_X)\n",
    "modelEvaluation(test_14w_y, y_pred_14w_rfr)\n",
    "\n",
    "important_features = pd.Series(data=rf_model.feature_importances_,index=dataSoy14w.drop('GrainYield', axis=1).columns)\n",
    "important_features.sort_values(ascending=False,inplace=True)\n",
    "print(important_features[:5])"
   ]
  },
  {
   "cell_type": "code",
   "execution_count": null,
   "metadata": {
    "colab": {
     "base_uri": "https://localhost:8080/",
     "height": 278
    },
    "colab_type": "code",
    "executionInfo": {
     "elapsed": 897,
     "status": "ok",
     "timestamp": 1588995654001,
     "user": {
      "displayName": "Maura Tokay",
      "photoUrl": "",
      "userId": "08366631216777031425"
     },
     "user_tz": 240
    },
    "id": "0syVgDDBbmtV",
    "outputId": "dff845ea-eb19-4c33-c758-bc24e71a2844"
   },
   "outputs": [],
   "source": [
    "errorPlot(test_14w_y, y_pred_14w_rfr)"
   ]
  },
  {
   "cell_type": "code",
   "execution_count": null,
   "metadata": {
    "colab": {
     "base_uri": "https://localhost:8080/",
     "height": 456
    },
    "colab_type": "code",
    "executionInfo": {
     "elapsed": 3453,
     "status": "ok",
     "timestamp": 1588995661810,
     "user": {
      "displayName": "Maura Tokay",
      "photoUrl": "",
      "userId": "08366631216777031425"
     },
     "user_tz": 240
    },
    "id": "i5ovKW1kS6S5",
    "outputId": "f1e011ab-d13e-4b8f-8c8e-07081538181b"
   },
   "outputs": [],
   "source": [
    "max_depth = 35\n",
    "n_est = 400\n",
    "rf_model = RandomForestRegressor(n_estimators=n_est,max_depth=max_depth,random_state=0)\n",
    "rf_model.fit(train_scaler_14w_X,train_14w_y)\n",
    "y_pred_14w_rfrc = rf_model.predict(test_scaler_14w_X)\n",
    "modelEvaluation(test_14w_y, y_pred_14w_rfrc)\n",
    "\n",
    "important_features = pd.Series(data=rf_model.feature_importances_,index=dataSoy14w.drop('GrainYield', axis=1).columns)\n",
    "important_features.sort_values(ascending=False,inplace=True)\n",
    "print(important_features[:5])"
   ]
  },
  {
   "cell_type": "code",
   "execution_count": null,
   "metadata": {
    "colab": {
     "base_uri": "https://localhost:8080/",
     "height": 278
    },
    "colab_type": "code",
    "executionInfo": {
     "elapsed": 1062,
     "status": "ok",
     "timestamp": 1588995666445,
     "user": {
      "displayName": "Maura Tokay",
      "photoUrl": "",
      "userId": "08366631216777031425"
     },
     "user_tz": 240
    },
    "id": "ny8xjkiuceKV",
    "outputId": "42ad0de1-e621-4670-8781-977c2030f18b"
   },
   "outputs": [],
   "source": [
    "errorPlot(test_14w_y, y_pred_14w_rfrc)"
   ]
  },
  {
   "cell_type": "markdown",
   "metadata": {
    "colab_type": "text",
    "id": "zB2ur2GLfsUG"
   },
   "source": [
    "**Neural Network**"
   ]
  },
  {
   "cell_type": "markdown",
   "metadata": {
    "colab_type": "text",
    "id": "wH6A7JhVfu-V"
   },
   "source": [
    "***Build the model***\n",
    "\n",
    "\n",
    "Let's build our model. Here, we'll use a Sequential model with seven densely connected hidden layers, and an output layer that returns a single, continuous value. The model building steps are wrapped in a function, build_model, since we'll create a second model, later on."
   ]
  },
  {
   "cell_type": "code",
   "execution_count": null,
   "metadata": {
    "colab": {},
    "colab_type": "code",
    "id": "eBr2y3xff0VE"
   },
   "outputs": [],
   "source": [
    "def build_model():\n",
    "    model = keras.Sequential([\n",
    "        layers.Dense(128, activation='relu', input_shape=[len(train_14w_X.keys())]),\n",
    "        layers.Dense(64, activation='relu'),\n",
    "        layers.Dense(32, activation='relu'),\n",
    "        layers.Flatten(),\n",
    "        layers.Dense(64, activation='relu'),\n",
    "        layers.Dense(32, activation='relu'),\n",
    "        layers.Dense(16, activation='relu'),\n",
    "        layers.Dense(1)\n",
    "    ])\n",
    "\n",
    "    optimizer = tf.keras.optimizers.RMSprop(0.001)\n",
    "\n",
    "    model.compile(loss='mse', optimizer=optimizer, metrics=['mae', 'mse'])\n",
    "    return model"
   ]
  },
  {
   "cell_type": "code",
   "execution_count": null,
   "metadata": {
    "colab": {},
    "colab_type": "code",
    "id": "A_E2rQzigAEy"
   },
   "outputs": [],
   "source": [
    "model = build_model()"
   ]
  },
  {
   "cell_type": "markdown",
   "metadata": {
    "colab_type": "text",
    "id": "D6w_qX70gFHR"
   },
   "source": [
    "***Inspect the model***\n",
    "\n",
    "Use the .summary method to print a simple description of the model"
   ]
  },
  {
   "cell_type": "code",
   "execution_count": null,
   "metadata": {
    "colab": {
     "base_uri": "https://localhost:8080/",
     "height": 443
    },
    "colab_type": "code",
    "executionInfo": {
     "elapsed": 833,
     "status": "ok",
     "timestamp": 1588995676604,
     "user": {
      "displayName": "Maura Tokay",
      "photoUrl": "",
      "userId": "08366631216777031425"
     },
     "user_tz": 240
    },
    "id": "HEVXVc2kgId5",
    "outputId": "c6f2c4cc-9f06-4ec3-cca7-37840ec32588"
   },
   "outputs": [],
   "source": [
    "model.summary()"
   ]
  },
  {
   "cell_type": "markdown",
   "metadata": {
    "colab_type": "text",
    "id": "WYqGIQ1xgRop"
   },
   "source": [
    "***Train the model***\n",
    "\n",
    "Train the model for 200 epochs, and record the training and validation accuracy in the history object."
   ]
  },
  {
   "cell_type": "code",
   "execution_count": null,
   "metadata": {
    "colab": {
     "base_uri": "https://localhost:8080/",
     "height": 105
    },
    "colab_type": "code",
    "executionInfo": {
     "elapsed": 10127,
     "status": "ok",
     "timestamp": 1588995690932,
     "user": {
      "displayName": "Maura Tokay",
      "photoUrl": "",
      "userId": "08366631216777031425"
     },
     "user_tz": 240
    },
    "id": "CbYYARHDgUrq",
    "outputId": "ec567edc-625c-406d-c901-cbba183bd75a"
   },
   "outputs": [],
   "source": [
    "EPOCHS = 200\n",
    "history = model.fit(train_scaler_14w_X, train_14w_y, epochs=EPOCHS, validation_split = 0.2, verbose=0, callbacks=[tfdocs.modeling.EpochDots()])"
   ]
  },
  {
   "cell_type": "code",
   "execution_count": null,
   "metadata": {
    "colab": {},
    "colab_type": "code",
    "id": "2Lu9bmrYgsCg"
   },
   "outputs": [],
   "source": [
    "plotter = tfdocs.plots.HistoryPlotter(smoothing_std=2)"
   ]
  },
  {
   "cell_type": "code",
   "execution_count": null,
   "metadata": {
    "colab": {
     "base_uri": "https://localhost:8080/",
     "height": 296
    },
    "colab_type": "code",
    "executionInfo": {
     "elapsed": 1081,
     "status": "ok",
     "timestamp": 1588995698016,
     "user": {
      "displayName": "Maura Tokay",
      "photoUrl": "",
      "userId": "08366631216777031425"
     },
     "user_tz": 240
    },
    "id": "cJ8f39v9gvfT",
    "outputId": "73386738-5411-46d4-cabd-c16e4b09a403"
   },
   "outputs": [],
   "source": [
    "plotter.plot({'Basic': history}, metric = \"mae\")\n",
    "plt.ylabel('MAE [GrainYield]')"
   ]
  },
  {
   "cell_type": "code",
   "execution_count": null,
   "metadata": {
    "colab": {
     "base_uri": "https://localhost:8080/",
     "height": 307
    },
    "colab_type": "code",
    "executionInfo": {
     "elapsed": 1112,
     "status": "ok",
     "timestamp": 1588995703257,
     "user": {
      "displayName": "Maura Tokay",
      "photoUrl": "",
      "userId": "08366631216777031425"
     },
     "user_tz": 240
    },
    "id": "h7CwoDwmg1v0",
    "outputId": "cdcef436-80c9-4704-d292-d26c454dd797"
   },
   "outputs": [],
   "source": [
    "plotter.plot({'Basic': history}, metric = \"mse\")\n",
    "plt.ylabel('MSE [GrainYield^2]')"
   ]
  },
  {
   "cell_type": "code",
   "execution_count": null,
   "metadata": {
    "colab": {
     "base_uri": "https://localhost:8080/",
     "height": 70
    },
    "colab_type": "code",
    "executionInfo": {
     "elapsed": 3043,
     "status": "ok",
     "timestamp": 1588995714834,
     "user": {
      "displayName": "Maura Tokay",
      "photoUrl": "",
      "userId": "08366631216777031425"
     },
     "user_tz": 240
    },
    "id": "Yb18wzw6g-8K",
    "outputId": "785d194f-4950-4389-d67c-23da747a7672"
   },
   "outputs": [],
   "source": [
    "model = build_model()\n",
    "\n",
    "# The patience parameter is the amount of epochs to check for improvement\n",
    "early_stop = keras.callbacks.EarlyStopping(monitor='val_loss', patience=10)\n",
    "early_history = model.fit(train_scaler_14w_X, train_14w_y, epochs=EPOCHS, validation_split = 0.2, verbose=0, callbacks=[early_stop, tfdocs.modeling.EpochDots()])"
   ]
  },
  {
   "cell_type": "code",
   "execution_count": null,
   "metadata": {
    "colab": {
     "base_uri": "https://localhost:8080/",
     "height": 52
    },
    "colab_type": "code",
    "executionInfo": {
     "elapsed": 858,
     "status": "ok",
     "timestamp": 1588995719908,
     "user": {
      "displayName": "Maura Tokay",
      "photoUrl": "",
      "userId": "08366631216777031425"
     },
     "user_tz": 240
    },
    "id": "AB-NYJEFhMv8",
    "outputId": "600bf1c2-f475-484c-8485-4fa49e909633"
   },
   "outputs": [],
   "source": [
    "loss, mae, mse = model.evaluate(test_scaler_14w_X, test_14w_y, verbose=2)\n",
    "print(\"Testing set Mean Abs Error: {:5.2f} GrainYield\".format(mae))"
   ]
  },
  {
   "cell_type": "code",
   "execution_count": null,
   "metadata": {
    "colab": {
     "base_uri": "https://localhost:8080/",
     "height": 350
    },
    "colab_type": "code",
    "executionInfo": {
     "elapsed": 1136,
     "status": "ok",
     "timestamp": 1588995725135,
     "user": {
      "displayName": "Maura Tokay",
      "photoUrl": "",
      "userId": "08366631216777031425"
     },
     "user_tz": 240
    },
    "id": "4sioz5SMhYe_",
    "outputId": "16b1222e-7eaf-41ad-a580-f98f3cae7db7"
   },
   "outputs": [],
   "source": [
    "y_pred_14w_nn = model.predict(test_scaler_14w_X).flatten()\n",
    "modelEvaluation(test_14w_y, y_pred_14w_nn)"
   ]
  },
  {
   "cell_type": "code",
   "execution_count": null,
   "metadata": {
    "colab": {
     "base_uri": "https://localhost:8080/",
     "height": 278
    },
    "colab_type": "code",
    "executionInfo": {
     "elapsed": 932,
     "status": "ok",
     "timestamp": 1588995730661,
     "user": {
      "displayName": "Maura Tokay",
      "photoUrl": "",
      "userId": "08366631216777031425"
     },
     "user_tz": 240
    },
    "id": "eNz6CjsAhjFJ",
    "outputId": "f0c8f6c8-0ae3-4927-ee5e-b6c13b3efd07"
   },
   "outputs": [],
   "source": [
    "errorPlot(test_14w_y, y_pred_14w_nn)"
   ]
  },
  {
   "cell_type": "markdown",
   "metadata": {
    "colab_type": "text",
    "id": "TOdV2kpcS6S6"
   },
   "source": [
    "# Soybean - 13 weeks"
   ]
  },
  {
   "cell_type": "code",
   "execution_count": null,
   "metadata": {
    "colab": {
     "base_uri": "https://localhost:8080/",
     "height": 1000,
     "output_embedded_package_id": "1KzRuqjJ043gZz0r5M7B4yQKZKRYgMRG4"
    },
    "colab_type": "code",
    "executionInfo": {
     "elapsed": 4663,
     "status": "ok",
     "timestamp": 1588995739214,
     "user": {
      "displayName": "Maura Tokay",
      "photoUrl": "",
      "userId": "08366631216777031425"
     },
     "user_tz": 240
    },
    "id": "OndF_zYnS6S7",
    "outputId": "9f536e9e-5a03-4011-a1ec-93a84fa3b98b"
   },
   "outputs": [],
   "source": [
    "dataSoy13w = pd.read_csv('./dataset/soyFeatures13w.csv')\n",
    "corrSoy13w = dataSoy13w.corr()\n",
    "corrSoy13w.style.background_gradient(cmap='coolwarm').set_precision(2)"
   ]
  },
  {
   "cell_type": "code",
   "execution_count": null,
   "metadata": {
    "colab": {},
    "colab_type": "code",
    "id": "8GxKnC9GS6S-"
   },
   "outputs": [],
   "source": [
    "# Splitting data set\n",
    "train_13w_X, test_13w_X = train_test_split(dataSoy13w.drop('GrainYield', axis=1), random_state=1)\n",
    "train_13w_y, test_13w_y = train_test_split(dataSoy13w['GrainYield'], random_state=1)\n",
    "\n",
    "# Apply Robust Scaler\n",
    "scaler = RobustScaler()\n",
    "train_scaler_13w_X = scaler.fit_transform(train_13w_X)\n",
    "test_scaler_13w_X = scaler.transform(test_13w_X)"
   ]
  },
  {
   "cell_type": "markdown",
   "metadata": {
    "colab_type": "text",
    "id": "0RTzV7BzS6TA"
   },
   "source": [
    "**Lasso**"
   ]
  },
  {
   "cell_type": "code",
   "execution_count": null,
   "metadata": {
    "colab": {
     "base_uri": "https://localhost:8080/",
     "height": 618
    },
    "colab_type": "code",
    "executionInfo": {
     "elapsed": 1086,
     "status": "ok",
     "timestamp": 1588995761341,
     "user": {
      "displayName": "Maura Tokay",
      "photoUrl": "",
      "userId": "08366631216777031425"
     },
     "user_tz": 240
    },
    "id": "6M-TlvjzS6TB",
    "outputId": "a52c8f8d-2f38-4c5e-dd75-413a6d67a499"
   },
   "outputs": [],
   "source": [
    "lm = linear_model.Lasso(alpha=0.7)\n",
    "lm.fit(train_scaler_13w_X,train_13w_y)\n",
    "y_pred_13w_lm = lm.predict(test_scaler_13w_X)\n",
    "modelEvaluation(test_13w_y, y_pred_13w_lm)\n",
    "\n",
    "important_features = pd.Series(data=lm.coef_,index=dataSoy13w.drop('GrainYield', axis=1).columns)\n",
    "important_features.sort_values(ascending=False,inplace=True)\n",
    "print(important_features[:5])\n",
    "print(important_features[-5:])"
   ]
  },
  {
   "cell_type": "code",
   "execution_count": null,
   "metadata": {
    "colab": {
     "base_uri": "https://localhost:8080/",
     "height": 278
    },
    "colab_type": "code",
    "executionInfo": {
     "elapsed": 1424,
     "status": "ok",
     "timestamp": 1588995766829,
     "user": {
      "displayName": "Maura Tokay",
      "photoUrl": "",
      "userId": "08366631216777031425"
     },
     "user_tz": 240
    },
    "id": "TLjKEB6OihpJ",
    "outputId": "477494ab-7147-47c9-8933-3f5ef1541101"
   },
   "outputs": [],
   "source": [
    "errorPlot(test_13w_y, y_pred_13w_lm)"
   ]
  },
  {
   "cell_type": "markdown",
   "metadata": {
    "colab_type": "text",
    "id": "2qXRWD3tS6TD"
   },
   "source": [
    "**Decision Tree Regressor**"
   ]
  },
  {
   "cell_type": "code",
   "execution_count": null,
   "metadata": {
    "colab": {
     "base_uri": "https://localhost:8080/",
     "height": 563
    },
    "colab_type": "code",
    "executionInfo": {
     "elapsed": 1424,
     "status": "ok",
     "timestamp": 1588995772119,
     "user": {
      "displayName": "Maura Tokay",
      "photoUrl": "",
      "userId": "08366631216777031425"
     },
     "user_tz": 240
    },
    "id": "0-kGCr8bS6TD",
    "outputId": "4923c725-a731-4c95-935a-89a88441e532"
   },
   "outputs": [],
   "source": [
    "tree_model = DecisionTreeRegressor()\n",
    "tree_model.fit(train_scaler_13w_X,train_13w_y)\n",
    "y_pred_13w_dtr = tree_model.predict(test_scaler_13w_X)\n",
    "modelEvaluation(test_13w_y, y_pred_13w_dtr)\n",
    "\n",
    "mportant_features = pd.Series(data=tree_model.feature_importances_,index=dataSoy13w.drop('GrainYield', axis=1).columns)\n",
    "important_features.sort_values(ascending=False,inplace=True)\n",
    "print(important_features[:5])\n",
    "print(important_features[-5:])"
   ]
  },
  {
   "cell_type": "code",
   "execution_count": null,
   "metadata": {
    "colab": {
     "base_uri": "https://localhost:8080/",
     "height": 278
    },
    "colab_type": "code",
    "executionInfo": {
     "elapsed": 599,
     "status": "ok",
     "timestamp": 1588995776748,
     "user": {
      "displayName": "Maura Tokay",
      "photoUrl": "",
      "userId": "08366631216777031425"
     },
     "user_tz": 240
    },
    "id": "PqTr9esujK4K",
    "outputId": "d4ee566e-a8d6-4503-e81f-863ebb4f6713"
   },
   "outputs": [],
   "source": [
    "errorPlot(test_13w_y, y_pred_13w_dtr)"
   ]
  },
  {
   "cell_type": "markdown",
   "metadata": {
    "colab_type": "text",
    "id": "QhlzqNY3S6TF"
   },
   "source": [
    "**Random Forest Regressor**"
   ]
  },
  {
   "cell_type": "code",
   "execution_count": null,
   "metadata": {
    "colab": {
     "base_uri": "https://localhost:8080/",
     "height": 456
    },
    "colab_type": "code",
    "executionInfo": {
     "elapsed": 1628,
     "status": "ok",
     "timestamp": 1588995782070,
     "user": {
      "displayName": "Maura Tokay",
      "photoUrl": "",
      "userId": "08366631216777031425"
     },
     "user_tz": 240
    },
    "id": "zijejVsDS6TF",
    "outputId": "e1bc831f-c9e2-44a2-d3d1-2f3456d3ebf6"
   },
   "outputs": [],
   "source": [
    "rf_model = RandomForestRegressor()\n",
    "rf_model.fit(train_scaler_13w_X,train_13w_y)\n",
    "y_pred_13w_rfr = rf_model.predict(test_scaler_13w_X)\n",
    "modelEvaluation(test_13w_y, y_pred_13w_rfr)\n",
    "\n",
    "important_features = pd.Series(data=rf_model.feature_importances_,index=dataSoy13w.drop('GrainYield', axis=1).columns)\n",
    "important_features.sort_values(ascending=False,inplace=True)\n",
    "print(important_features[:5])"
   ]
  },
  {
   "cell_type": "code",
   "execution_count": null,
   "metadata": {
    "colab": {
     "base_uri": "https://localhost:8080/",
     "height": 278
    },
    "colab_type": "code",
    "executionInfo": {
     "elapsed": 855,
     "status": "ok",
     "timestamp": 1588995785301,
     "user": {
      "displayName": "Maura Tokay",
      "photoUrl": "",
      "userId": "08366631216777031425"
     },
     "user_tz": 240
    },
    "id": "O3762CDAlRrQ",
    "outputId": "53694de9-ef9a-46df-ca66-363992153241"
   },
   "outputs": [],
   "source": [
    "errorPlot(test_13w_y, y_pred_13w_rfr)"
   ]
  },
  {
   "cell_type": "code",
   "execution_count": null,
   "metadata": {
    "colab": {
     "base_uri": "https://localhost:8080/",
     "height": 456
    },
    "colab_type": "code",
    "executionInfo": {
     "elapsed": 3309,
     "status": "ok",
     "timestamp": 1588995792393,
     "user": {
      "displayName": "Maura Tokay",
      "photoUrl": "",
      "userId": "08366631216777031425"
     },
     "user_tz": 240
    },
    "id": "dDziUgZHS6TH",
    "outputId": "505e6e42-1b9c-42b5-a45b-cc2a1d832ff5"
   },
   "outputs": [],
   "source": [
    "max_depth = 25\n",
    "n_est = 400\n",
    "rf_model = RandomForestRegressor(n_estimators=n_est,max_depth=max_depth,random_state=0)\n",
    "rf_model.fit(train_scaler_13w_X,train_13w_y)\n",
    "y_pred_13w_rfrc = rf_model.predict(test_scaler_13w_X)\n",
    "modelEvaluation(test_13w_y, y_pred_13w_rfrc)\n",
    "\n",
    "important_features = pd.Series(data=rf_model.feature_importances_,index=dataSoy13w.drop('GrainYield', axis=1).columns)\n",
    "important_features.sort_values(ascending=False,inplace=True)\n",
    "print(important_features[:5])"
   ]
  },
  {
   "cell_type": "code",
   "execution_count": null,
   "metadata": {
    "colab": {
     "base_uri": "https://localhost:8080/",
     "height": 278
    },
    "colab_type": "code",
    "executionInfo": {
     "elapsed": 1043,
     "status": "ok",
     "timestamp": 1588995796567,
     "user": {
      "displayName": "Maura Tokay",
      "photoUrl": "",
      "userId": "08366631216777031425"
     },
     "user_tz": 240
    },
    "id": "CbhgoQFxS6TI",
    "outputId": "fee4c53b-ecb8-4ec4-d4ce-e000939ca3ee"
   },
   "outputs": [],
   "source": [
    "errorPlot(test_13w_y, y_pred_13w_rfrc)"
   ]
  },
  {
   "cell_type": "markdown",
   "metadata": {
    "colab_type": "text",
    "id": "iLRi57d1lgF7"
   },
   "source": [
    "**Neural Network**"
   ]
  },
  {
   "cell_type": "markdown",
   "metadata": {
    "colab_type": "text",
    "id": "VyGXEUTFljNh"
   },
   "source": [
    "***Build the model***\n",
    "\n",
    "Let's build our model. Here, we'll use a Sequential model with seven densely connected hidden layers, and an output layer that returns a single, continuous value. The model building steps are wrapped in a function, build_model, since we'll create a second model, later on."
   ]
  },
  {
   "cell_type": "code",
   "execution_count": null,
   "metadata": {
    "colab": {},
    "colab_type": "code",
    "id": "9UmT-bi9lsRF"
   },
   "outputs": [],
   "source": [
    "def build_model():\n",
    "    model = keras.Sequential([\n",
    "        layers.Dense(128, activation='relu', input_shape=[len(train_13w_X.keys())]),\n",
    "        layers.Dense(64, activation='relu'),\n",
    "        layers.Dense(32, activation='relu'),\n",
    "        layers.Flatten(),\n",
    "        layers.Dense(64, activation='relu'),\n",
    "        layers.Dense(32, activation='relu'),\n",
    "        layers.Dense(16, activation='relu'),\n",
    "        layers.Dense(1)\n",
    "    ])\n",
    "\n",
    "    optimizer = tf.keras.optimizers.RMSprop(0.001)\n",
    "\n",
    "    model.compile(loss='mse',optimizer=optimizer,metrics=['mae', 'mse'])\n",
    "    return model"
   ]
  },
  {
   "cell_type": "code",
   "execution_count": null,
   "metadata": {
    "colab": {},
    "colab_type": "code",
    "id": "x6khtBoIlzvR"
   },
   "outputs": [],
   "source": [
    "model = build_model()"
   ]
  },
  {
   "cell_type": "markdown",
   "metadata": {
    "colab_type": "text",
    "id": "MG_MmxMLl388"
   },
   "source": [
    "***Inspect the model***\n",
    "\n",
    "Use the .summary method to print a simple description of the model"
   ]
  },
  {
   "cell_type": "code",
   "execution_count": null,
   "metadata": {
    "colab": {
     "base_uri": "https://localhost:8080/",
     "height": 443
    },
    "colab_type": "code",
    "executionInfo": {
     "elapsed": 895,
     "status": "ok",
     "timestamp": 1588995820836,
     "user": {
      "displayName": "Maura Tokay",
      "photoUrl": "",
      "userId": "08366631216777031425"
     },
     "user_tz": 240
    },
    "id": "nN5fFa8-l-CA",
    "outputId": "6a09be78-f1c3-4f31-b81e-8524b53c2d3d"
   },
   "outputs": [],
   "source": [
    "model.summary()"
   ]
  },
  {
   "cell_type": "markdown",
   "metadata": {
    "colab_type": "text",
    "id": "THHsarZfmYOI"
   },
   "source": [
    "***Train the model***\n",
    "\n",
    "Train the model for 200 epochs, and record the training and validation accuracy in the history object."
   ]
  },
  {
   "cell_type": "code",
   "execution_count": null,
   "metadata": {
    "colab": {
     "base_uri": "https://localhost:8080/",
     "height": 105
    },
    "colab_type": "code",
    "executionInfo": {
     "elapsed": 10239,
     "status": "ok",
     "timestamp": 1588995834989,
     "user": {
      "displayName": "Maura Tokay",
      "photoUrl": "",
      "userId": "08366631216777031425"
     },
     "user_tz": 240
    },
    "id": "RjQFKpGamIIb",
    "outputId": "5a8115df-0435-4eb8-b986-91cdaa754265"
   },
   "outputs": [],
   "source": [
    "EPOCHS = 200\n",
    "history = model.fit(train_scaler_13w_X, train_13w_y, epochs=EPOCHS, validation_split = 0.2, verbose=0, callbacks=[tfdocs.modeling.EpochDots()])"
   ]
  },
  {
   "cell_type": "code",
   "execution_count": null,
   "metadata": {
    "colab": {},
    "colab_type": "code",
    "id": "xjp7Yn-Ynncb"
   },
   "outputs": [],
   "source": [
    "plotter = tfdocs.plots.HistoryPlotter(smoothing_std=2)"
   ]
  },
  {
   "cell_type": "code",
   "execution_count": null,
   "metadata": {
    "colab": {
     "base_uri": "https://localhost:8080/",
     "height": 296
    },
    "colab_type": "code",
    "executionInfo": {
     "elapsed": 1147,
     "status": "ok",
     "timestamp": 1588995841208,
     "user": {
      "displayName": "Maura Tokay",
      "photoUrl": "",
      "userId": "08366631216777031425"
     },
     "user_tz": 240
    },
    "id": "7YwNFPhDnpwo",
    "outputId": "faf64e25-13b8-4fc5-dc51-5c8be8d41a13"
   },
   "outputs": [],
   "source": [
    "plotter.plot({'Basic': history}, metric = \"mae\")\n",
    "plt.ylabel('MAE [GrainYield]')"
   ]
  },
  {
   "cell_type": "code",
   "execution_count": null,
   "metadata": {
    "colab": {
     "base_uri": "https://localhost:8080/",
     "height": 307
    },
    "colab_type": "code",
    "executionInfo": {
     "elapsed": 870,
     "status": "ok",
     "timestamp": 1588995845342,
     "user": {
      "displayName": "Maura Tokay",
      "photoUrl": "",
      "userId": "08366631216777031425"
     },
     "user_tz": 240
    },
    "id": "8GimyQ4wnph4",
    "outputId": "47833652-d9ee-43cd-9e48-5444c534848c"
   },
   "outputs": [],
   "source": [
    "plotter.plot({'Basic': history}, metric = \"mse\")\n",
    "plt.ylabel('MSE [GrainYield^2]')"
   ]
  },
  {
   "cell_type": "code",
   "execution_count": null,
   "metadata": {
    "colab": {
     "base_uri": "https://localhost:8080/",
     "height": 70
    },
    "colab_type": "code",
    "executionInfo": {
     "elapsed": 5864,
     "status": "ok",
     "timestamp": 1588995858321,
     "user": {
      "displayName": "Maura Tokay",
      "photoUrl": "",
      "userId": "08366631216777031425"
     },
     "user_tz": 240
    },
    "id": "sYsGaFdYn5sY",
    "outputId": "4fe638c5-65ad-4ec3-9fed-0d2133f739db"
   },
   "outputs": [],
   "source": [
    "model = build_model()\n",
    "\n",
    "# The patience parameter is the amount of epochs to check for improvement\n",
    "early_stop = keras.callbacks.EarlyStopping(monitor='val_loss', patience=30)\n",
    "early_history = model.fit(train_scaler_13w_X, train_13w_y, epochs=EPOCHS, validation_split = 0.2, verbose=0, callbacks=[early_stop, tfdocs.modeling.EpochDots()])"
   ]
  },
  {
   "cell_type": "code",
   "execution_count": null,
   "metadata": {
    "colab": {
     "base_uri": "https://localhost:8080/",
     "height": 52
    },
    "colab_type": "code",
    "executionInfo": {
     "elapsed": 758,
     "status": "ok",
     "timestamp": 1588995862655,
     "user": {
      "displayName": "Maura Tokay",
      "photoUrl": "",
      "userId": "08366631216777031425"
     },
     "user_tz": 240
    },
    "id": "QE299SoEoDOo",
    "outputId": "d2be66c1-990c-411d-d81b-78495834ea06"
   },
   "outputs": [],
   "source": [
    "loss, mae, mse = model.evaluate(test_scaler_13w_X, test_13w_y, verbose=2)\n",
    "print(\"Testing set Mean Abs Error: {:5.2f} GrainYield\".format(mae))"
   ]
  },
  {
   "cell_type": "code",
   "execution_count": null,
   "metadata": {
    "colab": {
     "base_uri": "https://localhost:8080/",
     "height": 350
    },
    "colab_type": "code",
    "executionInfo": {
     "elapsed": 1426,
     "status": "ok",
     "timestamp": 1588995866187,
     "user": {
      "displayName": "Maura Tokay",
      "photoUrl": "",
      "userId": "08366631216777031425"
     },
     "user_tz": 240
    },
    "id": "fs9Y-UujoMV7",
    "outputId": "98a6d3be-7994-4224-ca75-0974155b15ba"
   },
   "outputs": [],
   "source": [
    "y_pred_13w_nn = model.predict(test_scaler_13w_X).flatten()\n",
    "modelEvaluation(test_13w_y, y_pred_13w_nn)"
   ]
  },
  {
   "cell_type": "code",
   "execution_count": null,
   "metadata": {
    "colab": {
     "base_uri": "https://localhost:8080/",
     "height": 278
    },
    "colab_type": "code",
    "executionInfo": {
     "elapsed": 1042,
     "status": "ok",
     "timestamp": 1588995869722,
     "user": {
      "displayName": "Maura Tokay",
      "photoUrl": "",
      "userId": "08366631216777031425"
     },
     "user_tz": 240
    },
    "id": "GHZ5ZYWLoW9H",
    "outputId": "5955b0ae-3f06-4ffc-e256-241704d25b7e"
   },
   "outputs": [],
   "source": [
    "errorPlot(test_13w_y, y_pred_13w_nn)"
   ]
  },
  {
   "cell_type": "markdown",
   "metadata": {
    "colab_type": "text",
    "id": "1ckXjGfNiN-C"
   },
   "source": [
    "# Soybean - 12 weeks"
   ]
  },
  {
   "cell_type": "code",
   "execution_count": null,
   "metadata": {
    "colab": {
     "base_uri": "https://localhost:8080/",
     "height": 1000
    },
    "colab_type": "code",
    "executionInfo": {
     "elapsed": 4437,
     "status": "ok",
     "timestamp": 1588996047078,
     "user": {
      "displayName": "Maura Tokay",
      "photoUrl": "",
      "userId": "08366631216777031425"
     },
     "user_tz": 240
    },
    "id": "gxYP8exPiwqV",
    "outputId": "ba9c146e-a580-41f2-f519-5c28f343fdb2"
   },
   "outputs": [],
   "source": [
    "dataSoy12w = pd.read_csv('./dataset/soyFeatures12w.csv')\n",
    "corrSoy12w = dataSoy12w.corr()\n",
    "corrSoy12w.style.background_gradient(cmap='coolwarm').set_precision(2)"
   ]
  },
  {
   "cell_type": "code",
   "execution_count": null,
   "metadata": {
    "colab": {},
    "colab_type": "code",
    "id": "mGhVthtei_gq"
   },
   "outputs": [],
   "source": [
    "# Splitting data set\n",
    "train_12w_X, test_12w_X = train_test_split(dataSoy12w.drop('GrainYield', axis=1), random_state=1)\n",
    "train_12w_y, test_12w_y = train_test_split(dataSoy12w['GrainYield'], random_state=1)\n",
    "\n",
    "# Apply Robust Scaler\n",
    "scaler = RobustScaler()\n",
    "train_scaler_12w_X = scaler.fit_transform(train_12w_X)\n",
    "test_scaler_12w_X = scaler.transform(test_12w_X)"
   ]
  },
  {
   "cell_type": "markdown",
   "metadata": {
    "colab_type": "text",
    "id": "_bGcsIhfjLlk"
   },
   "source": [
    "**Lasso**"
   ]
  },
  {
   "cell_type": "code",
   "execution_count": null,
   "metadata": {
    "colab": {
     "base_uri": "https://localhost:8080/",
     "height": 618
    },
    "colab_type": "code",
    "executionInfo": {
     "elapsed": 2501,
     "status": "ok",
     "timestamp": 1588996231258,
     "user": {
      "displayName": "Maura Tokay",
      "photoUrl": "",
      "userId": "08366631216777031425"
     },
     "user_tz": 240
    },
    "id": "t8CCCOWzjTzq",
    "outputId": "ad736fbc-23ce-4c9f-e8e0-dd68509d7bd0"
   },
   "outputs": [],
   "source": [
    "lm = linear_model.Lasso(alpha=0.7)\n",
    "lm.fit(train_scaler_12w_X,train_12w_y)\n",
    "y_pred_12w_lm = lm.predict(test_scaler_12w_X)\n",
    "modelEvaluation(test_12w_y, y_pred_12w_lm)\n",
    "\n",
    "important_features = pd.Series(data=lm.coef_,index=dataSoy12w.drop('GrainYield', axis=1).columns)\n",
    "important_features.sort_values(ascending=False,inplace=True)\n",
    "print(important_features[:5])\n",
    "print(important_features[-5:])"
   ]
  },
  {
   "cell_type": "code",
   "execution_count": null,
   "metadata": {
    "colab": {
     "base_uri": "https://localhost:8080/",
     "height": 278
    },
    "colab_type": "code",
    "executionInfo": {
     "elapsed": 886,
     "status": "ok",
     "timestamp": 1588996285216,
     "user": {
      "displayName": "Maura Tokay",
      "photoUrl": "",
      "userId": "08366631216777031425"
     },
     "user_tz": 240
    },
    "id": "NbfamwA9jvNP",
    "outputId": "aaae52db-ce84-40dc-96e3-d93e35a69d99"
   },
   "outputs": [],
   "source": [
    "errorPlot(test_12w_y, y_pred_12w_lm)"
   ]
  },
  {
   "cell_type": "markdown",
   "metadata": {
    "colab_type": "text",
    "id": "gViUEDBtj0Lf"
   },
   "source": [
    "**Decision Tree Regressor**"
   ]
  },
  {
   "cell_type": "code",
   "execution_count": null,
   "metadata": {
    "colab": {
     "base_uri": "https://localhost:8080/",
     "height": 563
    },
    "colab_type": "code",
    "executionInfo": {
     "elapsed": 1080,
     "status": "ok",
     "timestamp": 1588996395942,
     "user": {
      "displayName": "Maura Tokay",
      "photoUrl": "",
      "userId": "08366631216777031425"
     },
     "user_tz": 240
    },
    "id": "G_7W1X2uj9Wf",
    "outputId": "25a4eb03-84ca-4916-9492-451e87d804b6"
   },
   "outputs": [],
   "source": [
    "tree_model = DecisionTreeRegressor()\n",
    "tree_model.fit(train_scaler_12w_X,train_12w_y)\n",
    "y_pred_12w_dtr = tree_model.predict(test_scaler_12w_X)\n",
    "modelEvaluation(test_12w_y, y_pred_12w_dtr)\n",
    "\n",
    "mportant_features = pd.Series(data=tree_model.feature_importances_,index=dataSoy12w.drop('GrainYield', axis=1).columns)\n",
    "important_features.sort_values(ascending=False,inplace=True)\n",
    "print(important_features[:5])\n",
    "print(important_features[-5:])"
   ]
  },
  {
   "cell_type": "code",
   "execution_count": null,
   "metadata": {
    "colab": {
     "base_uri": "https://localhost:8080/",
     "height": 278
    },
    "colab_type": "code",
    "executionInfo": {
     "elapsed": 764,
     "status": "ok",
     "timestamp": 1588996454442,
     "user": {
      "displayName": "Maura Tokay",
      "photoUrl": "",
      "userId": "08366631216777031425"
     },
     "user_tz": 240
    },
    "id": "ZzWLcVPDkW6i",
    "outputId": "a19ddbf4-6539-47d1-ab65-e4d999232795"
   },
   "outputs": [],
   "source": [
    "errorPlot(test_12w_y, y_pred_12w_dtr)"
   ]
  },
  {
   "cell_type": "markdown",
   "metadata": {
    "colab_type": "text",
    "id": "k5qWSJ8gklNA"
   },
   "source": [
    "**Random Forest Regressor**"
   ]
  },
  {
   "cell_type": "code",
   "execution_count": null,
   "metadata": {
    "colab": {
     "base_uri": "https://localhost:8080/",
     "height": 456
    },
    "colab_type": "code",
    "executionInfo": {
     "elapsed": 1206,
     "status": "ok",
     "timestamp": 1588996565559,
     "user": {
      "displayName": "Maura Tokay",
      "photoUrl": "",
      "userId": "08366631216777031425"
     },
     "user_tz": 240
    },
    "id": "93nJinU7kmiJ",
    "outputId": "fb42229e-b704-4b5e-ceb5-cc1bd8368358"
   },
   "outputs": [],
   "source": [
    "rf_model = RandomForestRegressor()\n",
    "rf_model.fit(train_scaler_12w_X,train_12w_y)\n",
    "y_pred_12w_rfr = rf_model.predict(test_scaler_12w_X)\n",
    "modelEvaluation(test_12w_y, y_pred_12w_rfr)\n",
    "\n",
    "important_features = pd.Series(data=rf_model.feature_importances_,index=dataSoy12w.drop('GrainYield', axis=1).columns)\n",
    "important_features.sort_values(ascending=False,inplace=True)\n",
    "print(important_features[:5])"
   ]
  },
  {
   "cell_type": "code",
   "execution_count": null,
   "metadata": {
    "colab": {
     "base_uri": "https://localhost:8080/",
     "height": 278
    },
    "colab_type": "code",
    "executionInfo": {
     "elapsed": 871,
     "status": "ok",
     "timestamp": 1588996617224,
     "user": {
      "displayName": "Maura Tokay",
      "photoUrl": "",
      "userId": "08366631216777031425"
     },
     "user_tz": 240
    },
    "id": "-aK4zvntlAQu",
    "outputId": "651f20a5-4019-4518-d141-1da683188e50"
   },
   "outputs": [],
   "source": [
    "errorPlot(test_12w_y, y_pred_12w_rfr)"
   ]
  },
  {
   "cell_type": "code",
   "execution_count": null,
   "metadata": {
    "colab": {
     "base_uri": "https://localhost:8080/",
     "height": 456
    },
    "colab_type": "code",
    "executionInfo": {
     "elapsed": 2760,
     "status": "ok",
     "timestamp": 1588996718449,
     "user": {
      "displayName": "Maura Tokay",
      "photoUrl": "",
      "userId": "08366631216777031425"
     },
     "user_tz": 240
    },
    "id": "SkXxqWSvlQrF",
    "outputId": "83fd0ecb-c4df-4b8e-bc0f-237ac14e6361"
   },
   "outputs": [],
   "source": [
    "max_depth = 25\n",
    "n_est = 400\n",
    "rf_model = RandomForestRegressor(n_estimators=n_est,max_depth=max_depth,random_state=0)\n",
    "rf_model.fit(train_scaler_12w_X,train_12w_y)\n",
    "y_pred_12w_rfrc = rf_model.predict(test_scaler_12w_X)\n",
    "modelEvaluation(test_12w_y, y_pred_12w_rfrc)\n",
    "\n",
    "important_features = pd.Series(data=rf_model.feature_importances_,index=dataSoy12w.drop('GrainYield', axis=1).columns)\n",
    "important_features.sort_values(ascending=False,inplace=True)\n",
    "print(important_features[:5])"
   ]
  },
  {
   "cell_type": "code",
   "execution_count": null,
   "metadata": {
    "colab": {
     "base_uri": "https://localhost:8080/",
     "height": 278
    },
    "colab_type": "code",
    "executionInfo": {
     "elapsed": 475,
     "status": "ok",
     "timestamp": 1588996776237,
     "user": {
      "displayName": "Maura Tokay",
      "photoUrl": "",
      "userId": "08366631216777031425"
     },
     "user_tz": 240
    },
    "id": "dpDLt37klm25",
    "outputId": "1f2bb59c-fa4a-4b09-8504-59b825eda271"
   },
   "outputs": [],
   "source": [
    "errorPlot(test_12w_y, y_pred_12w_rfrc)"
   ]
  },
  {
   "cell_type": "markdown",
   "metadata": {
    "colab_type": "text",
    "id": "XvJQK_F4lsDP"
   },
   "source": [
    "**Neural Network**"
   ]
  },
  {
   "cell_type": "markdown",
   "metadata": {
    "colab_type": "text",
    "id": "wiS_vfYWl2Ba"
   },
   "source": [
    "***Build the model***\n",
    "\n",
    "Let's build our model. Here, we'll use a Sequential model with seven densely connected hidden layers, and an output layer that returns a single, continuous value. The model building steps are wrapped in a function, build_model, since we'll create a second model, later on."
   ]
  },
  {
   "cell_type": "code",
   "execution_count": null,
   "metadata": {
    "colab": {},
    "colab_type": "code",
    "id": "keaeyHEll_tK"
   },
   "outputs": [],
   "source": [
    "def build_model():\n",
    "    model = keras.Sequential([\n",
    "        layers.Dense(128, activation='relu', input_shape=[len(train_12w_X.keys())]),\n",
    "        layers.Dense(64, activation='relu'),\n",
    "        layers.Dense(32, activation='relu'),\n",
    "        layers.Flatten(),\n",
    "        layers.Dense(64, activation='relu'),\n",
    "        layers.Dense(32, activation='relu'),\n",
    "        layers.Dense(16, activation='relu'),\n",
    "        layers.Dense(1)\n",
    "    ])\n",
    "\n",
    "    optimizer = tf.keras.optimizers.RMSprop(0.001)\n",
    "\n",
    "    model.compile(loss='mse',optimizer=optimizer,metrics=['mae', 'mse'])\n",
    "    return model"
   ]
  },
  {
   "cell_type": "code",
   "execution_count": null,
   "metadata": {
    "colab": {},
    "colab_type": "code",
    "id": "d_WelT16mQU9"
   },
   "outputs": [],
   "source": [
    "model = build_model()"
   ]
  },
  {
   "cell_type": "markdown",
   "metadata": {
    "colab_type": "text",
    "id": "8QOLD4hXmaLz"
   },
   "source": [
    "***Inspect the model***\n",
    "\n",
    "Use the .summary method to print a simple description of the model"
   ]
  },
  {
   "cell_type": "code",
   "execution_count": null,
   "metadata": {
    "colab": {
     "base_uri": "https://localhost:8080/",
     "height": 443
    },
    "colab_type": "code",
    "executionInfo": {
     "elapsed": 745,
     "status": "ok",
     "timestamp": 1588996996312,
     "user": {
      "displayName": "Maura Tokay",
      "photoUrl": "",
      "userId": "08366631216777031425"
     },
     "user_tz": 240
    },
    "id": "sBIR9tIDmc2W",
    "outputId": "e31ec374-a935-44e7-87d2-0c6e53c2eeae"
   },
   "outputs": [],
   "source": [
    "model.summary()"
   ]
  },
  {
   "cell_type": "markdown",
   "metadata": {
    "colab_type": "text",
    "id": "BN4-Kpwjmo1O"
   },
   "source": [
    "***Train the model***\n",
    "\n",
    "Train the model for 200 epochs, and record the training and validation accuracy in the history object."
   ]
  },
  {
   "cell_type": "code",
   "execution_count": null,
   "metadata": {
    "colab": {
     "base_uri": "https://localhost:8080/",
     "height": 105
    },
    "colab_type": "code",
    "executionInfo": {
     "elapsed": 11876,
     "status": "ok",
     "timestamp": 1588997095258,
     "user": {
      "displayName": "Maura Tokay",
      "photoUrl": "",
      "userId": "08366631216777031425"
     },
     "user_tz": 240
    },
    "id": "PDf5wdNYmw2S",
    "outputId": "5e34dcb3-fed6-43a9-cefa-0f0a2b286e8f"
   },
   "outputs": [],
   "source": [
    "EPOCHS = 200\n",
    "history = model.fit(train_scaler_12w_X, train_12w_y, epochs=EPOCHS, validation_split = 0.2, verbose=0, callbacks=[tfdocs.modeling.EpochDots()])"
   ]
  },
  {
   "cell_type": "code",
   "execution_count": null,
   "metadata": {
    "colab": {},
    "colab_type": "code",
    "id": "SJCBCtI0nXKv"
   },
   "outputs": [],
   "source": [
    "plotter = tfdocs.plots.HistoryPlotter(smoothing_std=2)"
   ]
  },
  {
   "cell_type": "code",
   "execution_count": null,
   "metadata": {
    "colab": {
     "base_uri": "https://localhost:8080/",
     "height": 296
    },
    "colab_type": "code",
    "executionInfo": {
     "elapsed": 882,
     "status": "ok",
     "timestamp": 1588997330666,
     "user": {
      "displayName": "Maura Tokay",
      "photoUrl": "",
      "userId": "08366631216777031425"
     },
     "user_tz": 240
    },
    "id": "SzWXDwMtnlp8",
    "outputId": "278b5f96-0edb-4bcf-af11-6d0a4f8eb998"
   },
   "outputs": [],
   "source": [
    "plotter.plot({'Basic': history}, metric = \"mae\")\n",
    "plt.ylabel('MAE [GrainYield]')"
   ]
  },
  {
   "cell_type": "code",
   "execution_count": null,
   "metadata": {
    "colab": {
     "base_uri": "https://localhost:8080/",
     "height": 307
    },
    "colab_type": "code",
    "executionInfo": {
     "elapsed": 902,
     "status": "ok",
     "timestamp": 1588997381765,
     "user": {
      "displayName": "Maura Tokay",
      "photoUrl": "",
      "userId": "08366631216777031425"
     },
     "user_tz": 240
    },
    "id": "LH7BP0t8n85u",
    "outputId": "b4a29a3e-3801-46a3-83bd-c1c4d60818ff"
   },
   "outputs": [],
   "source": [
    "plotter.plot({'Basic': history}, metric = \"mse\")\n",
    "plt.ylabel('MSE [GrainYield^2]')"
   ]
  },
  {
   "cell_type": "code",
   "execution_count": null,
   "metadata": {
    "colab": {
     "base_uri": "https://localhost:8080/",
     "height": 70
    },
    "colab_type": "code",
    "executionInfo": {
     "elapsed": 5668,
     "status": "ok",
     "timestamp": 1588997438179,
     "user": {
      "displayName": "Maura Tokay",
      "photoUrl": "",
      "userId": "08366631216777031425"
     },
     "user_tz": 240
    },
    "id": "AgLs2E18oGfU",
    "outputId": "12575922-a836-4f6b-aef9-f8fc200d77f8"
   },
   "outputs": [],
   "source": [
    "model = build_model()\n",
    "\n",
    "# The patience parameter is the amount of epochs to check for improvement\n",
    "early_stop = keras.callbacks.EarlyStopping(monitor='val_loss', patience=30)\n",
    "early_history = model.fit(train_scaler_12w_X, train_12w_y, epochs=EPOCHS, validation_split = 0.2, verbose=0, callbacks=[early_stop, tfdocs.modeling.EpochDots()])"
   ]
  },
  {
   "cell_type": "code",
   "execution_count": null,
   "metadata": {
    "colab": {
     "base_uri": "https://localhost:8080/",
     "height": 52
    },
    "colab_type": "code",
    "executionInfo": {
     "elapsed": 438,
     "status": "ok",
     "timestamp": 1588997493085,
     "user": {
      "displayName": "Maura Tokay",
      "photoUrl": "",
      "userId": "08366631216777031425"
     },
     "user_tz": 240
    },
    "id": "nvyrODRSoWBW",
    "outputId": "92e65a76-09e9-4072-fa30-a9e706886067"
   },
   "outputs": [],
   "source": [
    "loss, mae, mse = model.evaluate(test_scaler_12w_X, test_12w_y, verbose=2)\n",
    "print(\"Testing set Mean Abs Error: {:5.2f} GrainYield\".format(mae))"
   ]
  },
  {
   "cell_type": "code",
   "execution_count": null,
   "metadata": {
    "colab": {
     "base_uri": "https://localhost:8080/",
     "height": 350
    },
    "colab_type": "code",
    "executionInfo": {
     "elapsed": 667,
     "status": "ok",
     "timestamp": 1588997555946,
     "user": {
      "displayName": "Maura Tokay",
      "photoUrl": "",
      "userId": "08366631216777031425"
     },
     "user_tz": 240
    },
    "id": "5uoNJmKxokMz",
    "outputId": "38c5f922-d2f3-4c77-fbaa-7dab9c118f48"
   },
   "outputs": [],
   "source": [
    "y_pred_12w_nn = model.predict(test_scaler_12w_X).flatten()\n",
    "modelEvaluation(test_12w_y, y_pred_12w_nn)"
   ]
  },
  {
   "cell_type": "code",
   "execution_count": null,
   "metadata": {
    "colab": {
     "base_uri": "https://localhost:8080/",
     "height": 278
    },
    "colab_type": "code",
    "executionInfo": {
     "elapsed": 885,
     "status": "ok",
     "timestamp": 1588997607915,
     "user": {
      "displayName": "Maura Tokay",
      "photoUrl": "",
      "userId": "08366631216777031425"
     },
     "user_tz": 240
    },
    "id": "H0iLilPyoyJR",
    "outputId": "424b38da-e2a9-49fd-e00c-ff0627e4676b"
   },
   "outputs": [],
   "source": [
    "errorPlot(test_12w_y, y_pred_12w_nn)"
   ]
  },
  {
   "cell_type": "code",
   "execution_count": null,
   "metadata": {
    "colab": {
     "base_uri": "https://localhost:8080/",
     "height": 368
    },
    "colab_type": "code",
    "executionInfo": {
     "elapsed": 728,
     "status": "ok",
     "timestamp": 1588997853606,
     "user": {
      "displayName": "Maura Tokay",
      "photoUrl": "",
      "userId": "08366631216777031425"
     },
     "user_tz": 240
    },
    "id": "klyQtGl0oga4",
    "outputId": "08aadf7f-5ff2-45df-ebf4-4c9d27bff8b3"
   },
   "outputs": [],
   "source": [
    "data = np.array([[median_absolute_error(test_12w_y, y_pred_12w_lm), median_absolute_error(test_13w_y, y_pred_13w_lm), median_absolute_error(test_14w_y, y_pred_14w_lm), median_absolute_error(test_15w_y, y_pred_15w_lm)],\n",
    "                 [median_absolute_error(test_12w_y, y_pred_12w_dtr), median_absolute_error(test_13w_y, y_pred_13w_dtr), median_absolute_error(test_14w_y, y_pred_14w_dtr), median_absolute_error(test_15w_y, y_pred_15w_dtr)],\n",
    "                 [median_absolute_error(test_12w_y, y_pred_12w_rfr), median_absolute_error(test_13w_y, y_pred_13w_rfr), median_absolute_error(test_14w_y, y_pred_14w_rfr), median_absolute_error(test_15w_y, y_pred_15w_rfr)],\n",
    "                 [median_absolute_error(test_12w_y, y_pred_12w_rfrc), median_absolute_error(test_13w_y, y_pred_13w_rfrc), median_absolute_error(test_14w_y, y_pred_14w_rfrc), median_absolute_error(test_15w_y, y_pred_15w_rfrc)],\n",
    "                 [median_absolute_error(test_12w_y, y_pred_12w_nn), median_absolute_error(test_13w_y, y_pred_13w_nn), median_absolute_error(test_14w_y, y_pred_14w_nn), median_absolute_error(test_15w_y, y_pred_15w_nn)]])\n",
    "length = len(data)\n",
    "x_labels = ['Lasso', 'Decision Tree', 'Random Forest', 'Random Forest C', 'Neural Network']\n",
    "\n",
    "# Set plot parameters\n",
    "fig, ax = plt.subplots()\n",
    "fig.set_size_inches(7,5)\n",
    "\n",
    "width = 0.2 # width of bar\n",
    "x = np.arange(length)\n",
    "\n",
    "ax.bar(x, data[:,0], width, color='#000080', label='12 weeks')\n",
    "ax.bar(x + width, data[:,1], width, color='#0F52BA', label='13 weeks')\n",
    "ax.bar(x + (2 * width), data[:,2], width, color='#6593F5', label='14 weeks')\n",
    "ax.bar(x + (3 * width), data[:,3], width, color='#93b4fa', label='15 weeks')\n",
    "\n",
    "ax.set_ylim(255,370)\n",
    "ax.set_xticks(x + width + width/2)\n",
    "ax.set_xticklabels(x_labels)\n",
    "ax.set_ylabel('Grain Yield (kg/ha)')\n",
    "ax.set_xlabel('Regression Model')\n",
    "ax.set_title('Median Absolute Percentage Error (MAPE)')\n",
    "ax.legend()\n",
    "plt.grid(True, 'major', 'y', ls='--', lw=.5, c='k', alpha=.3)\n",
    "\n",
    "fig.tight_layout()\n",
    "plt.show()"
   ]
  },
  {
   "cell_type": "code",
   "execution_count": null,
   "metadata": {
    "colab": {
     "base_uri": "https://localhost:8080/",
     "height": 368
    },
    "colab_type": "code",
    "executionInfo": {
     "elapsed": 1142,
     "status": "ok",
     "timestamp": 1588998039252,
     "user": {
      "displayName": "Maura Tokay",
      "photoUrl": "",
      "userId": "08366631216777031425"
     },
     "user_tz": 240
    },
    "id": "PtULt9Dmpskc",
    "outputId": "ea8b09a8-b7c4-493e-9665-fb20c0c10d61"
   },
   "outputs": [],
   "source": [
    "data = np.array([[r2_score(y_pred_12w_lm, test_12w_y), r2_score(y_pred_13w_lm, test_13w_y), r2_score(y_pred_14w_lm, test_14w_y), r2_score(y_pred_15w_lm, test_15w_y)],\n",
    "                 [r2_score(y_pred_12w_dtr, test_12w_y), r2_score(y_pred_13w_dtr, test_13w_y), r2_score(y_pred_14w_dtr, test_14w_y), r2_score(y_pred_15w_dtr, test_15w_y)],\n",
    "                 [r2_score(y_pred_12w_rfr, test_12w_y), r2_score(y_pred_13w_rfr, test_13w_y), r2_score(y_pred_14w_rfr, test_14w_y), r2_score(y_pred_15w_rfr, test_15w_y)],\n",
    "                 [r2_score(y_pred_12w_rfrc, test_12w_y), r2_score(y_pred_13w_rfrc, test_13w_y), r2_score(y_pred_14w_rfrc, test_14w_y), r2_score(y_pred_15w_rfrc, test_15w_y)],\n",
    "                 [r2_score(y_pred_12w_nn, test_12w_y), r2_score(y_pred_13w_nn, test_13w_y), r2_score(y_pred_14w_nn, test_14w_y), r2_score(y_pred_15w_nn, test_15w_y)]])\n",
    "#r2_score(y_pred, test_y)\n",
    "length = len(data)\n",
    "x_labels = ['Lasso', 'Decision Tree', 'Random Forest', 'Random Forest C', 'Neural Network']\n",
    "\n",
    "# Set plot parameters\n",
    "fig, ax = plt.subplots()\n",
    "fig.set_size_inches(7,5)\n",
    "width = 0.2 # width of bar\n",
    "x = np.arange(length)\n",
    "\n",
    "ax.bar(x, data[:,0], width, color='#000080', label='12 weeks')\n",
    "ax.bar(x + width, data[:,1], width, color='#0F52BA', label='13 weeks')\n",
    "ax.bar(x + (2 * width), data[:,2], width, color='#6593F5', label='14 weeks')\n",
    "ax.bar(x + (3 * width), data[:,3], width, color='#93b4fa', label='15 weeks')\n",
    "\n",
    "\n",
    "ax.set_ylim(0.73,0.835)\n",
    "ax.set_xticks(x + width + width/2)\n",
    "ax.set_xticklabels(x_labels)\n",
    "ax.set_xlabel('Regression Model')\n",
    "ax.set_title('Coefficient of Determination (R^2)')\n",
    "ax.legend()\n",
    "plt.grid(True, 'major', 'y', ls='--', lw=.5, c='k', alpha=.3)\n",
    "\n",
    "fig.tight_layout()\n",
    "plt.show()"
   ]
  },
  {
   "cell_type": "code",
   "execution_count": null,
   "metadata": {},
   "outputs": [],
   "source": []
  }
 ],
 "metadata": {
  "colab": {
   "collapsed_sections": [],
   "name": "PredictSoybeanYieldD4.ipynb",
   "provenance": [
    {
     "file_id": "1OBYhzFUbB4r70erWd9AwUCElmcyVNZqS",
     "timestamp": 1548871654118
    }
   ]
  },
  "kernelspec": {
   "display_name": "user_tensorflow",
   "language": "python",
   "name": "user_tensorflow"
  },
  "language_info": {
   "codemirror_mode": {
    "name": "ipython",
    "version": 3
   },
   "file_extension": ".py",
   "mimetype": "text/x-python",
   "name": "python",
   "nbconvert_exporter": "python",
   "pygments_lexer": "ipython3",
   "version": "3.7.9"
  }
 },
 "nbformat": 4,
 "nbformat_minor": 4
}
