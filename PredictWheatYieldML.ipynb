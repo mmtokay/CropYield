{
 "cells": [
  {
   "cell_type": "markdown",
   "metadata": {
    "colab_type": "text",
    "id": "gD2Nxo0AHu7w"
   },
   "source": [
    "This dataset is part of the [Farming Systems Project](https://www.ars.usda.gov/northeast-area/beltsville-md-barc/beltsville-agricultural-research-center/sustainable-agricultural-systems-laboratory/docs/farming-systems-project/) at USDA, Beltsville MD.  This data is not available online on the USDA\n",
    " website but can be found on my [GitHub](https://github.com/mmtokay/DATA606/tree/master/dataset)\n",
    "* Julian Day \n",
    "* Month\n",
    "* Day\n",
    "* Date\n",
    "* avgtTempC - average temperature in C\n",
    "* maxTempC - maximum temperature in C\n",
    "* minTempC - minimum temperature in C\n",
    "* maxHumPct - maximum humidity in %\n",
    "* minHumPct - minimum humidity in %\n",
    "* avgRadWm-2 - average radiation in w/m2\n",
    "* meanWindMs-1 - mean wind in m/s\n",
    "* PrecipitationMm - precipitation/snow me# Model A"
   ]
  },
  {
   "cell_type": "code",
   "execution_count": null,
   "metadata": {
    "colab": {
     "base_uri": "https://localhost:8080/",
     "height": 214
    },
    "colab_type": "code",
    "executionInfo": {
     "elapsed": 29739,
     "status": "ok",
     "timestamp": 1589050326745,
     "user": {
      "displayName": "Maura Tokay",
      "photoUrl": "",
      "userId": "08366631216777031425"
     },
     "user_tz": 240
    },
    "id": "-WqchYRo7LRu",
    "outputId": "92c00513-a15a-47e9-b7fe-07b9013ea1c3"
   },
   "outputs": [],
   "source": [
    "import io\n",
    "import matplotlib.pyplot as plt\n",
    "import numpy as np\n",
    "import pandas as pd\n",
    "import re\n",
    "import warnings\n",
    "import time\n",
    "import pathlib\n",
    "import seaborn as sns\n",
    "import tensorflow as tf\n",
    "import tensorflow_docs as tfdocs\n",
    "import tensorflow_docs.plots\n",
    "import tensorflow_docs.modeling\n",
    "\n",
    "from datetime import datetime, timedelta\n",
    "from sklearn import linear_model\n",
    "from sklearn.decomposition import PCA\n",
    "from sklearn.ensemble import RandomForestRegressor\n",
    "from sklearn.linear_model import LogisticRegression, LinearRegression, RidgeClassifier\n",
    "from sklearn.metrics import *\n",
    "from sklearn.model_selection import train_test_split, GridSearchCV, cross_val_score, cross_val_predict, cross_validate\n",
    "from sklearn.pipeline import Pipeline\n",
    "from sklearn.preprocessing import OneHotEncoder, PolynomialFeatures, RobustScaler, Normalizer, MinMaxScaler, StandardScaler, Binarizer\n",
    "from sklearn.tree import DecisionTreeRegressor, export_graphviz\n",
    "from sklearn.utils import shuffle\n",
    "from time import time\n",
    "from tensorflow import keras\n",
    "from tensorflow.keras import layers\n",
    "\n",
    "print(tf.__version__)\n",
    "warnings.simplefilter(action='ignore', category=FutureWarning)"
   ]
  },
  {
   "cell_type": "code",
   "execution_count": null,
   "metadata": {
    "colab": {},
    "colab_type": "code",
    "id": "p9s4GHWpvng2"
   },
   "outputs": [],
   "source": [
    "def modelEvaluation(test_y, y_pred):\n",
    "    # Mean absolute error regression loss (Best is 0)\n",
    "    mae = mean_absolute_error(test_y, y_pred)\n",
    "    print(\"Mean absolute error regression loss (Best is 0) = {:.5f}\".format(mae))\n",
    "    \n",
    "    # Mean squared error\n",
    "    mse = mean_squared_error(test_y, y_pred)\n",
    "    print(\"Mean squared error (Best is 0) = {:.5f}\".format(mse))\n",
    "    \n",
    "    # Median absolute error regression loss\n",
    "    maerl = median_absolute_error(test_y, y_pred)\n",
    "    print(\"Median absolute error regression loss or Mean absolute percentage error (Best is 0) = {:.5f}\".format(maerl))\n",
    "    \n",
    "    # Coefficient of determination (Best is 1)\n",
    "    r2 = r2_score(y_pred, test_y)\n",
    "    print(\"Coefficient of determination (Best is 1) = {:.5f}\".format(r2))\n",
    "\n",
    "    a = plt.axes(aspect='equal')\n",
    "    plt.scatter(test_y, y_pred)\n",
    "    plt.xlabel('True Values [GrainYield]')\n",
    "    plt.ylabel('Predictions [GrainYield]')\n",
    "    lims = [0, 6000]\n",
    "    plt.xlim(lims)\n",
    "    plt.ylim(lims)\n",
    "    _ = plt.plot(lims, lims)\n",
    "\n",
    "def errorPlot(test_y, y_pred):\n",
    "    error = y_pred - test_y\n",
    "    plt.hist(error, bins = 25)\n",
    "    plt.xlabel(\"Prediction Error [GrainYield]\")\n",
    "    _ = plt.ylabel(\"Count\")"
   ]
  },
  {
   "cell_type": "markdown",
   "metadata": {
    "colab_type": "text",
    "id": "ST4AdCWDvng5"
   },
   "source": [
    "# Wheat - 31 weeks"
   ]
  },
  {
   "cell_type": "code",
   "execution_count": null,
   "metadata": {
    "colab": {
     "base_uri": "https://localhost:8080/",
     "height": 1000,
     "output_embedded_package_id": "1GVhniPOGmZZiAHi5POf6jbQxerC4wweI"
    },
    "colab_type": "code",
    "executionInfo": {
     "elapsed": 20915,
     "status": "ok",
     "timestamp": 1589050355553,
     "user": {
      "displayName": "Maura Tokay",
      "photoUrl": "",
      "userId": "08366631216777031425"
     },
     "user_tz": 240
    },
    "id": "sRIzAIi1vng6",
    "outputId": "d522bddd-e2cd-474f-de77-4f96a2376a11"
   },
   "outputs": [],
   "source": [
    "dataWheat31w = pd.read_csv('./dataset/wheatFeatures31w.csv')\n",
    "corrWheat31w = dataWheat31w.corr()\n",
    "corrWheat31w.style.background_gradient(cmap='coolwarm').set_precision(2)"
   ]
  },
  {
   "cell_type": "code",
   "execution_count": null,
   "metadata": {
    "colab": {},
    "colab_type": "code",
    "id": "Wn9LNm76vnhO"
   },
   "outputs": [],
   "source": [
    "# Splitting data set\n",
    "train_31w_X, test_31w_X = train_test_split(dataWheat31w.drop('GrainYield', axis=1), random_state=1)\n",
    "train_31w_y, test_31w_y = train_test_split(dataWheat31w['GrainYield'], random_state=1)\n",
    "\n",
    "# Apply Robust Scaler\n",
    "scaler = RobustScaler()\n",
    "train_scaler_31w_X = scaler.fit_transform(train_31w_X)\n",
    "test_scaler_31w_X = scaler.transform(test_31w_X)"
   ]
  },
  {
   "cell_type": "markdown",
   "metadata": {
    "colab_type": "text",
    "id": "nEeaR4povnhR"
   },
   "source": [
    "**Lasso**"
   ]
  },
  {
   "cell_type": "code",
   "execution_count": null,
   "metadata": {
    "colab": {
     "base_uri": "https://localhost:8080/",
     "height": 623
    },
    "colab_type": "code",
    "executionInfo": {
     "elapsed": 499,
     "status": "ok",
     "timestamp": 1589050362831,
     "user": {
      "displayName": "Maura Tokay",
      "photoUrl": "",
      "userId": "08366631216777031425"
     },
     "user_tz": 240
    },
    "id": "Eak_Hpk6vnhR",
    "outputId": "e39448c7-9140-4bd0-c1c7-9ede0abcb936"
   },
   "outputs": [],
   "source": [
    "lm = linear_model.Lasso(alpha=0.2)\n",
    "lm.fit(train_scaler_31w_X,train_31w_y)\n",
    "y_pred_31w_lm = lm.predict(test_scaler_31w_X)\n",
    "modelEvaluation(test_31w_y, y_pred_31w_lm)\n",
    "\n",
    "important_features = pd.Series(data=lm.coef_,index=dataWheat31w.drop('GrainYield', axis=1).columns)\n",
    "important_features.sort_values(ascending=False,inplace=True)\n",
    "print(important_features[:5])\n",
    "print(important_features[-5:])"
   ]
  },
  {
   "cell_type": "code",
   "execution_count": null,
   "metadata": {
    "colab": {
     "base_uri": "https://localhost:8080/",
     "height": 278
    },
    "colab_type": "code",
    "executionInfo": {
     "elapsed": 541,
     "status": "ok",
     "timestamp": 1589050367283,
     "user": {
      "displayName": "Maura Tokay",
      "photoUrl": "",
      "userId": "08366631216777031425"
     },
     "user_tz": 240
    },
    "id": "71AfuUGkg8X7",
    "outputId": "9662161d-0dc8-43e2-dc89-beb0c65d9fed"
   },
   "outputs": [],
   "source": [
    "errorPlot(test_31w_y, y_pred_31w_lm)"
   ]
  },
  {
   "cell_type": "markdown",
   "metadata": {
    "colab_type": "text",
    "id": "SWE4_3hJvnhU"
   },
   "source": [
    "**Decision Tree Regressor**"
   ]
  },
  {
   "cell_type": "code",
   "execution_count": null,
   "metadata": {
    "colab": {
     "base_uri": "https://localhost:8080/",
     "height": 567
    },
    "colab_type": "code",
    "executionInfo": {
     "elapsed": 510,
     "status": "ok",
     "timestamp": 1589050369808,
     "user": {
      "displayName": "Maura Tokay",
      "photoUrl": "",
      "userId": "08366631216777031425"
     },
     "user_tz": 240
    },
    "id": "Q5xV9WE7vnhV",
    "outputId": "1270591c-30ac-4324-b38c-244f4d6eaf62"
   },
   "outputs": [],
   "source": [
    "tree_model = DecisionTreeRegressor()\n",
    "tree_model.fit(train_scaler_31w_X,train_31w_y)\n",
    "y_pred_31w_dtr = tree_model.predict(test_scaler_31w_X)\n",
    "modelEvaluation(test_31w_y, y_pred_31w_dtr)\n",
    "\n",
    "mportant_features = pd.Series(data=tree_model.feature_importances_,index=dataWheat31w.drop('GrainYield', axis=1).columns)\n",
    "important_features.sort_values(ascending=False,inplace=True)\n",
    "print(important_features[:5])\n",
    "print(important_features[-5:])"
   ]
  },
  {
   "cell_type": "code",
   "execution_count": null,
   "metadata": {
    "colab": {
     "base_uri": "https://localhost:8080/",
     "height": 278
    },
    "colab_type": "code",
    "executionInfo": {
     "elapsed": 475,
     "status": "ok",
     "timestamp": 1589050373268,
     "user": {
      "displayName": "Maura Tokay",
      "photoUrl": "",
      "userId": "08366631216777031425"
     },
     "user_tz": 240
    },
    "id": "s6rVC07Uhj_C",
    "outputId": "2171a50f-aa1b-43d2-da39-b6a19a5885c5"
   },
   "outputs": [],
   "source": [
    "errorPlot(test_31w_y, y_pred_31w_dtr)"
   ]
  },
  {
   "cell_type": "markdown",
   "metadata": {
    "colab_type": "text",
    "id": "Ftwq1sbVvnhY"
   },
   "source": [
    "**Random Forest Regressor**"
   ]
  },
  {
   "cell_type": "code",
   "execution_count": null,
   "metadata": {
    "colab": {
     "base_uri": "https://localhost:8080/",
     "height": 461
    },
    "colab_type": "code",
    "executionInfo": {
     "elapsed": 912,
     "status": "ok",
     "timestamp": 1589050378556,
     "user": {
      "displayName": "Maura Tokay",
      "photoUrl": "",
      "userId": "08366631216777031425"
     },
     "user_tz": 240
    },
    "id": "kWJ2UE-0vnhZ",
    "outputId": "e39860d6-9738-451b-e935-4ba7a708610f"
   },
   "outputs": [],
   "source": [
    "rf_model = RandomForestRegressor()\n",
    "rf_model.fit(train_scaler_31w_X,train_31w_y)\n",
    "y_pred_31w_rfr = rf_model.predict(test_scaler_31w_X)\n",
    "modelEvaluation(test_31w_y, y_pred_31w_rfr)\n",
    "\n",
    "important_features = pd.Series(data=rf_model.feature_importances_,index=dataWheat31w.drop('GrainYield', axis=1).columns)\n",
    "important_features.sort_values(ascending=False,inplace=True)\n",
    "print(important_features[:5])"
   ]
  },
  {
   "cell_type": "code",
   "execution_count": null,
   "metadata": {
    "colab": {
     "base_uri": "https://localhost:8080/",
     "height": 278
    },
    "colab_type": "code",
    "executionInfo": {
     "elapsed": 473,
     "status": "ok",
     "timestamp": 1589050382536,
     "user": {
      "displayName": "Maura Tokay",
      "photoUrl": "",
      "userId": "08366631216777031425"
     },
     "user_tz": 240
    },
    "id": "LEa6WFfSiBga",
    "outputId": "a2a97189-79aa-409c-c16a-42d1fc584c19"
   },
   "outputs": [],
   "source": [
    "errorPlot(test_31w_y, y_pred_31w_rfr)"
   ]
  },
  {
   "cell_type": "code",
   "execution_count": null,
   "metadata": {
    "colab": {
     "base_uri": "https://localhost:8080/",
     "height": 461
    },
    "colab_type": "code",
    "executionInfo": {
     "elapsed": 2848,
     "status": "ok",
     "timestamp": 1589050389570,
     "user": {
      "displayName": "Maura Tokay",
      "photoUrl": "",
      "userId": "08366631216777031425"
     },
     "user_tz": 240
    },
    "id": "Zi5CIjU-vnhc",
    "outputId": "1e5c5fa1-2426-47f4-defa-bec4e91b12fb"
   },
   "outputs": [],
   "source": [
    "max_depth = 25\n",
    "n_est = 500\n",
    "rf_model = RandomForestRegressor(n_estimators=n_est,max_depth=max_depth,random_state=0)\n",
    "rf_model.fit(train_scaler_31w_X,train_31w_y)\n",
    "y_pred_31w_rfrc = rf_model.predict(test_scaler_31w_X)\n",
    "modelEvaluation(test_31w_y, y_pred_31w_rfrc)\n",
    "\n",
    "important_features = pd.Series(data=rf_model.feature_importances_,index=dataWheat31w.drop('GrainYield', axis=1).columns)\n",
    "important_features.sort_values(ascending=False,inplace=True)\n",
    "print(important_features[:5])"
   ]
  },
  {
   "cell_type": "code",
   "execution_count": null,
   "metadata": {
    "colab": {
     "base_uri": "https://localhost:8080/",
     "height": 278
    },
    "colab_type": "code",
    "executionInfo": {
     "elapsed": 441,
     "status": "ok",
     "timestamp": 1589050393022,
     "user": {
      "displayName": "Maura Tokay",
      "photoUrl": "",
      "userId": "08366631216777031425"
     },
     "user_tz": 240
    },
    "id": "rDwo5V3ui6Et",
    "outputId": "f05dd0fd-5dc1-4dff-ac4c-00262625cb78"
   },
   "outputs": [],
   "source": [
    "errorPlot(test_31w_y, y_pred_31w_rfrc)"
   ]
  },
  {
   "cell_type": "markdown",
   "metadata": {
    "colab_type": "text",
    "id": "lGbIYMxwjZQI"
   },
   "source": [
    "**Neural Network**"
   ]
  },
  {
   "cell_type": "markdown",
   "metadata": {
    "colab_type": "text",
    "id": "--hlmMFujfHg"
   },
   "source": [
    "***Build the model***\n",
    "\n",
    "\n",
    "Let's build our model. Here, we'll use a Sequential model with seven densely connected hidden layers, and an output layer that returns a single, continuous value. The model building steps are wrapped in a function, build_model, since we'll create a second model, later on."
   ]
  },
  {
   "cell_type": "code",
   "execution_count": null,
   "metadata": {
    "colab": {},
    "colab_type": "code",
    "id": "FIcFn93zjnwD"
   },
   "outputs": [],
   "source": [
    "def build_model():\n",
    "    model = keras.Sequential([\n",
    "        layers.Dense(128, activation='relu', input_shape=[len(train_31w_X.keys())]),\n",
    "        layers.Dense(64, activation='relu'),\n",
    "        layers.Dense(32, activation='relu'),\n",
    "        layers.Flatten(),\n",
    "        layers.Dense(64, activation='relu'),\n",
    "        layers.Dense(32, activation='relu'),\n",
    "        layers.Dense(16, activation='relu'),\n",
    "        layers.Dense(1)\n",
    "    ])\n",
    "    optimizer = tf.keras.optimizers.RMSprop(0.001)\n",
    "\n",
    "    model.compile(loss='mse',optimizer=optimizer,metrics=['mae', 'mse'])\n",
    "    return model"
   ]
  },
  {
   "cell_type": "code",
   "execution_count": null,
   "metadata": {
    "colab": {},
    "colab_type": "code",
    "id": "xXmgpw2Xjvrg"
   },
   "outputs": [],
   "source": [
    "model = build_model()"
   ]
  },
  {
   "cell_type": "markdown",
   "metadata": {
    "colab_type": "text",
    "id": "xYPZqKu4j46U"
   },
   "source": [
    "***Inspect the model***\n",
    "\n",
    "Use the .summary method to print a simple description of the model"
   ]
  },
  {
   "cell_type": "code",
   "execution_count": null,
   "metadata": {
    "colab": {
     "base_uri": "https://localhost:8080/",
     "height": 443
    },
    "colab_type": "code",
    "executionInfo": {
     "elapsed": 177,
     "status": "ok",
     "timestamp": 1589050407658,
     "user": {
      "displayName": "Maura Tokay",
      "photoUrl": "",
      "userId": "08366631216777031425"
     },
     "user_tz": 240
    },
    "id": "F4Em5SlPj6U7",
    "outputId": "a9b4de23-1dff-4ddc-bde2-35e3bbcff66c"
   },
   "outputs": [],
   "source": [
    "model.summary()"
   ]
  },
  {
   "cell_type": "markdown",
   "metadata": {
    "colab_type": "text",
    "id": "94FxFkpLkFSj"
   },
   "source": [
    "***Train the model***\n",
    "\n",
    "Train the model for 200 epochs, and record the training and validation accuracy in the history object."
   ]
  },
  {
   "cell_type": "code",
   "execution_count": null,
   "metadata": {
    "colab": {
     "base_uri": "https://localhost:8080/",
     "height": 105
    },
    "colab_type": "code",
    "executionInfo": {
     "elapsed": 10453,
     "status": "ok",
     "timestamp": 1589050424458,
     "user": {
      "displayName": "Maura Tokay",
      "photoUrl": "",
      "userId": "08366631216777031425"
     },
     "user_tz": 240
    },
    "id": "OGrRqEwDkHHp",
    "outputId": "9fc11d11-61e6-4847-9720-0e542a3412bc"
   },
   "outputs": [],
   "source": [
    "EPOCHS = 200\n",
    "history = model.fit(train_scaler_31w_X, train_31w_y, epochs=EPOCHS, validation_split = 0.2, verbose=0, callbacks=[tfdocs.modeling.EpochDots()])"
   ]
  },
  {
   "cell_type": "code",
   "execution_count": null,
   "metadata": {
    "colab": {},
    "colab_type": "code",
    "id": "05K04GPQkyoG"
   },
   "outputs": [],
   "source": [
    "plotter = tfdocs.plots.HistoryPlotter(smoothing_std=2)"
   ]
  },
  {
   "cell_type": "code",
   "execution_count": null,
   "metadata": {
    "colab": {
     "base_uri": "https://localhost:8080/",
     "height": 296
    },
    "colab_type": "code",
    "executionInfo": {
     "elapsed": 541,
     "status": "ok",
     "timestamp": 1589050429145,
     "user": {
      "displayName": "Maura Tokay",
      "photoUrl": "",
      "userId": "08366631216777031425"
     },
     "user_tz": 240
    },
    "id": "FhA-rFoZkyff",
    "outputId": "9dcb929f-8a18-46c3-ef11-5e90664de324"
   },
   "outputs": [],
   "source": [
    "plotter.plot({'Basic': history}, metric = \"mae\")\n",
    "plt.ylabel('MAE [GrainYield]')"
   ]
  },
  {
   "cell_type": "code",
   "execution_count": null,
   "metadata": {
    "colab": {
     "base_uri": "https://localhost:8080/",
     "height": 307
    },
    "colab_type": "code",
    "executionInfo": {
     "elapsed": 511,
     "status": "ok",
     "timestamp": 1589050431808,
     "user": {
      "displayName": "Maura Tokay",
      "photoUrl": "",
      "userId": "08366631216777031425"
     },
     "user_tz": 240
    },
    "id": "Yk0iGW26kyWr",
    "outputId": "1bcc642a-7cef-448f-e621-85e4ee0a2ea4"
   },
   "outputs": [],
   "source": [
    "plotter.plot({'Basic': history}, metric = \"mse\")\n",
    "plt.ylabel('MSE [GrainYield^2]')"
   ]
  },
  {
   "cell_type": "code",
   "execution_count": null,
   "metadata": {
    "colab": {
     "base_uri": "https://localhost:8080/",
     "height": 70
    },
    "colab_type": "code",
    "executionInfo": {
     "elapsed": 3052,
     "status": "ok",
     "timestamp": 1589050445120,
     "user": {
      "displayName": "Maura Tokay",
      "photoUrl": "",
      "userId": "08366631216777031425"
     },
     "user_tz": 240
    },
    "id": "aiBkkY8Kmqt0",
    "outputId": "eed60345-f92a-4897-a2e7-c52bb444a973"
   },
   "outputs": [],
   "source": [
    "model = build_model()\n",
    "\n",
    "# The patience parameter is the amount of epochs to check for improvement\n",
    "early_stop = keras.callbacks.EarlyStopping(monitor='val_loss', patience=10)\n",
    "early_history = model.fit(train_scaler_31w_X, train_31w_y, epochs=EPOCHS, validation_split = 0.2, verbose=0, callbacks=[early_stop, tfdocs.modeling.EpochDots()])"
   ]
  },
  {
   "cell_type": "markdown",
   "metadata": {
    "colab_type": "text",
    "id": "kgLNa2acm4oS"
   },
   "source": [
    "Let's see how well the model generalizes by using the test set, which we did not use when training the model. This tells us how well we can expect the model to predict when we use it in the real world."
   ]
  },
  {
   "cell_type": "code",
   "execution_count": null,
   "metadata": {
    "colab": {
     "base_uri": "https://localhost:8080/",
     "height": 52
    },
    "colab_type": "code",
    "executionInfo": {
     "elapsed": 346,
     "status": "ok",
     "timestamp": 1589050457948,
     "user": {
      "displayName": "Maura Tokay",
      "photoUrl": "",
      "userId": "08366631216777031425"
     },
     "user_tz": 240
    },
    "id": "_lGaJW77m9kT",
    "outputId": "8d14278c-4565-4d4a-98f7-cf3df20d4b90"
   },
   "outputs": [],
   "source": [
    "loss, mae, mse = model.evaluate(test_scaler_31w_X, test_31w_y, verbose=2)\n",
    "print(\"Testing set Mean Abs Error: {:5.2f} GrainYield\".format(mae))"
   ]
  },
  {
   "cell_type": "markdown",
   "metadata": {
    "colab_type": "text",
    "id": "O7bxH9j3nHdL"
   },
   "source": [
    "***Make predictions***\n",
    "\n",
    "Finally, predict GrainYield values using data in the testing set:"
   ]
  },
  {
   "cell_type": "code",
   "execution_count": null,
   "metadata": {
    "colab": {},
    "colab_type": "code",
    "id": "AY-QjCvbnJWb"
   },
   "outputs": [],
   "source": [
    "y_pred_31w_nn = model.predict(test_scaler_31w_X).flatten()"
   ]
  },
  {
   "cell_type": "markdown",
   "metadata": {
    "colab_type": "text",
    "id": "S1VFRd1GnQb3"
   },
   "source": [
    "It looks like our model predicts reasonably well. Let's take a look at the error distribution."
   ]
  },
  {
   "cell_type": "code",
   "execution_count": null,
   "metadata": {
    "colab": {
     "base_uri": "https://localhost:8080/",
     "height": 354
    },
    "colab_type": "code",
    "executionInfo": {
     "elapsed": 383,
     "status": "ok",
     "timestamp": 1589050464763,
     "user": {
      "displayName": "Maura Tokay",
      "photoUrl": "",
      "userId": "08366631216777031425"
     },
     "user_tz": 240
    },
    "id": "nLJSTi4BnVjv",
    "outputId": "0e02bed7-15ae-4e07-bd5a-b9bf17b1f48b"
   },
   "outputs": [],
   "source": [
    "modelEvaluation(test_31w_y, y_pred_31w_nn)"
   ]
  },
  {
   "cell_type": "code",
   "execution_count": null,
   "metadata": {
    "colab": {
     "base_uri": "https://localhost:8080/",
     "height": 278
    },
    "colab_type": "code",
    "executionInfo": {
     "elapsed": 508,
     "status": "ok",
     "timestamp": 1589050475231,
     "user": {
      "displayName": "Maura Tokay",
      "photoUrl": "",
      "userId": "08366631216777031425"
     },
     "user_tz": 240
    },
    "id": "qHKbfdNSnkNb",
    "outputId": "f575fb1a-14ce-4c18-9cdf-e551085c81fd"
   },
   "outputs": [],
   "source": [
    "errorPlot(test_31w_y, y_pred_31w_nn)"
   ]
  },
  {
   "cell_type": "markdown",
   "metadata": {
    "colab_type": "text",
    "id": "IS9bRU-gvnhe"
   },
   "source": [
    "# Wheat - 30 weeks"
   ]
  },
  {
   "cell_type": "code",
   "execution_count": null,
   "metadata": {
    "colab": {
     "base_uri": "https://localhost:8080/",
     "height": 1000,
     "output_embedded_package_id": "16-aOTnXpdccqm4akX7nfmDSgyV2zdSuz"
    },
    "colab_type": "code",
    "executionInfo": {
     "elapsed": 18640,
     "status": "ok",
     "timestamp": 1589050500086,
     "user": {
      "displayName": "Maura Tokay",
      "photoUrl": "",
      "userId": "08366631216777031425"
     },
     "user_tz": 240
    },
    "id": "JY_aIpZTvnhf",
    "outputId": "0fb087f0-c3ec-478e-d406-f4d5a1a264f5"
   },
   "outputs": [],
   "source": [
    "dataWheat30w = pd.read_csv('./dataset/wheatFeatures30w.csv')\n",
    "corrWheat30w = dataWheat30w.corr()\n",
    "corrWheat30w.style.background_gradient(cmap='coolwarm').set_precision(2)"
   ]
  },
  {
   "cell_type": "code",
   "execution_count": null,
   "metadata": {
    "colab": {},
    "colab_type": "code",
    "id": "UVUme3dDvnhq"
   },
   "outputs": [],
   "source": [
    "# Splitting data set\n",
    "train_30w_X, test_30w_X = train_test_split(dataWheat30w.drop('GrainYield', axis=1), random_state=1)\n",
    "train_30w_y, test_30w_y = train_test_split(dataWheat30w['GrainYield'], random_state=1)\n",
    "\n",
    "# Apply Robust Scaler\n",
    "scaler = RobustScaler()\n",
    "train_scaler_30w_X = scaler.fit_transform(train_30w_X)\n",
    "test_scaler_30w_X = scaler.transform(test_30w_X)"
   ]
  },
  {
   "cell_type": "markdown",
   "metadata": {
    "colab_type": "text",
    "id": "wBkjuCpUvnht"
   },
   "source": [
    "**Lasso**"
   ]
  },
  {
   "cell_type": "code",
   "execution_count": null,
   "metadata": {
    "colab": {
     "base_uri": "https://localhost:8080/",
     "height": 623
    },
    "colab_type": "code",
    "executionInfo": {
     "elapsed": 570,
     "status": "ok",
     "timestamp": 1589050508990,
     "user": {
      "displayName": "Maura Tokay",
      "photoUrl": "",
      "userId": "08366631216777031425"
     },
     "user_tz": 240
    },
    "id": "hIQE8Aaavnht",
    "outputId": "c331263b-dfae-461e-ad20-3d6091c202e8"
   },
   "outputs": [],
   "source": [
    "lm = linear_model.Lasso(alpha=-0.05)\n",
    "lm.fit(train_scaler_30w_X,train_30w_y)\n",
    "y_pred_30w_lm = lm.predict(test_scaler_30w_X)\n",
    "modelEvaluation(test_30w_y, y_pred_30w_lm)\n",
    "\n",
    "important_features = pd.Series(data=lm.coef_,index=dataWheat30w.drop('GrainYield', axis=1).columns)\n",
    "important_features.sort_values(ascending=False,inplace=True)\n",
    "print(important_features[:5])\n",
    "print(important_features[-5:])"
   ]
  },
  {
   "cell_type": "code",
   "execution_count": null,
   "metadata": {
    "colab": {
     "base_uri": "https://localhost:8080/",
     "height": 278
    },
    "colab_type": "code",
    "executionInfo": {
     "elapsed": 479,
     "status": "ok",
     "timestamp": 1589050512913,
     "user": {
      "displayName": "Maura Tokay",
      "photoUrl": "",
      "userId": "08366631216777031425"
     },
     "user_tz": 240
    },
    "id": "mcrrVXGUo4kb",
    "outputId": "9ed49f32-e2e6-4ffb-bb1b-5d218e9452e9"
   },
   "outputs": [],
   "source": [
    "errorPlot(test_30w_y, y_pred_30w_lm)"
   ]
  },
  {
   "cell_type": "markdown",
   "metadata": {
    "colab_type": "text",
    "id": "06B9ukIbvnhv"
   },
   "source": [
    "**Decision Tree Regressor**"
   ]
  },
  {
   "cell_type": "code",
   "execution_count": null,
   "metadata": {
    "colab": {
     "base_uri": "https://localhost:8080/",
     "height": 567
    },
    "colab_type": "code",
    "executionInfo": {
     "elapsed": 487,
     "status": "ok",
     "timestamp": 1589050515861,
     "user": {
      "displayName": "Maura Tokay",
      "photoUrl": "",
      "userId": "08366631216777031425"
     },
     "user_tz": 240
    },
    "id": "y2Wasx_tvnhw",
    "outputId": "a670291b-04a1-494f-f761-710f3ba73b7f"
   },
   "outputs": [],
   "source": [
    "tree_model = DecisionTreeRegressor()\n",
    "tree_model.fit(train_scaler_30w_X,train_30w_y)\n",
    "y_pred_30w_dtr = tree_model.predict(test_scaler_30w_X)\n",
    "modelEvaluation(test_30w_y, y_pred_30w_dtr)\n",
    "\n",
    "mportant_features = pd.Series(data=tree_model.feature_importances_,index=dataWheat30w.drop('GrainYield', axis=1).columns)\n",
    "important_features.sort_values(ascending=False,inplace=True)\n",
    "print(important_features[:5])\n",
    "print(important_features[-5:])"
   ]
  },
  {
   "cell_type": "code",
   "execution_count": null,
   "metadata": {
    "colab": {
     "base_uri": "https://localhost:8080/",
     "height": 278
    },
    "colab_type": "code",
    "executionInfo": {
     "elapsed": 438,
     "status": "ok",
     "timestamp": 1589050519377,
     "user": {
      "displayName": "Maura Tokay",
      "photoUrl": "",
      "userId": "08366631216777031425"
     },
     "user_tz": 240
    },
    "id": "Mkm53fNhpW5H",
    "outputId": "55515e38-54df-440f-c402-cc17b882783f"
   },
   "outputs": [],
   "source": [
    "errorPlot(test_30w_y, y_pred_30w_dtr)"
   ]
  },
  {
   "cell_type": "markdown",
   "metadata": {
    "colab_type": "text",
    "id": "ivRN1qMhvnhy"
   },
   "source": [
    "**Random Forest Regressor**"
   ]
  },
  {
   "cell_type": "code",
   "execution_count": null,
   "metadata": {
    "colab": {
     "base_uri": "https://localhost:8080/",
     "height": 461
    },
    "colab_type": "code",
    "executionInfo": {
     "elapsed": 931,
     "status": "ok",
     "timestamp": 1589050522421,
     "user": {
      "displayName": "Maura Tokay",
      "photoUrl": "",
      "userId": "08366631216777031425"
     },
     "user_tz": 240
    },
    "id": "GGJ9r0kTvnhy",
    "outputId": "d48a91b8-f4bd-41cb-fe6a-9c3fa8a75861"
   },
   "outputs": [],
   "source": [
    "rf_model = RandomForestRegressor()\n",
    "rf_model.fit(train_scaler_30w_X,train_30w_y)\n",
    "y_pred_30w_rfr = rf_model.predict(test_scaler_30w_X)\n",
    "modelEvaluation(test_30w_y, y_pred_30w_rfr)\n",
    "\n",
    "important_features = pd.Series(data=rf_model.feature_importances_,index=dataWheat30w.drop('GrainYield', axis=1).columns)\n",
    "important_features.sort_values(ascending=False,inplace=True)\n",
    "print(important_features[:5])"
   ]
  },
  {
   "cell_type": "code",
   "execution_count": null,
   "metadata": {
    "colab": {
     "base_uri": "https://localhost:8080/",
     "height": 278
    },
    "colab_type": "code",
    "executionInfo": {
     "elapsed": 498,
     "status": "ok",
     "timestamp": 1589050526098,
     "user": {
      "displayName": "Maura Tokay",
      "photoUrl": "",
      "userId": "08366631216777031425"
     },
     "user_tz": 240
    },
    "id": "rrKfS0-dp03Z",
    "outputId": "f00cac8f-47bd-4b71-95f8-ac5277465d59"
   },
   "outputs": [],
   "source": [
    "errorPlot(test_30w_y, y_pred_30w_rfr)"
   ]
  },
  {
   "cell_type": "code",
   "execution_count": null,
   "metadata": {
    "colab": {
     "base_uri": "https://localhost:8080/",
     "height": 461
    },
    "colab_type": "code",
    "executionInfo": {
     "elapsed": 3805,
     "status": "ok",
     "timestamp": 1589050532924,
     "user": {
      "displayName": "Maura Tokay",
      "photoUrl": "",
      "userId": "08366631216777031425"
     },
     "user_tz": 240
    },
    "id": "of9FgCzovnh0",
    "outputId": "31ef9a43-b6be-48e9-aa64-b728d89759a7"
   },
   "outputs": [],
   "source": [
    "max_depth = 20\n",
    "n_est = 700\n",
    "rf_model = RandomForestRegressor(n_estimators=n_est,max_depth=max_depth,random_state=0)\n",
    "rf_model.fit(train_scaler_30w_X,train_30w_y)\n",
    "y_pred_30w_rfrc = rf_model.predict(test_scaler_30w_X)\n",
    "modelEvaluation(test_30w_y, y_pred_30w_rfrc)\n",
    "\n",
    "important_features = pd.Series(data=rf_model.feature_importances_,index=dataWheat30w.drop('GrainYield', axis=1).columns)\n",
    "important_features.sort_values(ascending=False,inplace=True)\n",
    "print(important_features[:5])"
   ]
  },
  {
   "cell_type": "code",
   "execution_count": null,
   "metadata": {
    "colab": {
     "base_uri": "https://localhost:8080/",
     "height": 278
    },
    "colab_type": "code",
    "executionInfo": {
     "elapsed": 550,
     "status": "ok",
     "timestamp": 1589050536544,
     "user": {
      "displayName": "Maura Tokay",
      "photoUrl": "",
      "userId": "08366631216777031425"
     },
     "user_tz": 240
    },
    "id": "zOi15aMirjBS",
    "outputId": "e2618222-471f-4dff-a4f4-0d9f7b0fb3da"
   },
   "outputs": [],
   "source": [
    "errorPlot(test_30w_y, y_pred_30w_rfrc)"
   ]
  },
  {
   "cell_type": "markdown",
   "metadata": {
    "colab_type": "text",
    "id": "YN3wslUproOv"
   },
   "source": [
    "`**Neural Network**"
   ]
  },
  {
   "cell_type": "markdown",
   "metadata": {
    "colab_type": "text",
    "id": "nspY_oeDrn7a"
   },
   "source": [
    "Build the model\n",
    "\n",
    "Let's build our model. Here, we'll use a Sequential model with seven densely connected hidden layers, and an output layer that returns a single, continuous value. The model building steps are wrapped in a function, build_model, since we'll create a second model, later on."
   ]
  },
  {
   "cell_type": "code",
   "execution_count": null,
   "metadata": {
    "colab": {},
    "colab_type": "code",
    "id": "_QjZqGEMr3An"
   },
   "outputs": [],
   "source": [
    "def build_model():\n",
    "    model = keras.Sequential([\n",
    "        layers.Dense(128, activation='relu', input_shape=[len(train_30w_X.keys())]),\n",
    "        layers.Dense(64, activation='relu'),\n",
    "        layers.Dense(32, activation='relu'),\n",
    "        layers.Flatten(),\n",
    "        layers.Dense(64, activation='relu'),\n",
    "        layers.Dense(32, activation='relu'),\n",
    "        layers.Dense(16, activation='relu'),\n",
    "        layers.Dense(1)\n",
    "    ])\n",
    "    optimizer = tf.keras.optimizers.RMSprop(0.001)\n",
    "\n",
    "    model.compile(loss='mse',optimizer=optimizer,metrics=['mae', 'mse'])\n",
    "    return model"
   ]
  },
  {
   "cell_type": "code",
   "execution_count": null,
   "metadata": {
    "colab": {},
    "colab_type": "code",
    "id": "_n1WSuCDsd-x"
   },
   "outputs": [],
   "source": [
    "model = build_model()"
   ]
  },
  {
   "cell_type": "markdown",
   "metadata": {
    "colab_type": "text",
    "id": "BGLc0CmKskpw"
   },
   "source": [
    "***Inspect the model***\n",
    "\n",
    "Use the .summary method to print a simple description of the model"
   ]
  },
  {
   "cell_type": "code",
   "execution_count": null,
   "metadata": {
    "colab": {
     "base_uri": "https://localhost:8080/",
     "height": 443
    },
    "colab_type": "code",
    "executionInfo": {
     "elapsed": 250,
     "status": "ok",
     "timestamp": 1589050551977,
     "user": {
      "displayName": "Maura Tokay",
      "photoUrl": "",
      "userId": "08366631216777031425"
     },
     "user_tz": 240
    },
    "id": "ujswPEgMsm1H",
    "outputId": "edc45f77-9482-48d2-dab0-46ffeebdc744"
   },
   "outputs": [],
   "source": [
    "model.summary()"
   ]
  },
  {
   "cell_type": "markdown",
   "metadata": {
    "colab_type": "text",
    "id": "Kv72DcSoswL6"
   },
   "source": [
    "***Train the model***\n",
    "\n",
    "Train the model for 200 epochs, and record the training and validation accuracy in the history object."
   ]
  },
  {
   "cell_type": "code",
   "execution_count": null,
   "metadata": {
    "colab": {
     "base_uri": "https://localhost:8080/",
     "height": 105
    },
    "colab_type": "code",
    "executionInfo": {
     "elapsed": 10001,
     "status": "ok",
     "timestamp": 1589050564554,
     "user": {
      "displayName": "Maura Tokay",
      "photoUrl": "",
      "userId": "08366631216777031425"
     },
     "user_tz": 240
    },
    "id": "fZxKQfy7sxfH",
    "outputId": "ef2c88c9-8612-4088-d774-5e89d185a49a"
   },
   "outputs": [],
   "source": [
    "EPOCHS = 200\n",
    "history = model.fit(train_scaler_30w_X, train_30w_y, epochs=EPOCHS, validation_split = 0.2, verbose=0, callbacks=[tfdocs.modeling.EpochDots()])"
   ]
  },
  {
   "cell_type": "code",
   "execution_count": null,
   "metadata": {
    "colab": {},
    "colab_type": "code",
    "id": "A6fgASLUtLSn"
   },
   "outputs": [],
   "source": [
    "plotter = tfdocs.plots.HistoryPlotter(smoothing_std=2)"
   ]
  },
  {
   "cell_type": "code",
   "execution_count": null,
   "metadata": {
    "colab": {
     "base_uri": "https://localhost:8080/",
     "height": 296
    },
    "colab_type": "code",
    "executionInfo": {
     "elapsed": 531,
     "status": "ok",
     "timestamp": 1589050571270,
     "user": {
      "displayName": "Maura Tokay",
      "photoUrl": "",
      "userId": "08366631216777031425"
     },
     "user_tz": 240
    },
    "id": "xWZ4czjatLG3",
    "outputId": "820e458d-6aaa-45db-a43d-b02481703bc5"
   },
   "outputs": [],
   "source": [
    "plotter.plot({'Basic': history}, metric = \"mae\")\n",
    "plt.ylabel('MAE [GrainYield]')"
   ]
  },
  {
   "cell_type": "code",
   "execution_count": null,
   "metadata": {
    "colab": {
     "base_uri": "https://localhost:8080/",
     "height": 307
    },
    "colab_type": "code",
    "executionInfo": {
     "elapsed": 526,
     "status": "ok",
     "timestamp": 1588998421666,
     "user": {
      "displayName": "Maura Tokay",
      "photoUrl": "",
      "userId": "08366631216777031425"
     },
     "user_tz": 240
    },
    "id": "3iPHE8y0tK6U",
    "outputId": "37973e2c-a751-4472-d3a1-f56ed5f9bc37"
   },
   "outputs": [],
   "source": [
    "plotter.plot({'Basic': history}, metric = \"mse\")\n",
    "plt.ylabel('MSE [GrainYield^2]')"
   ]
  },
  {
   "cell_type": "code",
   "execution_count": null,
   "metadata": {
    "colab": {
     "base_uri": "https://localhost:8080/",
     "height": 70
    },
    "colab_type": "code",
    "executionInfo": {
     "elapsed": 3278,
     "status": "ok",
     "timestamp": 1589050579134,
     "user": {
      "displayName": "Maura Tokay",
      "photoUrl": "",
      "userId": "08366631216777031425"
     },
     "user_tz": 240
    },
    "id": "NOjpWbyYtaXq",
    "outputId": "f81efbb0-82e2-43d0-e561-3361ccfb16ec"
   },
   "outputs": [],
   "source": [
    "model = build_model()\n",
    "\n",
    "# The patience parameter is the amount of epochs to check for improvement\n",
    "early_stop = keras.callbacks.EarlyStopping(monitor='val_loss', patience=10)\n",
    "early_history = model.fit(train_scaler_30w_X, train_30w_y, epochs=EPOCHS, validation_split = 0.2, verbose=0, callbacks=[early_stop, tfdocs.modeling.EpochDots()])"
   ]
  },
  {
   "cell_type": "code",
   "execution_count": null,
   "metadata": {
    "colab": {
     "base_uri": "https://localhost:8080/",
     "height": 52
    },
    "colab_type": "code",
    "executionInfo": {
     "elapsed": 342,
     "status": "ok",
     "timestamp": 1589050581326,
     "user": {
      "displayName": "Maura Tokay",
      "photoUrl": "",
      "userId": "08366631216777031425"
     },
     "user_tz": 240
    },
    "id": "GUEFMMxptzLg",
    "outputId": "515d537d-8332-4e7b-f0b1-2cb3079eed95"
   },
   "outputs": [],
   "source": [
    "loss, mae, mse = model.evaluate(test_scaler_30w_X, test_30w_y, verbose=2)\n",
    "print(\"Testing set Mean Abs Error: {:5.2f} GrainYield\".format(mae))"
   ]
  },
  {
   "cell_type": "code",
   "execution_count": null,
   "metadata": {
    "colab": {
     "base_uri": "https://localhost:8080/",
     "height": 354
    },
    "colab_type": "code",
    "executionInfo": {
     "elapsed": 559,
     "status": "ok",
     "timestamp": 1589050585073,
     "user": {
      "displayName": "Maura Tokay",
      "photoUrl": "",
      "userId": "08366631216777031425"
     },
     "user_tz": 240
    },
    "id": "pwJTrnHmt_qM",
    "outputId": "8470458b-19d6-46f6-f8ed-73feb37c01bd"
   },
   "outputs": [],
   "source": [
    "y_pred_30w_nn = model.predict(test_scaler_30w_X).flatten()\n",
    "modelEvaluation(test_30w_y, y_pred_30w_nn)"
   ]
  },
  {
   "cell_type": "code",
   "execution_count": null,
   "metadata": {
    "colab": {
     "base_uri": "https://localhost:8080/",
     "height": 278
    },
    "colab_type": "code",
    "executionInfo": {
     "elapsed": 477,
     "status": "ok",
     "timestamp": 1589050589283,
     "user": {
      "displayName": "Maura Tokay",
      "photoUrl": "",
      "userId": "08366631216777031425"
     },
     "user_tz": 240
    },
    "id": "TMMjCX4KuMjL",
    "outputId": "79e4a409-c09c-446f-ec47-d409f4c0faee"
   },
   "outputs": [],
   "source": [
    "errorPlot(test_30w_y, y_pred_30w_nn)"
   ]
  },
  {
   "cell_type": "markdown",
   "metadata": {
    "colab_type": "text",
    "id": "bF8YVqKQvnh2"
   },
   "source": [
    "# Wheat - 29 weeks"
   ]
  },
  {
   "cell_type": "code",
   "execution_count": null,
   "metadata": {
    "colab": {
     "base_uri": "https://localhost:8080/",
     "height": 1000,
     "output_embedded_package_id": "1y8fTdvxRSW7R7a5Ibi08FcfV5vNNXV5Q"
    },
    "colab_type": "code",
    "executionInfo": {
     "elapsed": 17604,
     "status": "ok",
     "timestamp": 1589050609112,
     "user": {
      "displayName": "Maura Tokay",
      "photoUrl": "",
      "userId": "08366631216777031425"
     },
     "user_tz": 240
    },
    "id": "BdgdGbDpvnh2",
    "outputId": "4e154bf1-b183-4a69-afe7-c010816ca5a1"
   },
   "outputs": [],
   "source": [
    "dataWheat29w = pd.read_csv('./dataset/wheatFeatures29w.csv')\n",
    "corrWheat29w = dataWheat29w.corr()\n",
    "corrWheat29w.style.background_gradient(cmap='coolwarm').set_precision(2)"
   ]
  },
  {
   "cell_type": "code",
   "execution_count": null,
   "metadata": {
    "colab": {},
    "colab_type": "code",
    "id": "UUhhRv0dvniB"
   },
   "outputs": [],
   "source": [
    "# Splitting data set\n",
    "train_29w_X, test_29w_X = train_test_split(dataWheat29w.drop('GrainYield', axis=1), random_state=1)\n",
    "train_29w_y, test_29w_y = train_test_split(dataWheat29w['GrainYield'], random_state=1)\n",
    "\n",
    "# Apply Robust Scaler\n",
    "scaler = RobustScaler()\n",
    "train_scaler_29w_X = scaler.fit_transform(train_29w_X)\n",
    "test_scaler_29w_X = scaler.transform(test_29w_X)"
   ]
  },
  {
   "cell_type": "markdown",
   "metadata": {
    "colab_type": "text",
    "id": "zj-86yafvniD"
   },
   "source": [
    "**Lasso**"
   ]
  },
  {
   "cell_type": "code",
   "execution_count": null,
   "metadata": {
    "colab": {
     "base_uri": "https://localhost:8080/",
     "height": 623
    },
    "colab_type": "code",
    "executionInfo": {
     "elapsed": 502,
     "status": "ok",
     "timestamp": 1589050617034,
     "user": {
      "displayName": "Maura Tokay",
      "photoUrl": "",
      "userId": "08366631216777031425"
     },
     "user_tz": 240
    },
    "id": "0RZsM03lvniD",
    "outputId": "4c590b38-a41a-4349-fe9b-ad6685e8b77f"
   },
   "outputs": [],
   "source": [
    "lm = linear_model.Lasso(alpha=0.05)\n",
    "lm.fit(train_scaler_29w_X,train_29w_y)\n",
    "y_pred_29w_lm = lm.predict(test_scaler_29w_X)\n",
    "modelEvaluation(test_29w_y, y_pred_29w_lm)\n",
    "\n",
    "important_features = pd.Series(data=lm.coef_,index=dataWheat29w.drop('GrainYield', axis=1).columns)\n",
    "important_features.sort_values(ascending=False,inplace=True)\n",
    "print(important_features[:5])\n",
    "print(important_features[-5:])"
   ]
  },
  {
   "cell_type": "code",
   "execution_count": null,
   "metadata": {
    "colab": {
     "base_uri": "https://localhost:8080/",
     "height": 278
    },
    "colab_type": "code",
    "executionInfo": {
     "elapsed": 428,
     "status": "ok",
     "timestamp": 1589050621613,
     "user": {
      "displayName": "Maura Tokay",
      "photoUrl": "",
      "userId": "08366631216777031425"
     },
     "user_tz": 240
    },
    "id": "whgn29HJvjlZ",
    "outputId": "1481fb9f-bb9f-4798-f911-90cb89db6ae7"
   },
   "outputs": [],
   "source": [
    "errorPlot(test_29w_y, y_pred_29w_lm)"
   ]
  },
  {
   "cell_type": "markdown",
   "metadata": {
    "colab_type": "text",
    "id": "WV5n3rSuvniF"
   },
   "source": [
    "**Decision Tree Regressor**"
   ]
  },
  {
   "cell_type": "code",
   "execution_count": null,
   "metadata": {
    "colab": {
     "base_uri": "https://localhost:8080/",
     "height": 567
    },
    "colab_type": "code",
    "executionInfo": {
     "elapsed": 496,
     "status": "ok",
     "timestamp": 1589050625196,
     "user": {
      "displayName": "Maura Tokay",
      "photoUrl": "",
      "userId": "08366631216777031425"
     },
     "user_tz": 240
    },
    "id": "Z2UdoJP_vniG",
    "outputId": "ce250a46-d234-4ed9-9f11-a86f0614011c"
   },
   "outputs": [],
   "source": [
    "tree_model = DecisionTreeRegressor()\n",
    "tree_model.fit(train_scaler_29w_X,train_29w_y)\n",
    "y_pred_29w_dtr = tree_model.predict(test_scaler_29w_X)\n",
    "modelEvaluation(test_29w_y, y_pred_29w_dtr)\n",
    "\n",
    "mportant_features = pd.Series(data=tree_model.feature_importances_,index=dataWheat29w.drop('GrainYield', axis=1).columns)\n",
    "important_features.sort_values(ascending=False,inplace=True)\n",
    "print(important_features[:5])\n",
    "print(important_features[-5:])"
   ]
  },
  {
   "cell_type": "code",
   "execution_count": null,
   "metadata": {
    "colab": {
     "base_uri": "https://localhost:8080/",
     "height": 278
    },
    "colab_type": "code",
    "executionInfo": {
     "elapsed": 592,
     "status": "ok",
     "timestamp": 1589050629876,
     "user": {
      "displayName": "Maura Tokay",
      "photoUrl": "",
      "userId": "08366631216777031425"
     },
     "user_tz": 240
    },
    "id": "Cjicqej1wTIn",
    "outputId": "340b45e9-f8bb-4ac9-ab81-3b919daa97ce"
   },
   "outputs": [],
   "source": [
    "errorPlot(test_29w_y, y_pred_29w_dtr)"
   ]
  },
  {
   "cell_type": "markdown",
   "metadata": {
    "colab_type": "text",
    "id": "OrdIQ-KdvniH"
   },
   "source": [
    "**Random Forest Regressor**"
   ]
  },
  {
   "cell_type": "code",
   "execution_count": null,
   "metadata": {
    "colab": {
     "base_uri": "https://localhost:8080/",
     "height": 461
    },
    "colab_type": "code",
    "executionInfo": {
     "elapsed": 883,
     "status": "ok",
     "timestamp": 1589050634151,
     "user": {
      "displayName": "Maura Tokay",
      "photoUrl": "",
      "userId": "08366631216777031425"
     },
     "user_tz": 240
    },
    "id": "2WNdVPJgvniH",
    "outputId": "afa93bc7-40f1-44bf-f186-909316b9f91e"
   },
   "outputs": [],
   "source": [
    "rf_model = RandomForestRegressor()\n",
    "rf_model.fit(train_scaler_29w_X,train_29w_y)\n",
    "y_pred_29w_rfr = rf_model.predict(test_scaler_29w_X)\n",
    "modelEvaluation(test_29w_y, y_pred_29w_rfr)\n",
    "\n",
    "important_features = pd.Series(data=rf_model.feature_importances_,index=dataWheat29w.drop('GrainYield', axis=1).columns)\n",
    "important_features.sort_values(ascending=False,inplace=True)\n",
    "print(important_features[:5])"
   ]
  },
  {
   "cell_type": "code",
   "execution_count": null,
   "metadata": {
    "colab": {
     "base_uri": "https://localhost:8080/",
     "height": 278
    },
    "colab_type": "code",
    "executionInfo": {
     "elapsed": 425,
     "status": "ok",
     "timestamp": 1589050637672,
     "user": {
      "displayName": "Maura Tokay",
      "photoUrl": "",
      "userId": "08366631216777031425"
     },
     "user_tz": 240
    },
    "id": "LbFEwtHnxa4_",
    "outputId": "dfb1851b-f177-42a0-eec5-f4039932789d"
   },
   "outputs": [],
   "source": [
    "errorPlot(test_29w_y, y_pred_29w_rfr)"
   ]
  },
  {
   "cell_type": "code",
   "execution_count": null,
   "metadata": {
    "colab": {
     "base_uri": "https://localhost:8080/",
     "height": 461
    },
    "colab_type": "code",
    "executionInfo": {
     "elapsed": 3143,
     "status": "ok",
     "timestamp": 1589050644872,
     "user": {
      "displayName": "Maura Tokay",
      "photoUrl": "",
      "userId": "08366631216777031425"
     },
     "user_tz": 240
    },
    "id": "ug4cOoypvniK",
    "outputId": "e341d33f-668c-4258-f132-4f3ca8deffcd"
   },
   "outputs": [],
   "source": [
    "max_depth = 25\n",
    "n_est = 600\n",
    "rf_model = RandomForestRegressor(n_estimators=n_est,max_depth=max_depth,random_state=0)\n",
    "rf_model.fit(train_scaler_29w_X,train_29w_y)\n",
    "y_pred_29w_rfrc = rf_model.predict(test_scaler_29w_X)\n",
    "modelEvaluation(test_29w_y, y_pred_29w_rfrc)\n",
    "\n",
    "important_features = pd.Series(data=rf_model.feature_importances_,index=dataWheat29w.drop('GrainYield', axis=1).columns)\n",
    "important_features.sort_values(ascending=False,inplace=True)\n",
    "print(important_features[:5])"
   ]
  },
  {
   "cell_type": "code",
   "execution_count": null,
   "metadata": {
    "colab": {
     "base_uri": "https://localhost:8080/",
     "height": 278
    },
    "colab_type": "code",
    "executionInfo": {
     "elapsed": 473,
     "status": "ok",
     "timestamp": 1589050649189,
     "user": {
      "displayName": "Maura Tokay",
      "photoUrl": "",
      "userId": "08366631216777031425"
     },
     "user_tz": 240
    },
    "id": "bblVxM4lvniL",
    "outputId": "0d0b097e-35b2-4043-8601-47d9aad35cef"
   },
   "outputs": [],
   "source": [
    "errorPlot(test_29w_y, y_pred_29w_rfrc)"
   ]
  },
  {
   "cell_type": "markdown",
   "metadata": {
    "colab_type": "text",
    "id": "sCPEUvjlxkjf"
   },
   "source": [
    "**Neural Network**"
   ]
  },
  {
   "cell_type": "markdown",
   "metadata": {
    "colab_type": "text",
    "id": "njT6pGcLxkZB"
   },
   "source": [
    "***Build the model***\n",
    "\n",
    "\n",
    "Let's build our model. Here, we'll use a Sequential model with seven densely connected hidden layers, and an output layer that returns a single, continuous value. The model building steps are wrapped in a function, build_model, since we'll create a second model, later on."
   ]
  },
  {
   "cell_type": "code",
   "execution_count": null,
   "metadata": {
    "colab": {},
    "colab_type": "code",
    "id": "lVYnfMClxzwW"
   },
   "outputs": [],
   "source": [
    "def build_model():\n",
    "    model = keras.Sequential([\n",
    "        layers.Dense(128, activation='relu', input_shape=[len(train_29w_X.keys())]),\n",
    "        layers.Dense(64, activation='relu'),\n",
    "        layers.Dense(32, activation='relu'),\n",
    "        layers.Flatten(),\n",
    "        layers.Dense(64, activation='relu'),\n",
    "        layers.Dense(32, activation='relu'),\n",
    "        layers.Dense(1)\n",
    "    ])\n",
    "    optimizer = tf.keras.optimizers.RMSprop(0.001)\n",
    "\n",
    "    model.compile(loss='mse',optimizer=optimizer,metrics=['mae', 'mse'])\n",
    "    return model"
   ]
  },
  {
   "cell_type": "code",
   "execution_count": null,
   "metadata": {
    "colab": {},
    "colab_type": "code",
    "id": "4W7rZYw_yF6a"
   },
   "outputs": [],
   "source": [
    "model = build_model()"
   ]
  },
  {
   "cell_type": "markdown",
   "metadata": {
    "colab_type": "text",
    "id": "DpUN3CkvyH6g"
   },
   "source": [
    "***Inspect the model***\n",
    "\n",
    "Use the .summary method to print a simple description of the model"
   ]
  },
  {
   "cell_type": "code",
   "execution_count": null,
   "metadata": {
    "colab": {
     "base_uri": "https://localhost:8080/",
     "height": 407
    },
    "colab_type": "code",
    "executionInfo": {
     "elapsed": 227,
     "status": "ok",
     "timestamp": 1589050657947,
     "user": {
      "displayName": "Maura Tokay",
      "photoUrl": "",
      "userId": "08366631216777031425"
     },
     "user_tz": 240
    },
    "id": "T1V-1vybyNCv",
    "outputId": "35913cab-d084-4044-8508-1037bc498b16"
   },
   "outputs": [],
   "source": [
    "model.summary()"
   ]
  },
  {
   "cell_type": "markdown",
   "metadata": {
    "colab_type": "text",
    "id": "c9wXfU6IyVp3"
   },
   "source": [
    "***Train the model***\n",
    "\n",
    "Train the model for 200 epochs, and record the training and validation accuracy in the history object."
   ]
  },
  {
   "cell_type": "code",
   "execution_count": null,
   "metadata": {
    "colab": {
     "base_uri": "https://localhost:8080/",
     "height": 105
    },
    "colab_type": "code",
    "executionInfo": {
     "elapsed": 10471,
     "status": "ok",
     "timestamp": 1589050673491,
     "user": {
      "displayName": "Maura Tokay",
      "photoUrl": "",
      "userId": "08366631216777031425"
     },
     "user_tz": 240
    },
    "id": "_HFEHfnDyXZ_",
    "outputId": "20fe078f-ef6b-4141-9a92-73036c2da1f8"
   },
   "outputs": [],
   "source": [
    "EPOCHS = 200\n",
    "history = model.fit(train_scaler_29w_X, train_29w_y, epochs=EPOCHS, validation_split = 0.2, verbose=0, callbacks=[tfdocs.modeling.EpochDots()])"
   ]
  },
  {
   "cell_type": "code",
   "execution_count": null,
   "metadata": {
    "colab": {},
    "colab_type": "code",
    "id": "trPg7bnRyqu3"
   },
   "outputs": [],
   "source": [
    "plotter = tfdocs.plots.HistoryPlotter(smoothing_std=2)"
   ]
  },
  {
   "cell_type": "code",
   "execution_count": null,
   "metadata": {
    "colab": {
     "base_uri": "https://localhost:8080/",
     "height": 296
    },
    "colab_type": "code",
    "executionInfo": {
     "elapsed": 482,
     "status": "ok",
     "timestamp": 1589050679327,
     "user": {
      "displayName": "Maura Tokay",
      "photoUrl": "",
      "userId": "08366631216777031425"
     },
     "user_tz": 240
    },
    "id": "1MR25_byyqhW",
    "outputId": "f00721f1-c9ff-4530-ec35-cb7b69bcc3cd"
   },
   "outputs": [],
   "source": [
    "plotter.plot({'Basic': history}, metric = \"mae\")\n",
    "plt.ylabel('MAE [GrainYield]')"
   ]
  },
  {
   "cell_type": "code",
   "execution_count": null,
   "metadata": {
    "colab": {
     "base_uri": "https://localhost:8080/",
     "height": 307
    },
    "colab_type": "code",
    "executionInfo": {
     "elapsed": 507,
     "status": "ok",
     "timestamp": 1589050683248,
     "user": {
      "displayName": "Maura Tokay",
      "photoUrl": "",
      "userId": "08366631216777031425"
     },
     "user_tz": 240
    },
    "id": "E2KnL87LyqUU",
    "outputId": "c02b3677-7b44-469c-da6d-c87c09905c67"
   },
   "outputs": [],
   "source": [
    "plotter.plot({'Basic': history}, metric = \"mse\")\n",
    "plt.ylabel('MSE [GrainYield^2]')"
   ]
  },
  {
   "cell_type": "code",
   "execution_count": null,
   "metadata": {
    "colab": {
     "base_uri": "https://localhost:8080/",
     "height": 70
    },
    "colab_type": "code",
    "executionInfo": {
     "elapsed": 5774,
     "status": "ok",
     "timestamp": 1589050694274,
     "user": {
      "displayName": "Maura Tokay",
      "photoUrl": "",
      "userId": "08366631216777031425"
     },
     "user_tz": 240
    },
    "id": "nfdJkjnGy5Au",
    "outputId": "a461ac32-f8d5-4e27-d5e8-c269b1dc464b"
   },
   "outputs": [],
   "source": [
    "model = build_model()\n",
    "\n",
    "# The patience parameter is the amount of epochs to check for improvement\n",
    "early_stop = keras.callbacks.EarlyStopping(monitor='val_loss', patience=30)\n",
    "early_history = model.fit(train_scaler_29w_X, train_29w_y, epochs=EPOCHS, validation_split = 0.2, verbose=0, callbacks=[early_stop, tfdocs.modeling.EpochDots()])"
   ]
  },
  {
   "cell_type": "code",
   "execution_count": null,
   "metadata": {
    "colab": {
     "base_uri": "https://localhost:8080/",
     "height": 52
    },
    "colab_type": "code",
    "executionInfo": {
     "elapsed": 280,
     "status": "ok",
     "timestamp": 1589050699664,
     "user": {
      "displayName": "Maura Tokay",
      "photoUrl": "",
      "userId": "08366631216777031425"
     },
     "user_tz": 240
    },
    "id": "oVDQrTZGzDbe",
    "outputId": "9b36abe3-c845-4682-da99-3fa9361046ea"
   },
   "outputs": [],
   "source": [
    "loss, mae, mse = model.evaluate(test_scaler_29w_X, test_29w_y, verbose=2)\n",
    "print(\"Testing set Mean Abs Error: {:5.2f} GrainYield\".format(mae))"
   ]
  },
  {
   "cell_type": "code",
   "execution_count": null,
   "metadata": {
    "colab": {
     "base_uri": "https://localhost:8080/",
     "height": 354
    },
    "colab_type": "code",
    "executionInfo": {
     "elapsed": 492,
     "status": "ok",
     "timestamp": 1589050704658,
     "user": {
      "displayName": "Maura Tokay",
      "photoUrl": "",
      "userId": "08366631216777031425"
     },
     "user_tz": 240
    },
    "id": "Z6P5Ypx5zIrm",
    "outputId": "1b0d2b7d-7361-43dd-ef6e-c00b64e47d58"
   },
   "outputs": [],
   "source": [
    "y_pred_29w_nn = model.predict(test_scaler_29w_X).flatten()\n",
    "modelEvaluation(test_29w_y, y_pred_29w_nn)"
   ]
  },
  {
   "cell_type": "code",
   "execution_count": null,
   "metadata": {
    "colab": {
     "base_uri": "https://localhost:8080/",
     "height": 278
    },
    "colab_type": "code",
    "executionInfo": {
     "elapsed": 455,
     "status": "ok",
     "timestamp": 1589050711444,
     "user": {
      "displayName": "Maura Tokay",
      "photoUrl": "",
      "userId": "08366631216777031425"
     },
     "user_tz": 240
    },
    "id": "uVluMH22zZpO",
    "outputId": "c327bb17-e034-468b-daf1-30d43c163a71"
   },
   "outputs": [],
   "source": [
    "errorPlot(test_29w_y, y_pred_29w_nn)"
   ]
  },
  {
   "cell_type": "markdown",
   "metadata": {
    "colab_type": "text",
    "id": "WXu0BajwtLCL"
   },
   "source": [
    "# Wheat - 28 weeks"
   ]
  },
  {
   "cell_type": "code",
   "execution_count": null,
   "metadata": {
    "colab": {
     "base_uri": "https://localhost:8080/",
     "height": 1000,
     "output_embedded_package_id": "13ys3-obGQvAuakS3MNqob8Tns3xJBNCd"
    },
    "colab_type": "code",
    "executionInfo": {
     "elapsed": 16210,
     "status": "ok",
     "timestamp": 1589050730294,
     "user": {
      "displayName": "Maura Tokay",
      "photoUrl": "",
      "userId": "08366631216777031425"
     },
     "user_tz": 240
    },
    "id": "ZiNJ4MKZtN1j",
    "outputId": "e3056cef-8092-43d7-8962-a74ab5acb0be"
   },
   "outputs": [],
   "source": [
    "dataWheat28w = pd.read_csv('./dataset/wheatFeatures28w.csv')\n",
    "corrWheat28w = dataWheat28w.corr()\n",
    "corrWheat28w.style.background_gradient(cmap='coolwarm').set_precision(2)"
   ]
  },
  {
   "cell_type": "code",
   "execution_count": null,
   "metadata": {
    "colab": {},
    "colab_type": "code",
    "id": "4Qk4dRAGtvaR"
   },
   "outputs": [],
   "source": [
    "# Splitting data set\n",
    "train_28w_X, test_28w_X = train_test_split(dataWheat28w.drop('GrainYield', axis=1), random_state=1)\n",
    "train_28w_y, test_28w_y = train_test_split(dataWheat28w['GrainYield'], random_state=1)\n",
    "\n",
    "# Apply Robust Scaler\n",
    "scaler = RobustScaler()\n",
    "train_scaler_28w_X = scaler.fit_transform(train_28w_X)\n",
    "test_scaler_28w_X = scaler.transform(test_28w_X)"
   ]
  },
  {
   "cell_type": "markdown",
   "metadata": {
    "colab_type": "text",
    "id": "NU7fi9BAuEjW"
   },
   "source": [
    "**Lasso**"
   ]
  },
  {
   "cell_type": "code",
   "execution_count": null,
   "metadata": {
    "colab": {
     "base_uri": "https://localhost:8080/",
     "height": 623
    },
    "colab_type": "code",
    "executionInfo": {
     "elapsed": 498,
     "status": "ok",
     "timestamp": 1589050738267,
     "user": {
      "displayName": "Maura Tokay",
      "photoUrl": "",
      "userId": "08366631216777031425"
     },
     "user_tz": 240
    },
    "id": "jEiipVQxuNWD",
    "outputId": "89220d0b-e05d-470a-8981-2d8bea3ec139"
   },
   "outputs": [],
   "source": [
    "lm = linear_model.Lasso(alpha=0.05)\n",
    "lm.fit(train_scaler_28w_X,train_28w_y)\n",
    "y_pred_28w_lm = lm.predict(test_scaler_28w_X)\n",
    "modelEvaluation(test_28w_y, y_pred_28w_lm)\n",
    "\n",
    "important_features = pd.Series(data=lm.coef_,index=dataWheat28w.drop('GrainYield', axis=1).columns)\n",
    "important_features.sort_values(ascending=False,inplace=True)\n",
    "print(important_features[:5])\n",
    "print(important_features[-5:])"
   ]
  },
  {
   "cell_type": "code",
   "execution_count": null,
   "metadata": {
    "colab": {
     "base_uri": "https://localhost:8080/",
     "height": 278
    },
    "colab_type": "code",
    "executionInfo": {
     "elapsed": 422,
     "status": "ok",
     "timestamp": 1589050741507,
     "user": {
      "displayName": "Maura Tokay",
      "photoUrl": "",
      "userId": "08366631216777031425"
     },
     "user_tz": 240
    },
    "id": "cStmdd6nuoc-",
    "outputId": "68c0b289-5f16-46c6-a462-c2e356f00849"
   },
   "outputs": [],
   "source": [
    "errorPlot(test_28w_y, y_pred_28w_lm)"
   ]
  },
  {
   "cell_type": "markdown",
   "metadata": {
    "colab_type": "text",
    "id": "K_-gQm2hu03b"
   },
   "source": [
    "**Decision Tree Regressor**"
   ]
  },
  {
   "cell_type": "code",
   "execution_count": null,
   "metadata": {
    "colab": {
     "base_uri": "https://localhost:8080/",
     "height": 567
    },
    "colab_type": "code",
    "executionInfo": {
     "elapsed": 442,
     "status": "ok",
     "timestamp": 1589050744752,
     "user": {
      "displayName": "Maura Tokay",
      "photoUrl": "",
      "userId": "08366631216777031425"
     },
     "user_tz": 240
    },
    "id": "hYvEOZLau3EP",
    "outputId": "7333da2d-c76a-4016-8d90-eed7f09e2055"
   },
   "outputs": [],
   "source": [
    "tree_model = DecisionTreeRegressor()\n",
    "tree_model.fit(train_scaler_28w_X,train_28w_y)\n",
    "y_pred_28w_dtr = tree_model.predict(test_scaler_28w_X)\n",
    "modelEvaluation(test_28w_y, y_pred_28w_dtr)\n",
    "\n",
    "mportant_features = pd.Series(data=tree_model.feature_importances_,index=dataWheat28w.drop('GrainYield', axis=1).columns)\n",
    "important_features.sort_values(ascending=False,inplace=True)\n",
    "print(important_features[:5])\n",
    "print(important_features[-5:])"
   ]
  },
  {
   "cell_type": "code",
   "execution_count": null,
   "metadata": {
    "colab": {
     "base_uri": "https://localhost:8080/",
     "height": 278
    },
    "colab_type": "code",
    "executionInfo": {
     "elapsed": 478,
     "status": "ok",
     "timestamp": 1589050748202,
     "user": {
      "displayName": "Maura Tokay",
      "photoUrl": "",
      "userId": "08366631216777031425"
     },
     "user_tz": 240
    },
    "id": "2pemQjYgvP7J",
    "outputId": "9f1a3ab7-2fc9-4b45-f6df-0406a9ce1769"
   },
   "outputs": [],
   "source": [
    "errorPlot(test_28w_y, y_pred_28w_dtr)"
   ]
  },
  {
   "cell_type": "markdown",
   "metadata": {
    "colab_type": "text",
    "id": "AGeAp_mavUkp"
   },
   "source": [
    "**Random Forest Regressor**"
   ]
  },
  {
   "cell_type": "code",
   "execution_count": null,
   "metadata": {
    "colab": {
     "base_uri": "https://localhost:8080/",
     "height": 461
    },
    "colab_type": "code",
    "executionInfo": {
     "elapsed": 914,
     "status": "ok",
     "timestamp": 1589050752158,
     "user": {
      "displayName": "Maura Tokay",
      "photoUrl": "",
      "userId": "08366631216777031425"
     },
     "user_tz": 240
    },
    "id": "Ecbwe3Yave-y",
    "outputId": "bdda0520-2604-4184-ee37-4ae50027ac9d"
   },
   "outputs": [],
   "source": [
    "rf_model = RandomForestRegressor()\n",
    "rf_model.fit(train_scaler_28w_X,train_28w_y)\n",
    "y_pred_28w_rfr = rf_model.predict(test_scaler_28w_X)\n",
    "modelEvaluation(test_28w_y, y_pred_28w_rfr)\n",
    "\n",
    "important_features = pd.Series(data=rf_model.feature_importances_,index=dataWheat28w.drop('GrainYield', axis=1).columns)\n",
    "important_features.sort_values(ascending=False,inplace=True)\n",
    "print(important_features[:5])"
   ]
  },
  {
   "cell_type": "code",
   "execution_count": null,
   "metadata": {
    "colab": {
     "base_uri": "https://localhost:8080/",
     "height": 278
    },
    "colab_type": "code",
    "executionInfo": {
     "elapsed": 438,
     "status": "ok",
     "timestamp": 1589050755990,
     "user": {
      "displayName": "Maura Tokay",
      "photoUrl": "",
      "userId": "08366631216777031425"
     },
     "user_tz": 240
    },
    "id": "cK2-zm9tv63A",
    "outputId": "ee225436-42c0-4515-9522-70d02c52c302"
   },
   "outputs": [],
   "source": [
    "errorPlot(test_28w_y, y_pred_28w_rfr)"
   ]
  },
  {
   "cell_type": "code",
   "execution_count": null,
   "metadata": {
    "colab": {
     "base_uri": "https://localhost:8080/",
     "height": 461
    },
    "colab_type": "code",
    "executionInfo": {
     "elapsed": 3173,
     "status": "ok",
     "timestamp": 1589050761599,
     "user": {
      "displayName": "Maura Tokay",
      "photoUrl": "",
      "userId": "08366631216777031425"
     },
     "user_tz": 240
    },
    "id": "xcqZ8g7WwJaZ",
    "outputId": "bd4b98e4-2a75-4ff5-9ae0-0d94a85db094"
   },
   "outputs": [],
   "source": [
    "max_depth = 25\n",
    "n_est = 600\n",
    "rf_model = RandomForestRegressor(n_estimators=n_est,max_depth=max_depth,random_state=0)\n",
    "rf_model.fit(train_scaler_28w_X,train_28w_y)\n",
    "y_pred_28w_rfrc = rf_model.predict(test_scaler_28w_X)\n",
    "modelEvaluation(test_28w_y, y_pred_28w_rfrc)\n",
    "\n",
    "important_features = pd.Series(data=rf_model.feature_importances_,index=dataWheat28w.drop('GrainYield', axis=1).columns)\n",
    "important_features.sort_values(ascending=False,inplace=True)\n",
    "print(important_features[:5])"
   ]
  },
  {
   "cell_type": "code",
   "execution_count": null,
   "metadata": {
    "colab": {
     "base_uri": "https://localhost:8080/",
     "height": 278
    },
    "colab_type": "code",
    "executionInfo": {
     "elapsed": 426,
     "status": "ok",
     "timestamp": 1589050766663,
     "user": {
      "displayName": "Maura Tokay",
      "photoUrl": "",
      "userId": "08366631216777031425"
     },
     "user_tz": 240
    },
    "id": "upOppIovwd-K",
    "outputId": "04113346-9661-4f63-92e5-39084dd856d1"
   },
   "outputs": [],
   "source": [
    "errorPlot(test_28w_y, y_pred_28w_rfrc)"
   ]
  },
  {
   "cell_type": "markdown",
   "metadata": {
    "colab_type": "text",
    "id": "ktgxbiwNwqCk"
   },
   "source": [
    "**Neural Network**"
   ]
  },
  {
   "cell_type": "markdown",
   "metadata": {
    "colab_type": "text",
    "id": "u9kfODOswr9e"
   },
   "source": [
    "***Build the model***\n",
    "\n",
    "\n",
    "Let's build our model. Here, we'll use a Sequential model with seven densely connected hidden layers, and an output layer that returns a single, continuous value. The model building steps are wrapped in a function, build_model, since we'll create a second model, later on."
   ]
  },
  {
   "cell_type": "code",
   "execution_count": null,
   "metadata": {
    "colab": {},
    "colab_type": "code",
    "id": "QtxmLOKzw0mF"
   },
   "outputs": [],
   "source": [
    "def build_model():\n",
    "    model = keras.Sequential([\n",
    "        layers.Dense(128, activation='relu', input_shape=[len(train_28w_X.keys())]),\n",
    "        layers.Dense(64, activation='relu'),\n",
    "        layers.Dense(32, activation='relu'),\n",
    "        layers.Flatten(),\n",
    "        layers.Dense(64, activation='relu'),\n",
    "        layers.Dense(32, activation='relu'),\n",
    "        layers.Dense(1)\n",
    "    ])\n",
    "    optimizer = tf.keras.optimizers.RMSprop(0.001)\n",
    "\n",
    "    model.compile(loss='mse',optimizer=optimizer,metrics=['mae', 'mse'])\n",
    "    return model"
   ]
  },
  {
   "cell_type": "code",
   "execution_count": null,
   "metadata": {
    "colab": {},
    "colab_type": "code",
    "id": "4umJ4PZTxGkJ"
   },
   "outputs": [],
   "source": [
    "model = build_model()"
   ]
  },
  {
   "cell_type": "markdown",
   "metadata": {
    "colab_type": "text",
    "id": "EFQZn18YxQ12"
   },
   "source": [
    "***Inspect the model***\n",
    "\n",
    "Use the .summary method to print a simple description of the model"
   ]
  },
  {
   "cell_type": "code",
   "execution_count": null,
   "metadata": {
    "colab": {
     "base_uri": "https://localhost:8080/",
     "height": 407
    },
    "colab_type": "code",
    "executionInfo": {
     "elapsed": 235,
     "status": "ok",
     "timestamp": 1589050821307,
     "user": {
      "displayName": "Maura Tokay",
      "photoUrl": "",
      "userId": "08366631216777031425"
     },
     "user_tz": 240
    },
    "id": "44bi87xvxd5V",
    "outputId": "298d181d-d441-4e3b-da8a-bfd7dc81dd06"
   },
   "outputs": [],
   "source": [
    "model.summary()"
   ]
  },
  {
   "cell_type": "markdown",
   "metadata": {
    "colab_type": "text",
    "id": "B4QXvjSSxrBr"
   },
   "source": [
    "***Train the model***\n",
    "\n",
    "Train the model for 200 epochs, and record the training and validation accuracy in the history object."
   ]
  },
  {
   "cell_type": "code",
   "execution_count": null,
   "metadata": {
    "colab": {
     "base_uri": "https://localhost:8080/",
     "height": 105
    },
    "colab_type": "code",
    "executionInfo": {
     "elapsed": 9869,
     "status": "ok",
     "timestamp": 1589050834697,
     "user": {
      "displayName": "Maura Tokay",
      "photoUrl": "",
      "userId": "08366631216777031425"
     },
     "user_tz": 240
    },
    "id": "fGCXEZNrxzVR",
    "outputId": "9e54a8e7-0dd2-48e2-b879-ae25114af514"
   },
   "outputs": [],
   "source": [
    "EPOCHS = 200\n",
    "history = model.fit(train_scaler_28w_X, train_28w_y, epochs=EPOCHS, validation_split = 0.2, verbose=0, callbacks=[tfdocs.modeling.EpochDots()])"
   ]
  },
  {
   "cell_type": "code",
   "execution_count": null,
   "metadata": {
    "colab": {},
    "colab_type": "code",
    "id": "C7jJJJ7MyFJ4"
   },
   "outputs": [],
   "source": [
    "plotter = tfdocs.plots.HistoryPlotter(smoothing_std=2)"
   ]
  },
  {
   "cell_type": "code",
   "execution_count": null,
   "metadata": {
    "colab": {
     "base_uri": "https://localhost:8080/",
     "height": 296
    },
    "colab_type": "code",
    "executionInfo": {
     "elapsed": 446,
     "status": "ok",
     "timestamp": 1589050839910,
     "user": {
      "displayName": "Maura Tokay",
      "photoUrl": "",
      "userId": "08366631216777031425"
     },
     "user_tz": 240
    },
    "id": "m1kElT1AyGtY",
    "outputId": "c6f283da-adc6-41c3-99d8-3ec3c6f0aa2b"
   },
   "outputs": [],
   "source": [
    "plotter.plot({'Basic': history}, metric = \"mae\")\n",
    "plt.ylabel('MAE [GrainYield]')"
   ]
  },
  {
   "cell_type": "code",
   "execution_count": null,
   "metadata": {
    "colab": {
     "base_uri": "https://localhost:8080/",
     "height": 307
    },
    "colab_type": "code",
    "executionInfo": {
     "elapsed": 489,
     "status": "ok",
     "timestamp": 1589050843773,
     "user": {
      "displayName": "Maura Tokay",
      "photoUrl": "",
      "userId": "08366631216777031425"
     },
     "user_tz": 240
    },
    "id": "-CWkBhgoyQ6s",
    "outputId": "b1f7f021-11dc-4406-ebb3-145c5c665b13"
   },
   "outputs": [],
   "source": [
    "plotter.plot({'Basic': history}, metric = \"mse\")\n",
    "plt.ylabel('MSE [GrainYield^2]')"
   ]
  },
  {
   "cell_type": "code",
   "execution_count": null,
   "metadata": {
    "colab": {
     "base_uri": "https://localhost:8080/",
     "height": 70
    },
    "colab_type": "code",
    "executionInfo": {
     "elapsed": 5032,
     "status": "ok",
     "timestamp": 1589050853084,
     "user": {
      "displayName": "Maura Tokay",
      "photoUrl": "",
      "userId": "08366631216777031425"
     },
     "user_tz": 240
    },
    "id": "GnwoF2GHygbd",
    "outputId": "263829fd-1a21-4bd2-f613-82e7cf7cdebe"
   },
   "outputs": [],
   "source": [
    "model = build_model()\n",
    "\n",
    "# The patience parameter is the amount of epochs to check for improvement\n",
    "early_stop = keras.callbacks.EarlyStopping(monitor='val_loss', patience=30)\n",
    "early_history = model.fit(train_scaler_28w_X, train_28w_y, epochs=EPOCHS, validation_split = 0.2, verbose=0, callbacks=[early_stop, tfdocs.modeling.EpochDots()])"
   ]
  },
  {
   "cell_type": "code",
   "execution_count": null,
   "metadata": {
    "colab": {
     "base_uri": "https://localhost:8080/",
     "height": 52
    },
    "colab_type": "code",
    "executionInfo": {
     "elapsed": 325,
     "status": "ok",
     "timestamp": 1589050856355,
     "user": {
      "displayName": "Maura Tokay",
      "photoUrl": "",
      "userId": "08366631216777031425"
     },
     "user_tz": 240
    },
    "id": "utkx3bWZyvwv",
    "outputId": "f0f46126-8610-4790-ef4d-7a63f4a939b2"
   },
   "outputs": [],
   "source": [
    "loss, mae, mse = model.evaluate(test_scaler_28w_X, test_28w_y, verbose=2)\n",
    "print(\"Testing set Mean Abs Error: {:5.2f} GrainYield\".format(mae))"
   ]
  },
  {
   "cell_type": "code",
   "execution_count": null,
   "metadata": {
    "colab": {
     "base_uri": "https://localhost:8080/",
     "height": 354
    },
    "colab_type": "code",
    "executionInfo": {
     "elapsed": 524,
     "status": "ok",
     "timestamp": 1589050859608,
     "user": {
      "displayName": "Maura Tokay",
      "photoUrl": "",
      "userId": "08366631216777031425"
     },
     "user_tz": 240
    },
    "id": "zsd8DEdMy9kh",
    "outputId": "6e5ca462-cbaa-4665-ae5f-5b3526f7a63a"
   },
   "outputs": [],
   "source": [
    "y_pred_28w_nn = model.predict(test_scaler_28w_X).flatten()\n",
    "modelEvaluation(test_28w_y, y_pred_28w_nn)"
   ]
  },
  {
   "cell_type": "code",
   "execution_count": null,
   "metadata": {
    "colab": {
     "base_uri": "https://localhost:8080/",
     "height": 278
    },
    "colab_type": "code",
    "executionInfo": {
     "elapsed": 533,
     "status": "ok",
     "timestamp": 1589050863205,
     "user": {
      "displayName": "Maura Tokay",
      "photoUrl": "",
      "userId": "08366631216777031425"
     },
     "user_tz": 240
    },
    "id": "EDquyFjAzO14",
    "outputId": "9e446cf6-a832-47ec-8586-d244409d4cab"
   },
   "outputs": [],
   "source": [
    "errorPlot(test_28w_y, y_pred_28w_nn)"
   ]
  },
  {
   "cell_type": "code",
   "execution_count": null,
   "metadata": {
    "colab": {
     "base_uri": "https://localhost:8080/",
     "height": 368
    },
    "colab_type": "code",
    "executionInfo": {
     "elapsed": 593,
     "status": "ok",
     "timestamp": 1589052688447,
     "user": {
      "displayName": "Maura Tokay",
      "photoUrl": "",
      "userId": "08366631216777031425"
     },
     "user_tz": 240
    },
    "id": "eFTvwEOezjoW",
    "outputId": "b48d4977-356a-43ca-adf9-dc3e91575d5a"
   },
   "outputs": [],
   "source": [
    "data = np.array([[median_absolute_error(test_28w_y, y_pred_28w_lm), median_absolute_error(test_29w_y, y_pred_29w_lm), median_absolute_error(test_30w_y, y_pred_30w_lm), median_absolute_error(test_31w_y, y_pred_31w_lm)],\n",
    "                 [median_absolute_error(test_28w_y, y_pred_28w_dtr), median_absolute_error(test_29w_y, y_pred_29w_dtr), median_absolute_error(test_30w_y, y_pred_30w_dtr), median_absolute_error(test_31w_y, y_pred_31w_dtr)],\n",
    "                 [median_absolute_error(test_28w_y, y_pred_28w_rfr), median_absolute_error(test_29w_y, y_pred_29w_rfr), median_absolute_error(test_30w_y, y_pred_30w_rfr), median_absolute_error(test_31w_y, y_pred_31w_rfr)],\n",
    "                 [median_absolute_error(test_28w_y, y_pred_28w_rfrc), median_absolute_error(test_29w_y, y_pred_29w_rfrc), median_absolute_error(test_30w_y, y_pred_30w_rfrc), median_absolute_error(test_31w_y, y_pred_31w_rfrc)],\n",
    "                 [median_absolute_error(test_28w_y, y_pred_28w_nn), median_absolute_error(test_29w_y, y_pred_29w_nn), median_absolute_error(test_30w_y, y_pred_30w_nn), median_absolute_error(test_31w_y, y_pred_31w_nn)]])\n",
    "length = len(data)\n",
    "x_labels = ['Lasso', 'Decision Tree', 'Random Forest', 'Random Forest C', 'Neural Network']\n",
    "\n",
    "# Set plot parameters\n",
    "fig, ax = plt.subplots()\n",
    "fig.set_size_inches(7,5)\n",
    "\n",
    "width = 0.2 # width of bar\n",
    "x = np.arange(length)\n",
    "\n",
    "ax.bar(x, data[:,0], width, color='#000080', label='28 weeks')\n",
    "ax.bar(x + width, data[:,1], width, color='#0F52BA', label='29 weeks')\n",
    "ax.bar(x + (2 * width), data[:,2], width, color='#6593F5', label='30 weeks')\n",
    "ax.bar(x + (3 * width), data[:,3], width, color='#93b4fa', label='31 weeks')\n",
    "\n",
    "ax.set_ylim(300,455)\n",
    "ax.set_xticks(x + width + width/2)\n",
    "ax.set_xticklabels(x_labels)\n",
    "ax.set_ylabel('Grain Yield (kg/ha)')\n",
    "ax.set_xlabel('Regression Model')\n",
    "ax.set_title('Median Absolute Percentage Error (MAPE)')\n",
    "ax.legend()\n",
    "plt.grid(True, 'major', 'y', ls='--', lw=.5, c='k', alpha=.3)\n",
    "\n",
    "fig.tight_layout()\n",
    "plt.show()"
   ]
  },
  {
   "cell_type": "code",
   "execution_count": null,
   "metadata": {
    "colab": {
     "base_uri": "https://localhost:8080/",
     "height": 368
    },
    "colab_type": "code",
    "executionInfo": {
     "elapsed": 630,
     "status": "ok",
     "timestamp": 1589052666570,
     "user": {
      "displayName": "Maura Tokay",
      "photoUrl": "",
      "userId": "08366631216777031425"
     },
     "user_tz": 240
    },
    "id": "JnXDzeMc0wv6",
    "outputId": "6f6c7a66-3a6a-422b-c30b-951d5af3bea7"
   },
   "outputs": [],
   "source": [
    "data = np.array([[r2_score(y_pred_28w_lm, test_28w_y), r2_score(y_pred_29w_lm, test_29w_y), r2_score(y_pred_30w_lm, test_30w_y), r2_score(y_pred_31w_lm, test_31w_y)],\n",
    "                 [r2_score(y_pred_28w_dtr, test_28w_y), r2_score(y_pred_29w_dtr, test_29w_y), r2_score(y_pred_30w_dtr, test_30w_y), r2_score(y_pred_31w_dtr, test_31w_y)],\n",
    "                 [r2_score(y_pred_28w_rfr, test_28w_y), r2_score(y_pred_29w_rfr, test_29w_y), r2_score(y_pred_30w_rfr, test_30w_y), r2_score(y_pred_31w_rfr, test_31w_y)],\n",
    "                 [r2_score(y_pred_28w_rfrc, test_28w_y), r2_score(y_pred_29w_rfrc, test_29w_y), r2_score(y_pred_30w_rfrc, test_30w_y), r2_score(y_pred_31w_rfrc, test_31w_y)],\n",
    "                 [r2_score(y_pred_28w_nn, test_28w_y), r2_score(y_pred_29w_nn, test_29w_y), r2_score(y_pred_30w_nn, test_30w_y), r2_score(y_pred_31w_nn, test_31w_y)]])\n",
    "length = len(data)\n",
    "x_labels = ['Lasso', 'Decision Tree', 'Random Forest', 'Random Forest C', 'Neural Network']\n",
    "\n",
    "# Set plot parameters\n",
    "fig, ax = plt.subplots()\n",
    "fig.set_size_inches(7,5)\n",
    "width = 0.2 # width of bar\n",
    "x = np.arange(length)\n",
    "\n",
    "ax.bar(x, data[:,0], width, color='#000080', label='28 weeks')\n",
    "ax.bar(x + width, data[:,1], width, color='#0F52BA', label='29 weeks')\n",
    "ax.bar(x + (2 * width), data[:,2], width, color='#6593F5', label='30 weeks')\n",
    "ax.bar(x + (3 * width), data[:,3], width, color='#93b4fa', label='31 weeks')\n",
    "\n",
    "ax.set_ylim(0.49,0.75)\n",
    "ax.set_xticks(x + width + width/2)\n",
    "ax.set_xticklabels(x_labels)\n",
    "ax.set_xlabel('Regression Model')\n",
    "ax.set_title('Coefficient of Determination (R^2)')\n",
    "ax.legend()\n",
    "plt.grid(True, 'major', 'y', ls='--', lw=.5, c='k', alpha=.3)\n",
    "\n",
    "fig.tight_layout()\n",
    "plt.show()"
   ]
  }
 ],
 "metadata": {
  "colab": {
   "collapsed_sections": [],
   "name": "PredictWheatYieldD4.ipynb",
   "provenance": [
    {
     "file_id": "1OBYhzFUbB4r70erWd9AwUCElmcyVNZqS",
     "timestamp": 1548871654118
    }
   ]
  },
  "kernelspec": {
   "display_name": "user_tensorflow",
   "language": "python",
   "name": "user_tensorflow"
  },
  "language_info": {
   "codemirror_mode": {
    "name": "ipython",
    "version": 3
   },
   "file_extension": ".py",
   "mimetype": "text/x-python",
   "name": "python",
   "nbconvert_exporter": "python",
   "pygments_lexer": "ipython3",
   "version": "3.7.9"
  }
 },
 "nbformat": 4,
 "nbformat_minor": 4
}
