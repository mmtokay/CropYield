{
 "cells": [
  {
   "cell_type": "markdown",
   "metadata": {
    "colab_type": "text",
    "id": "gD2Nxo0AHu7w"
   },
   "source": [
    "This dataset is part of the [Farming Systems Project](https://www.ars.usda.gov/northeast-area/beltsville-md-barc/beltsville-agricultural-research-center/sustainable-agricultural-systems-laboratory/docs/farming-systems-project/) at USDA, Beltsville MD.  This data is not available online on the USDA website but can be found on my [GitHub](https://github.com/mmtokay/DATA606/tree/master/datasets).\n",
    "\n",
    "\n",
    "The data is split in two files, one that contains crop information and other with weather data.\n",
    "\n",
    "Crop file:\n",
    "* Crop - wheat, corn or soybean           \n",
    "* GrowingSeason - year crop was cultivated \n",
    "* SystemName - crop management (traditional: NT and CT; organic: Org2, Org3 and Org6')    \n",
    "* GrainYield - grain yield measured in kg/ha     \n",
    "* PlantingDate - date seeds were planted  \n",
    "* HarvestDate - date crop was harvested\n",
    "\n",
    "\n",
    "Weather file:\n",
    "* Year \n",
    "* Julian Day \n",
    "* Month\n",
    "* Day\n",
    "* Date\n",
    "* avgtTempC - average temperature in C\n",
    "* maxTempC - maximum temperature in C\n",
    "* minTempC - minimum temperature in C\n",
    "* maxHumPct - maximum humidity in %\n",
    "* minHumPct - minimum humidity in %\n",
    "* avgRadWm-2 - average radiation in w/m2\n",
    "* meanWindMs-1 - mean wind in m/s\n",
    "* PrecipitationMm - precipitation/snow melt in mm\n",
    "\n",
    "# Feature Engineering"
   ]
  },
  {
   "cell_type": "code",
   "execution_count": null,
   "metadata": {
    "colab": {
     "base_uri": "https://localhost:8080/",
     "height": 125
    },
    "colab_type": "code",
    "executionInfo": {
     "elapsed": 25377,
     "status": "ok",
     "timestamp": 1588988140507,
     "user": {
      "displayName": "Maura Tokay",
      "photoUrl": "",
      "userId": "08366631216777031425"
     },
     "user_tz": 240
    },
    "id": "-WqchYRo7LRu",
    "outputId": "173a30db-7e48-4ff8-cbe6-53490dde8f39"
   },
   "outputs": [],
   "source": [
    "import io\n",
    "import matplotlib.pyplot as plt\n",
    "import numpy as np\n",
    "import pandas as pd\n",
    "import re\n",
    "import warnings\n",
    "import time\n",
    "\n",
    "from datetime import datetime, timedelta\n",
    "from sklearn import linear_model\n",
    "from sklearn.decomposition import PCA\n",
    "from sklearn.ensemble import RandomForestRegressor\n",
    "from sklearn.linear_model import LogisticRegression, LinearRegression, RidgeClassifier\n",
    "from sklearn.metrics import *\n",
    "from sklearn.model_selection import train_test_split, GridSearchCV, cross_val_score, cross_val_predict, cross_validate\n",
    "from sklearn.pipeline import Pipeline\n",
    "from sklearn.preprocessing import OneHotEncoder, PolynomialFeatures, RobustScaler, Normalizer, MinMaxScaler, StandardScaler, Binarizer\n",
    "from sklearn.tree import DecisionTreeRegressor, export_graphviz\n",
    "from sklearn.utils import shuffle\n",
    "from time import time\n",
    "\n",
    "warnings.simplefilter(action='ignore', category=FutureWarning)"
   ]
  },
  {
   "cell_type": "markdown",
   "metadata": {
    "colab_type": "text",
    "id": "h9zzD1CZrnxv"
   },
   "source": [
    "# Crop Data\n",
    "Import crop data file."
   ]
  },
  {
   "cell_type": "code",
   "execution_count": null,
   "metadata": {
    "colab": {
     "base_uri": "https://localhost:8080/",
     "height": 247
    },
    "colab_type": "code",
    "executionInfo": {
     "elapsed": 1402,
     "status": "ok",
     "timestamp": 1588988179190,
     "user": {
      "displayName": "Maura Tokay",
      "photoUrl": "",
      "userId": "08366631216777031425"
     },
     "user_tz": 240
    },
    "id": "X0w-Kyvd8NLT",
    "outputId": "83119cca-60d4-4dd8-b8a6-403e839b7217"
   },
   "outputs": [],
   "source": [
    "data = pd.read_csv('./dataset/FSPGrainYieldsV3Clean.csv')\n",
    "data.info()"
   ]
  },
  {
   "cell_type": "code",
   "execution_count": null,
   "metadata": {
    "colab": {
     "base_uri": "https://localhost:8080/",
     "height": 194
    },
    "colab_type": "code",
    "executionInfo": {
     "elapsed": 438,
     "status": "ok",
     "timestamp": 1588988182885,
     "user": {
      "displayName": "Maura Tokay",
      "photoUrl": "",
      "userId": "08366631216777031425"
     },
     "user_tz": 240
    },
    "id": "BPS7JxullD3L",
    "outputId": "87d573ee-8589-4228-f957-96824a52fedd"
   },
   "outputs": [],
   "source": [
    "# Convert PlantingDate and HarvestDate from object to date\n",
    "data['PlantingDate'] = pd.to_datetime(data.PlantingDate)\n",
    "data['HarvestDate'] = pd.to_datetime(data.HarvestDate)\n",
    "\n",
    "print(\"\\nLet's check if there is any data missing on the dataset.\\n\")\n",
    "data.isna().sum()"
   ]
  },
  {
   "cell_type": "code",
   "execution_count": null,
   "metadata": {
    "colab": {
     "base_uri": "https://localhost:8080/",
     "height": 247
    },
    "colab_type": "code",
    "executionInfo": {
     "elapsed": 399,
     "status": "ok",
     "timestamp": 1588988187733,
     "user": {
      "displayName": "Maura Tokay",
      "photoUrl": "",
      "userId": "08366631216777031425"
     },
     "user_tz": 240
    },
    "id": "kNfhNynJNLiL",
    "outputId": "2aaecbcf-0561-4367-fe7b-8274f9513b0d"
   },
   "outputs": [],
   "source": [
    "# Calculate duration between PlantingDate and HarvestDate\n",
    "data['weekDuration'] = data['HarvestDate'] - data['PlantingDate']\n",
    "data['weekDuration'] = data['weekDuration']/np.timedelta64(1,'W')\n",
    "print('\\nCheck unique values for Crop, GrowingSeason and SystemName columns.\\n')\n",
    "print(\"Crop\", data.Crop.unique())\n",
    "print(\"\\nGrowing Season\", data.GrowingSeason.unique())\n",
    "print(\"\\nCrop Management Type\", data.SystemName.unique())\n",
    "print(\"\\nThere are duplicate values for SystemManagement because column values are case sensitive. I will convert SystemName column to uppercase.\")\n",
    "data['SystemName'] = data['SystemName'].str.upper()\n",
    "print(\"\\nCrop Management Type\", data.SystemName.unique())"
   ]
  },
  {
   "cell_type": "code",
   "execution_count": null,
   "metadata": {
    "colab": {
     "base_uri": "https://localhost:8080/",
     "height": 197
    },
    "colab_type": "code",
    "executionInfo": {
     "elapsed": 393,
     "status": "ok",
     "timestamp": 1588988194655,
     "user": {
      "displayName": "Maura Tokay",
      "photoUrl": "",
      "userId": "08366631216777031425"
     },
     "user_tz": 240
    },
    "id": "Uxam03EF85pP",
    "outputId": "cda347e3-1cfa-4303-a95f-dd77a9e4bd78"
   },
   "outputs": [],
   "source": [
    "# 1 for conventional\n",
    "# 0 for organic\n",
    "data['SystemNameType'] = ((data.SystemName == \"NT\") | (data.SystemName == \"CT\")).map({True:'1', False:'0'})\n",
    "# Drop SystemName column\n",
    "data.drop('SystemName', axis=1, inplace=True)\n",
    "data.head()"
   ]
  },
  {
   "cell_type": "markdown",
   "metadata": {
    "colab_type": "text",
    "id": "jKTFN5rr0_xe"
   },
   "source": [
    "I will separate the data by crop: corn, soybean and wheat and I will display basic statistics for each crop.\n",
    "\n",
    "# Corn dataset - Statistics"
   ]
  },
  {
   "cell_type": "code",
   "execution_count": null,
   "metadata": {
    "colab": {
     "base_uri": "https://localhost:8080/",
     "height": 437
    },
    "colab_type": "code",
    "executionInfo": {
     "elapsed": 370,
     "status": "ok",
     "timestamp": 1588988199741,
     "user": {
      "displayName": "Maura Tokay",
      "photoUrl": "",
      "userId": "08366631216777031425"
     },
     "user_tz": 240
    },
    "id": "REkL1Qd1LFXe",
    "outputId": "ab2c0424-8bcd-451f-e9cf-9ddb95096c0a"
   },
   "outputs": [],
   "source": [
    "data_corn = data.loc[data['Crop'] == \"CRN\"]\n",
    "data_corn.reset_index(inplace = True)\n",
    "data_corn.describe(include=\"all\")"
   ]
  },
  {
   "cell_type": "markdown",
   "metadata": {
    "colab_type": "text",
    "id": "IIYFJ0Bu1i0v"
   },
   "source": [
    "# Soybean dataset - Statistics"
   ]
  },
  {
   "cell_type": "code",
   "execution_count": null,
   "metadata": {
    "colab": {
     "base_uri": "https://localhost:8080/",
     "height": 437
    },
    "colab_type": "code",
    "executionInfo": {
     "elapsed": 415,
     "status": "ok",
     "timestamp": 1588988206024,
     "user": {
      "displayName": "Maura Tokay",
      "photoUrl": "",
      "userId": "08366631216777031425"
     },
     "user_tz": 240
    },
    "id": "7ITzsK4PAzlm",
    "outputId": "d84fc071-e85f-485a-cf4d-d825fc8130a6"
   },
   "outputs": [],
   "source": [
    "data_soy = data.loc[data['Crop'] == \"SOY\"]\n",
    "data_soy.reset_index(inplace = True)\n",
    "data_soy.describe(include=\"all\")"
   ]
  },
  {
   "cell_type": "markdown",
   "metadata": {
    "colab_type": "text",
    "id": "P83mjxjc13pe"
   },
   "source": [
    "# Wheat dataset - Statistics"
   ]
  },
  {
   "cell_type": "code",
   "execution_count": null,
   "metadata": {
    "colab": {
     "base_uri": "https://localhost:8080/",
     "height": 437
    },
    "colab_type": "code",
    "executionInfo": {
     "elapsed": 391,
     "status": "ok",
     "timestamp": 1588988210517,
     "user": {
      "displayName": "Maura Tokay",
      "photoUrl": "",
      "userId": "08366631216777031425"
     },
     "user_tz": 240
    },
    "id": "NgzaZ5fZD3Tn",
    "outputId": "4e568f57-ad93-4151-b951-92ead2984585"
   },
   "outputs": [],
   "source": [
    "data_wheat = data.loc[data['Crop'] == \"WHT\"]\n",
    "data_wheat.reset_index(inplace = True)\n",
    "data_wheat.describe(include=\"all\")"
   ]
  },
  {
   "cell_type": "markdown",
   "metadata": {
    "colab_type": "text",
    "id": "dad9fYyxEY97"
   },
   "source": [
    "# Week Duration For Each Crop\n",
    "I will use the minimum week duration to generate weather features:\n",
    "\n",
    "corn = 16\n",
    "\n",
    "soybeans = 15\n",
    "\n",
    "wheat = 31\n"
   ]
  },
  {
   "cell_type": "markdown",
   "metadata": {
    "colab_type": "text",
    "id": "6C6kEo8qAcnk"
   },
   "source": [
    "# Weather Data\n",
    "\n",
    "Import weather data."
   ]
  },
  {
   "cell_type": "code",
   "execution_count": null,
   "metadata": {
    "colab": {
     "base_uri": "https://localhost:8080/",
     "height": 603
    },
    "colab_type": "code",
    "executionInfo": {
     "elapsed": 1276,
     "status": "ok",
     "timestamp": 1588988231574,
     "user": {
      "displayName": "Maura Tokay",
      "photoUrl": "",
      "userId": "08366631216777031425"
     },
     "user_tz": 240
    },
    "id": "6GHb5SrNA0pB",
    "outputId": "7a890e40-de6f-4cf4-aa38-697325d50f2e"
   },
   "outputs": [],
   "source": [
    "weather_data = pd.read_csv('./dataset/FSPWeather1996-2019V2.csv')\n",
    "weather_data['Date'] = pd.to_datetime(weather_data.Date)\n",
    "print(weather_data.describe(include=\"all\"))\n",
    "print(\"\\nLet's check if there is any data missing on the dataset.\\n\")\n",
    "print(weather_data.isna().sum())"
   ]
  },
  {
   "cell_type": "code",
   "execution_count": null,
   "metadata": {
    "colab": {
     "base_uri": "https://localhost:8080/",
     "height": 301
    },
    "colab_type": "code",
    "executionInfo": {
     "elapsed": 361,
     "status": "ok",
     "timestamp": 1588988237987,
     "user": {
      "displayName": "Maura Tokay",
      "photoUrl": "",
      "userId": "08366631216777031425"
     },
     "user_tz": 240
    },
    "id": "rp4D7XGeEY9-",
    "outputId": "7b149418-9ef8-4b90-f7d4-e5c6b296263e"
   },
   "outputs": [],
   "source": [
    "weather_data.drop(['Year','JulianDay','Month',' Day','avgRadWm-2'], axis=1, inplace=True)\n",
    "print(weather_data.describe(include=\"all\"))"
   ]
  },
  {
   "cell_type": "markdown",
   "metadata": {
    "colab_type": "text",
    "id": "w4JsHlG3jd2h"
   },
   "source": [
    "I will calculate growing degree days (GDD) that \"are used to estimate the growth and development of plants and insects during the growing season. The basic concept is that development will only occur if the temperature exceeds some minimum development threshold, or base temperature (TBASE). The base temperatures are determined experimentally and are different for each organism\". [1]\n",
    "\n",
    "GDD formula for corn and soybean:\n",
    "\n",
    "GDD = (Daily Max Temp °C + Daily Min Temp °C) / 2 - 10\n",
    "\n",
    "GDD formula wheat:\n",
    "\n",
    "GDD = (Daily Max Temp °C + Daily Min Temp °C) / 2 - 4.4"
   ]
  },
  {
   "cell_type": "code",
   "execution_count": null,
   "metadata": {
    "colab": {},
    "colab_type": "code",
    "id": "5cyEv5ehJjb5"
   },
   "outputs": [],
   "source": [
    "def calcGDD(df,startDate,endDate,factor):\n",
    "    gdd = 0\n",
    "    for i, j in df.loc[(df.Date >= startDate) & (df.Date <= endDate)].iterrows():\n",
    "        gdd = gdd + (((j['maxTempC']+j['minTempC'])/2)-factor)\n",
    "    return gdd\n",
    "\n",
    "def calcAverage(df,startDate,endDate,var):\n",
    "    sum = 0\n",
    "    avg = 0\n",
    "    for i, j in df.loc[(df.Date >= startDate) & (df.Date <= endDate)].iterrows():\n",
    "        sum = sum + j[var]\n",
    "    if sum > 0:\n",
    "        avg = sum/(i+1)\n",
    "    return avg\n",
    "\n",
    "def calcMax(df,startDate,endDate,var):\n",
    "    val = []\n",
    "    for i, j in df.loc[(df.Date >= startDate) & (df.Date <= endDate)].iterrows():\n",
    "        val.append(j[var])\n",
    "    maxVal = max(val)\n",
    "    return maxVal\n",
    "\n",
    "def calcMin(df,startDate,endDate,var):\n",
    "    val = []\n",
    "    for i, j in df.loc[(df.Date >= startDate) & (df.Date <= endDate)].iterrows():\n",
    "        val.append(j[var])\n",
    "    minVal = min(val)\n",
    "    return minVal\n",
    "\n",
    "def calcSum(df,startDate,endDate,var):\n",
    "    sum = 0\n",
    "    for i, j in df.loc[(df.Date >= startDate) & (df.Date <= endDate)].iterrows():\n",
    "        sum = sum + j[var]\n",
    "    return sum\n",
    "\n",
    "def createFeaturesMatrix(cropData,weatherData,numWeeks,GDDFactor):\n",
    "    master_tp = list()\n",
    "    colName = ()\n",
    "    i = 0\n",
    "    j = 0\n",
    "    for i, j in cropData.iterrows():\n",
    "        if (i == 0):\n",
    "            startDate = j['PlantingDate']\n",
    "        #start calculating date ranges to aggregate weather data for 16 weeks starting from plantingDate\n",
    "        new_tp = ()\n",
    "        for w in range(numWeeks):\n",
    "            temp_tuple = ()\n",
    "            beginWeek = j['PlantingDate'] + timedelta(days=7)*w\n",
    "            endWeek = j['PlantingDate'] + timedelta(days=7)*(w+1)\n",
    "            if(w==(numWeeks-1)):\n",
    "                temp_tuple = (calcAverage(weather_data,beginWeek,endWeek,'avgtTempC'),\\\n",
    "                              calcMax(weather_data,beginWeek,endWeek,'maxTempC'),\\\n",
    "                              calcMin(weather_data,beginWeek,endWeek,'minTempC'),\\\n",
    "                              calcMax(weather_data,beginWeek,endWeek,'maxHumPct'),\\\n",
    "                              calcMin(weather_data,beginWeek,endWeek,'minHumPct'),\\\n",
    "                              calcAverage(weather_data,beginWeek,endWeek,'meanWindMs-1'),\\\n",
    "                              calcSum(weather_data,beginWeek,endWeek,'PrecipitationMm'),\\\n",
    "                              calcGDD(weather_data,startDate,endWeek,GDDFactor),\\\n",
    "                              j['SystemNameType'],j['GrainYield'])\n",
    "                if (i == 0):\n",
    "                    colName = colName + ('avgTemp'+str(w+1),'maxTemp'+str(w+1),'minTemp'+str(w+1),\\\n",
    "                                         'maxHum'+str(w+1),'minHum'+str(w+1),'meanWind'+str(w+1),\\\n",
    "                                         'Precip'+str(w+1),'GDD','SystemNameType','GrainYield')\n",
    "            else:\n",
    "                temp_tuple = (calcAverage(weather_data,beginWeek,endWeek,'avgtTempC'),\\\n",
    "                              calcMax(weather_data,beginWeek,endWeek,'maxTempC'),\\\n",
    "                              calcMin(weather_data,beginWeek,endWeek,'minTempC'),\\\n",
    "                              calcMax(weather_data,beginWeek,endWeek,'maxHumPct'),\\\n",
    "                              calcMin(weather_data,beginWeek,endWeek,'minHumPct'),\\\n",
    "                              calcAverage(weather_data,beginWeek,endWeek,'meanWindMs-1'),\\\n",
    "                              calcSum(weather_data,beginWeek,endWeek,'PrecipitationMm'))\n",
    "                if (i == 0):\n",
    "                    colName = colName + ('avgTemp'+str(w+1),'maxTemp'+str(w+1),'minTemp'+str(w+1),\\\n",
    "                                         'maxHum'+str(w+1),'minHum'+str(w+1),'meanWind'+str(w+1),\\\n",
    "                                         'Precip'+str(w+1))\n",
    "            new_tp = new_tp + temp_tuple\n",
    "        #print(new_tp)\n",
    "        master_tp.append(new_tp)\n",
    "\n",
    "    new_df = pd.DataFrame(list(master_tp),columns = colName)\n",
    "    return(new_df)"
   ]
  },
  {
   "cell_type": "markdown",
   "metadata": {
    "colab_type": "text",
    "id": "u-ujjKj9Ym4e"
   },
   "source": [
    "# Corn"
   ]
  },
  {
   "cell_type": "code",
   "execution_count": null,
   "metadata": {
    "colab": {
     "base_uri": "https://localhost:8080/",
     "height": 316
    },
    "colab_type": "code",
    "executionInfo": {
     "elapsed": 355,
     "status": "error",
     "timestamp": 1588988258366,
     "user": {
      "displayName": "Maura Tokay",
      "photoUrl": "",
      "userId": "08366631216777031425"
     },
     "user_tz": 240
    },
    "id": "K6NlFlh2pBRt",
    "outputId": "c84bb24a-9a63-4b1d-a568-bd17ad7aa51b"
   },
   "outputs": [],
   "source": [
    "data_corn.drop(['Crop','GrowingSeason','HarvestDate','weekDuration'], axis=1, inplace=True)"
   ]
  },
  {
   "cell_type": "code",
   "execution_count": null,
   "metadata": {
    "colab": {},
    "colab_type": "code",
    "id": "6oKwkLRSEY-J"
   },
   "outputs": [],
   "source": [
    "new_df16 = createFeaturesMatrix(data_corn,weather_data,16,10)\n",
    "new_df16.to_csv(r'./dataset/cornFeatures16w.csv', index = False, header=True)"
   ]
  },
  {
   "cell_type": "code",
   "execution_count": null,
   "metadata": {
    "colab": {},
    "colab_type": "code",
    "id": "Huu2PGcHEY-M"
   },
   "outputs": [],
   "source": [
    "new_df15 = createFeaturesMatrix(data_corn,weather_data,15,10)\n",
    "new_df15.to_csv(r'./dataset/cornFeatures15w.csv', index = False, header=True)"
   ]
  },
  {
   "cell_type": "code",
   "execution_count": null,
   "metadata": {
    "colab": {},
    "colab_type": "code",
    "id": "YDd95i96EY-P"
   },
   "outputs": [],
   "source": [
    "new_df14 = createFeaturesMatrix(data_corn,weather_data,14,10)\n",
    "new_df14.to_csv(r'./dataset/cornFeatures14w.csv', index = False, header=True)"
   ]
  },
  {
   "cell_type": "code",
   "execution_count": null,
   "metadata": {
    "colab": {},
    "colab_type": "code",
    "id": "r46nJC3FFMR6"
   },
   "outputs": [],
   "source": [
    "new_df13 = createFeaturesMatrix(data_corn,weather_data,13,10)\n",
    "new_df13.to_csv(r'./dataset/cornFeatures13w.csv', index = False, header=True)"
   ]
  },
  {
   "cell_type": "markdown",
   "metadata": {
    "colab_type": "text",
    "id": "_ULc9Qb3EY-R"
   },
   "source": [
    "# Soybean"
   ]
  },
  {
   "cell_type": "code",
   "execution_count": null,
   "metadata": {
    "colab": {
     "base_uri": "https://localhost:8080/",
     "height": 105
    },
    "colab_type": "code",
    "executionInfo": {
     "elapsed": 582,
     "status": "ok",
     "timestamp": 1588989371015,
     "user": {
      "displayName": "Maura Tokay",
      "photoUrl": "",
      "userId": "08366631216777031425"
     },
     "user_tz": 240
    },
    "id": "7_Z4fTLiEY-S",
    "outputId": "0223a4a2-e5ec-4340-e933-ac8f6d8a70df"
   },
   "outputs": [],
   "source": [
    "data_soy.drop(['Crop','GrowingSeason','HarvestDate','weekDuration'], axis=1, inplace=True)"
   ]
  },
  {
   "cell_type": "code",
   "execution_count": null,
   "metadata": {
    "colab": {},
    "colab_type": "code",
    "id": "nudtDSIYEY-U"
   },
   "outputs": [],
   "source": [
    "new_soy_df15 = createFeaturesMatrix(data_soy,weather_data,15,10)\n",
    "new_soy_df15.to_csv(r'./dataset/soyFeatures15w.csv', index = False, header=True)"
   ]
  },
  {
   "cell_type": "code",
   "execution_count": null,
   "metadata": {
    "colab": {},
    "colab_type": "code",
    "id": "ChXDSDV3EY-W"
   },
   "outputs": [],
   "source": [
    "new_soy_df14 = createFeaturesMatrix(data_soy,weather_data,14,10)\n",
    "new_soy_df14.to_csv(r'./dataset/soyFeatures14w.csv', index = False, header=True)"
   ]
  },
  {
   "cell_type": "code",
   "execution_count": null,
   "metadata": {
    "colab": {},
    "colab_type": "code",
    "id": "-zD-wXxCEY-Y"
   },
   "outputs": [],
   "source": [
    "new_soy_df13 = createFeaturesMatrix(data_soy,weather_data,13,10)\n",
    "new_soy_df13.to_csv(r'./dataset/soyFeatures13w.csv', index = False, header=True)"
   ]
  },
  {
   "cell_type": "code",
   "execution_count": null,
   "metadata": {
    "colab": {},
    "colab_type": "code",
    "id": "Jpv0jjzXJn9G"
   },
   "outputs": [],
   "source": [
    "new_soy_df12 = createFeaturesMatrix(data_soy,weather_data,12,10)\n",
    "new_soy_df12.to_csv(r'./dataset/soyFeatures12w.csv', index = False, header=True)"
   ]
  },
  {
   "cell_type": "markdown",
   "metadata": {
    "colab_type": "text",
    "id": "YddY8iI2EY-a"
   },
   "source": [
    "# Wheat"
   ]
  },
  {
   "cell_type": "code",
   "execution_count": null,
   "metadata": {
    "colab": {
     "base_uri": "https://localhost:8080/",
     "height": 105
    },
    "colab_type": "code",
    "executionInfo": {
     "elapsed": 360,
     "status": "ok",
     "timestamp": 1588990692106,
     "user": {
      "displayName": "Maura Tokay",
      "photoUrl": "",
      "userId": "08366631216777031425"
     },
     "user_tz": 240
    },
    "id": "KbUOEnQWEY-a",
    "outputId": "c2406289-8f0a-498d-9835-c4a8e6cb7abc"
   },
   "outputs": [],
   "source": [
    "data_wheat.drop(['Crop','GrowingSeason','HarvestDate','weekDuration'], axis=1, inplace=True)"
   ]
  },
  {
   "cell_type": "code",
   "execution_count": null,
   "metadata": {
    "colab": {},
    "colab_type": "code",
    "id": "jIOVz4ESEY-d"
   },
   "outputs": [],
   "source": [
    "new_wheat_df31 = createFeaturesMatrix(data_wheat,weather_data,31,4.4)\n",
    "new_wheat_df31.to_csv(r'./dataset/wheatFeatures31w.csv', index = False, header=True)"
   ]
  },
  {
   "cell_type": "code",
   "execution_count": null,
   "metadata": {
    "colab": {},
    "colab_type": "code",
    "id": "bxHrbn6XEY-f"
   },
   "outputs": [],
   "source": [
    "new_wheat_df30 = createFeaturesMatrix(data_wheat,weather_data,30,4.4)\n",
    "new_wheat_df30.to_csv(r'./dataset/wheatFeatures30w.csv', index = False, header=True)"
   ]
  },
  {
   "cell_type": "code",
   "execution_count": null,
   "metadata": {
    "colab": {},
    "colab_type": "code",
    "id": "5-LAXRt9EY-h"
   },
   "outputs": [],
   "source": [
    "new_wheat_df29 = createFeaturesMatrix(data_wheat,weather_data,29,4.4)\n",
    "new_wheat_df29.to_csv(r'./dataset/wheatFeatures29w.csv', index = False, header=True)"
   ]
  },
  {
   "cell_type": "code",
   "execution_count": null,
   "metadata": {
    "colab": {},
    "colab_type": "code",
    "id": "oWMI6wiaEY-k"
   },
   "outputs": [],
   "source": [
    "new_wheat_df28 = createFeaturesMatrix(data_wheat,weather_data,28,4.4)\n",
    "new_wheat_df28.to_csv(r'./dataset/wheatFeatures28w.csv', index = False, header=True)"
   ]
  },
  {
   "cell_type": "code",
   "execution_count": null,
   "metadata": {},
   "outputs": [],
   "source": []
  }
 ],
 "metadata": {
  "colab": {
   "collapsed_sections": [],
   "name": "PredictYieldD3_1.ipynb",
   "provenance": [
    {
     "file_id": "1OBYhzFUbB4r70erWd9AwUCElmcyVNZqS",
     "timestamp": 1548871654118
    }
   ]
  },
  "kernelspec": {
   "display_name": "user_tensorflow",
   "language": "python",
   "name": "user_tensorflow"
  },
  "language_info": {
   "codemirror_mode": {
    "name": "ipython",
    "version": 3
   },
   "file_extension": ".py",
   "mimetype": "text/x-python",
   "name": "python",
   "nbconvert_exporter": "python",
   "pygments_lexer": "ipython3",
   "version": "3.7.9"
  }
 },
 "nbformat": 4,
 "nbformat_minor": 4
}
