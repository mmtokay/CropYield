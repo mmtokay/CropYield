{
 "cells": [
  {
   "cell_type": "markdown",
   "metadata": {
    "colab_type": "text",
    "id": "gD2Nxo0AHu7w"
   },
   "source": [
    "This dataset is part of the [Farming Systems Project](https://www.ars.usda.gov/northeast-area/beltsville-md-barc/beltsville-agricultural-research-center/sustainable-agricultural-systems-laboratory/docs/farming-systems-project/) at USDA, Beltsville MD.  This data is not available online on the USDA\n",
    " website but can be found on my [GitHub](https://github.com/mmtokay/DATA606/tree/master/dataset)\n",
    "* Julian Day \n",
    "* Month\n",
    "* Day\n",
    "* Date\n",
    "* avgtTempC - average temperature in C\n",
    "* maxTempC - maximum temperature in C\n",
    "* minTempC - minimum temperature in C\n",
    "* maxHumPct - maximum humidity in %\n",
    "* minHumPct - minimum humidity in %\n",
    "* avgRadWm-2 - average radiation in w/m2\n",
    "* meanWindMs-1 - mean wind in m/s\n",
    "* PrecipitationMm - precipitation/snow me# Model A"
   ]
  },
  {
   "cell_type": "code",
   "execution_count": null,
   "metadata": {
    "colab": {
     "base_uri": "https://localhost:8080/",
     "height": 178
    },
    "colab_type": "code",
    "executionInfo": {
     "elapsed": 23394,
     "status": "ok",
     "timestamp": 1588991864248,
     "user": {
      "displayName": "Maura Tokay",
      "photoUrl": "",
      "userId": "08366631216777031425"
     },
     "user_tz": 240
    },
    "id": "-WqchYRo7LRu",
    "outputId": "0f00925e-1e9b-4774-f885-4d4c30ea5a73"
   },
   "outputs": [],
   "source": [
    "import io\n",
    "import matplotlib.pyplot as plt\n",
    "import numpy as np\n",
    "import pandas as pd\n",
    "import re\n",
    "import warnings\n",
    "import time\n",
    "import pathlib\n",
    "import seaborn as sns\n",
    "import tensorflow as tf\n",
    "import tensorflow_docs as tfdocs\n",
    "import tensorflow_docs.plots\n",
    "import tensorflow_docs.modeling\n",
    "\n",
    "from datetime import datetime, timedelta\n",
    "from sklearn import linear_model\n",
    "from sklearn.decomposition import PCA\n",
    "from sklearn.ensemble import RandomForestRegressor\n",
    "from sklearn.linear_model import LogisticRegression, LinearRegression, RidgeClassifier\n",
    "from sklearn.metrics import *\n",
    "from sklearn.model_selection import train_test_split, GridSearchCV, cross_val_score, cross_val_predict, cross_validate\n",
    "from sklearn.pipeline import Pipeline\n",
    "from sklearn.preprocessing import OneHotEncoder, PolynomialFeatures, RobustScaler, Normalizer, MinMaxScaler, StandardScaler, Binarizer\n",
    "from sklearn.tree import DecisionTreeRegressor, export_graphviz\n",
    "from sklearn.utils import shuffle\n",
    "from time import time\n",
    "from tensorflow import keras\n",
    "from tensorflow.keras import layers\n",
    "\n",
    "print(tf.__version__)\n",
    "warnings.simplefilter(action='ignore', category=FutureWarning)"
   ]
  },
  {
   "cell_type": "code",
   "execution_count": null,
   "metadata": {
    "colab": {},
    "colab_type": "code",
    "id": "VMeyR3cwD3AU"
   },
   "outputs": [],
   "source": [
    "def modelEvaluation(test_y, y_pred):\n",
    "    # Mean absolute error regression loss (Best is 0)\n",
    "    mae = mean_absolute_error(test_y, y_pred)\n",
    "    print(\"Mean absolute error regression loss (Best is 0) = {:.5f}\".format(mae))\n",
    "    \n",
    "    # Mean squared error\n",
    "    mse = mean_squared_error(test_y, y_pred)\n",
    "    print(\"Mean squared error (Best is 0) = {:.5f}\".format(mse))\n",
    "    \n",
    "    # Median absolute error regression loss\n",
    "    maerl = median_absolute_error(test_y, y_pred)\n",
    "    print(\"Median absolute error regression loss or Mean absolute percentage error (Best is 0) = {:.5f}\".format(maerl))\n",
    "    \n",
    "    # Coefficient of determination (Best is 1)\n",
    "    r2 = r2_score(y_pred, test_y)\n",
    "    print(\"Coefficient of determination (Best is 1) = {:.5f}\".format(r2))\n",
    "\n",
    "    a = plt.axes(aspect='equal')\n",
    "    plt.scatter(test_y, y_pred)\n",
    "    plt.xlabel('True Values [GrainYield]')\n",
    "    plt.ylabel('Predictions [GrainYield]')\n",
    "    lims = [0, 13000]\n",
    "    plt.xlim(lims)\n",
    "    plt.ylim(lims)\n",
    "    _ = plt.plot(lims, lims)\n",
    "\n",
    "\n",
    "def errorPlot(test_y, y_pred):\n",
    "    error = y_pred - test_y\n",
    "    plt.hist(error, bins = 25)\n",
    "    plt.xlabel(\"Prediction Error [GrainYield]\")\n",
    "    _ = plt.ylabel(\"Count\")"
   ]
  },
  {
   "cell_type": "markdown",
   "metadata": {
    "colab_type": "text",
    "id": "h9zzD1CZrnxv"
   },
   "source": [
    "# Corn - 16 weeks"
   ]
  },
  {
   "cell_type": "code",
   "execution_count": null,
   "metadata": {
    "colab": {
     "base_uri": "https://localhost:8080/",
     "height": 1000,
     "output_embedded_package_id": "1g00U9mor4EXZczmytvtHOK1Hz38LBW_a"
    },
    "colab_type": "code",
    "executionInfo": {
     "elapsed": 5805,
     "status": "ok",
     "timestamp": 1588991880463,
     "user": {
      "displayName": "Maura Tokay",
      "photoUrl": "",
      "userId": "08366631216777031425"
     },
     "user_tz": 240
    },
    "id": "X0w-Kyvd8NLT",
    "outputId": "0ffffa4d-751b-4eb9-86a0-ff219b142563"
   },
   "outputs": [],
   "source": [
    "dataCorn16w = pd.read_csv('./dataset/cornFeatures16w.csv')\n",
    "corrCorn16w = dataCorn16w.corr()\n",
    "corrCorn16w.style.background_gradient(cmap='coolwarm').set_precision(2)"
   ]
  },
  {
   "cell_type": "code",
   "execution_count": null,
   "metadata": {
    "colab": {},
    "colab_type": "code",
    "id": "OYvGQcsWBONH"
   },
   "outputs": [],
   "source": [
    "# Splitting data set\n",
    "train_16w_X, test_16w_X = train_test_split(dataCorn16w.drop('GrainYield', axis=1), random_state=1)\n",
    "train_16w_y, test_16w_y = train_test_split(dataCorn16w['GrainYield'], random_state=1)\n",
    "\n",
    "# Apply Robust Scaler\n",
    "scaler = RobustScaler()\n",
    "train_scaler_16w_X = scaler.fit_transform(train_16w_X)\n",
    "test_scaler_16w_X = scaler.transform(test_16w_X)"
   ]
  },
  {
   "cell_type": "markdown",
   "metadata": {
    "colab_type": "text",
    "id": "-Jve6pu-DSEW"
   },
   "source": [
    "**Lasso**"
   ]
  },
  {
   "cell_type": "code",
   "execution_count": null,
   "metadata": {
    "colab": {
     "base_uri": "https://localhost:8080/",
     "height": 618
    },
    "colab_type": "code",
    "executionInfo": {
     "elapsed": 618,
     "status": "ok",
     "timestamp": 1588991891917,
     "user": {
      "displayName": "Maura Tokay",
      "photoUrl": "",
      "userId": "08366631216777031425"
     },
     "user_tz": 240
    },
    "id": "ZJdrtV2HDV59",
    "outputId": "4921f681-f1b0-425f-92b6-84bb078869a3"
   },
   "outputs": [],
   "source": [
    "lm = linear_model.Lasso(alpha=0.9)\n",
    "lm.fit(train_scaler_16w_X,train_16w_y)\n",
    "y_pred_16w_lm = lm.predict(test_scaler_16w_X)\n",
    "\n",
    "modelEvaluation(test_16w_y, y_pred_16w_lm)\n",
    "important_features = pd.Series(data=lm.coef_,index=dataCorn16w.drop('GrainYield', axis=1).columns)\n",
    "important_features.sort_values(ascending=False,inplace=True)\n",
    "print(important_features[:5])\n",
    "print(important_features[-5:])"
   ]
  },
  {
   "cell_type": "code",
   "execution_count": null,
   "metadata": {
    "colab": {
     "base_uri": "https://localhost:8080/",
     "height": 278
    },
    "colab_type": "code",
    "executionInfo": {
     "elapsed": 465,
     "status": "ok",
     "timestamp": 1588991895958,
     "user": {
      "displayName": "Maura Tokay",
      "photoUrl": "",
      "userId": "08366631216777031425"
     },
     "user_tz": 240
    },
    "id": "e2v_xDYhAHdl",
    "outputId": "9736272d-d25b-431a-a6a9-0c9a077be3fb"
   },
   "outputs": [],
   "source": [
    "errorPlot(test_16w_y, y_pred_16w_lm)"
   ]
  },
  {
   "cell_type": "markdown",
   "metadata": {
    "colab_type": "text",
    "id": "jqyMOpNRVYS9"
   },
   "source": [
    "**Decision Tree Regressor**"
   ]
  },
  {
   "cell_type": "code",
   "execution_count": null,
   "metadata": {
    "colab": {
     "base_uri": "https://localhost:8080/",
     "height": 563
    },
    "colab_type": "code",
    "executionInfo": {
     "elapsed": 406,
     "status": "ok",
     "timestamp": 1588991898653,
     "user": {
      "displayName": "Maura Tokay",
      "photoUrl": "",
      "userId": "08366631216777031425"
     },
     "user_tz": 240
    },
    "id": "pdxU3vXsVjrU",
    "outputId": "9e8328fb-df5d-4737-ef8d-47c3c7e7adcc"
   },
   "outputs": [],
   "source": [
    "tree_model = DecisionTreeRegressor()\n",
    "tree_model.fit(train_scaler_16w_X,train_16w_y)\n",
    "y_pred_16w_dtr = tree_model.predict(test_scaler_16w_X)\n",
    "\n",
    "modelEvaluation(test_16w_y, y_pred_16w_dtr)\n",
    "important_features = pd.Series(data=tree_model.feature_importances_,index=dataCorn16w.drop('GrainYield', axis=1).columns)\n",
    "important_features.sort_values(ascending=False,inplace=True)\n",
    "print(important_features[:5])\n",
    "print(important_features[-5:])"
   ]
  },
  {
   "cell_type": "code",
   "execution_count": null,
   "metadata": {
    "colab": {
     "base_uri": "https://localhost:8080/",
     "height": 278
    },
    "colab_type": "code",
    "executionInfo": {
     "elapsed": 436,
     "status": "ok",
     "timestamp": 1588991902659,
     "user": {
      "displayName": "Maura Tokay",
      "photoUrl": "",
      "userId": "08366631216777031425"
     },
     "user_tz": 240
    },
    "id": "mygiFe_YEKJy",
    "outputId": "51cc86b3-4363-465d-ea22-94c27adb9bbc"
   },
   "outputs": [],
   "source": [
    "errorPlot(test_16w_y, y_pred_16w_dtr)"
   ]
  },
  {
   "cell_type": "markdown",
   "metadata": {
    "colab_type": "text",
    "id": "j2cy4cxDV2un"
   },
   "source": [
    "**Random Forest Regressor**"
   ]
  },
  {
   "cell_type": "code",
   "execution_count": null,
   "metadata": {
    "colab": {
     "base_uri": "https://localhost:8080/",
     "height": 563
    },
    "colab_type": "code",
    "executionInfo": {
     "elapsed": 925,
     "status": "ok",
     "timestamp": 1588991907875,
     "user": {
      "displayName": "Maura Tokay",
      "photoUrl": "",
      "userId": "08366631216777031425"
     },
     "user_tz": 240
    },
    "id": "Yi5ZZTIGV9mi",
    "outputId": "b5d74e58-7136-4bb2-82a1-4eb284f25f54"
   },
   "outputs": [],
   "source": [
    "rf_model = RandomForestRegressor()\n",
    "rf_model.fit(train_scaler_16w_X,train_16w_y)\n",
    "\n",
    "y_pred_16w_rfr = rf_model.predict(test_scaler_16w_X)\n",
    "modelEvaluation(test_16w_y, y_pred_16w_rfr)\n",
    "\n",
    "important_features = pd.Series(data=rf_model.feature_importances_,index=dataCorn16w.drop('GrainYield', axis=1).columns)\n",
    "important_features.sort_values(ascending=False,inplace=True)\n",
    "print(important_features[:5])\n",
    "print(important_features[-5:])"
   ]
  },
  {
   "cell_type": "code",
   "execution_count": null,
   "metadata": {
    "colab": {
     "base_uri": "https://localhost:8080/",
     "height": 278
    },
    "colab_type": "code",
    "executionInfo": {
     "elapsed": 1456,
     "status": "ok",
     "timestamp": 1588991915151,
     "user": {
      "displayName": "Maura Tokay",
      "photoUrl": "",
      "userId": "08366631216777031425"
     },
     "user_tz": 240
    },
    "id": "DcxAIQ_lGbHI",
    "outputId": "609c253c-ede3-46f6-e8fa-72ad9e41dc65"
   },
   "outputs": [],
   "source": [
    "errorPlot(test_16w_y, y_pred_16w_rfr)"
   ]
  },
  {
   "cell_type": "code",
   "execution_count": null,
   "metadata": {
    "colab": {
     "base_uri": "https://localhost:8080/",
     "height": 563
    },
    "colab_type": "code",
    "executionInfo": {
     "elapsed": 1420,
     "status": "ok",
     "timestamp": 1588991919461,
     "user": {
      "displayName": "Maura Tokay",
      "photoUrl": "",
      "userId": "08366631216777031425"
     },
     "user_tz": 240
    },
    "id": "wjFPLuQPWfhR",
    "outputId": "5b56d001-c8a3-410e-88ed-68ff19ed220c"
   },
   "outputs": [],
   "source": [
    "max_depth = 30\n",
    "n_est = 200\n",
    "rf_model = RandomForestRegressor(n_estimators=n_est,max_depth=max_depth,random_state=0)\n",
    "rf_model.fit(train_scaler_16w_X,train_16w_y)\n",
    "y_pred_16w_rfrc = rf_model.predict(test_scaler_16w_X)\n",
    "modelEvaluation(test_16w_y, y_pred_16w_rfrc)\n",
    "\n",
    "important_features = pd.Series(data=rf_model.feature_importances_,index=dataCorn16w.drop('GrainYield', axis=1).columns)\n",
    "important_features.sort_values(ascending=False,inplace=True)\n",
    "print(important_features[:5])\n",
    "print(important_features[-5:])"
   ]
  },
  {
   "cell_type": "code",
   "execution_count": null,
   "metadata": {
    "colab": {
     "base_uri": "https://localhost:8080/",
     "height": 278
    },
    "colab_type": "code",
    "executionInfo": {
     "elapsed": 394,
     "status": "ok",
     "timestamp": 1588991924692,
     "user": {
      "displayName": "Maura Tokay",
      "photoUrl": "",
      "userId": "08366631216777031425"
     },
     "user_tz": 240
    },
    "id": "eZOce0dJSvLE",
    "outputId": "7e0cbf9a-c56d-495c-fb0b-984a83c54034"
   },
   "outputs": [],
   "source": [
    "errorPlot(test_16w_y, y_pred_16w_rfrc)"
   ]
  },
  {
   "cell_type": "markdown",
   "metadata": {
    "colab_type": "text",
    "id": "fnjlr1R3GO2d"
   },
   "source": [
    "**Neural Network**"
   ]
  },
  {
   "cell_type": "markdown",
   "metadata": {
    "colab_type": "text",
    "id": "58n7LT_OQ9Hv"
   },
   "source": [
    "***Build the model***\n",
    "\n",
    "\n",
    "Let's build our model. Here, we'll use a Sequential model with seven densely connected hidden layers, and an output layer that returns a single, continuous value. The model building steps are wrapped in a function, build_model, since we'll create a second model, later on."
   ]
  },
  {
   "cell_type": "code",
   "execution_count": null,
   "metadata": {
    "colab": {},
    "colab_type": "code",
    "id": "EqE6myvsHRtH"
   },
   "outputs": [],
   "source": [
    "def build_model():\n",
    "    model = keras.Sequential([\n",
    "        layers.Dense(128, activation='relu', input_shape=[len(train_16w_X.keys())]),\n",
    "        layers.Dense(64, activation='relu'),\n",
    "        layers.Dense(32, activation='relu'),\n",
    "        layers.Flatten(),\n",
    "        layers.Dense(64, activation='relu'),\n",
    "        layers.Dense(32, activation='relu'),\n",
    "        layers.Dense(16, activation='relu'),\n",
    "        layers.Dense(1)\n",
    "    ])\n",
    "    optimizer = tf.keras.optimizers.RMSprop(learning_rate=0.001, rho=0.9)\n",
    "\n",
    "    model.compile(loss='mse',optimizer=optimizer,metrics=['mae', 'mse'])\n",
    "    return model"
   ]
  },
  {
   "cell_type": "markdown",
   "metadata": {
    "colab_type": "text",
    "id": "n5ifX82lEp-p"
   },
   "source": [
    "Thease are results that I got when trying different optimizers. The best one was RMSprop.\n",
    "\n",
    "\n",
    "optimizer = tf.keras.optimizers.Adadelta(learning_rate=1.0, rho=0.9)\n",
    "\n",
    "Mean absolute error regression loss (Best is 0) = 988.04268\n",
    "\n",
    "Mean squared error (Best is 0) = 1607740.15541\n",
    "\n",
    "Median absolute error regression loss or Mean absolute percentage error (Best is 0) = 759.51094\n",
    "\n",
    "Coefficient of determination (Best is 1) = 0.82419\n",
    "\n",
    "\n",
    "---\n",
    "optimizer = tf.keras.optimizers.Adam(learning_rate=0.001, beta_1=0.9, beta_2=0.999, amsgrad=False)\n",
    "\n",
    "Mean absolute error regression loss (Best is 0) = 995.84217\n",
    "\n",
    "Mean squared error (Best is 0) = 1498847.28905\n",
    "\n",
    "Median absolute error regression loss or Mean absolute percentage error (Best is 0) = 888.22495\n",
    "\n",
    "Coefficient of determination (Best is 1) = 0.80990\n",
    "\n",
    "\n",
    "\n",
    "---\n",
    "optimizer = tf.keras.optimizers.Adamax(learning_rate=0.002, beta_1=0.9, beta_2=0.999)\n",
    "\n",
    "Mean absolute error regression loss (Best is 0) = 1006.28192\n",
    "\n",
    "Mean squared error (Best is 0) = 1647878.01326\n",
    "\n",
    "Median absolute error regression loss or Mean absolute percentage error (Best is 0) = 811.88018\n",
    "\n",
    "Coefficient of determination (Best is 1) = 0.77732\n",
    "\n",
    "\n",
    "\n",
    "---\n",
    "\n",
    "optimizer = tf.keras.optimizers.Nadam(learning_rate=0.002, beta_1=0.9, beta_2=0.999)\n",
    "Mean absolute error regression loss (Best is 0) = 982.63614\n",
    "\n",
    "Mean squared error (Best is 0) = 1479295.82364\n",
    "\n",
    "Median absolute error regression loss or Mean absolute percentage error (Best is 0) = 894.45721\n",
    "\n",
    "Coefficient of determination (Best is 1) = 0.81385\n",
    "\n",
    "\n",
    "---\n",
    "\n",
    "optimizer = tf.keras.optimizers.RMSprop(learning_rate=0.001, rho=0.9)\n",
    "\n",
    "Mean absolute error regression loss (Best is 0) = 956.51279\n",
    "\n",
    "Mean squared error (Best is 0) = 1532729.52835\n",
    "\n",
    "Median absolute error regression loss or Mean absolute percentage error (Best is 0) = 744.18901\n",
    "\n",
    "Coefficient of determination (Best is 1) = 0.82001"
   ]
  },
  {
   "cell_type": "code",
   "execution_count": null,
   "metadata": {
    "colab": {},
    "colab_type": "code",
    "id": "NWnPBE1SHUOD"
   },
   "outputs": [],
   "source": [
    "model = build_model()"
   ]
  },
  {
   "cell_type": "markdown",
   "metadata": {
    "colab_type": "text",
    "id": "P0Cji3LSRdtH"
   },
   "source": [
    "***Inspect the model***\n",
    "\n",
    "Use the .summary method to print a simple description of the model"
   ]
  },
  {
   "cell_type": "code",
   "execution_count": null,
   "metadata": {
    "colab": {
     "base_uri": "https://localhost:8080/",
     "height": 443
    },
    "colab_type": "code",
    "executionInfo": {
     "elapsed": 348,
     "status": "ok",
     "timestamp": 1588991950288,
     "user": {
      "displayName": "Maura Tokay",
      "photoUrl": "",
      "userId": "08366631216777031425"
     },
     "user_tz": 240
    },
    "id": "6fgHHKBqH9z2",
    "outputId": "7e4f6a10-6c45-4ea5-d14f-238de3cb221a"
   },
   "outputs": [],
   "source": [
    "model.summary()"
   ]
  },
  {
   "cell_type": "markdown",
   "metadata": {
    "colab_type": "text",
    "id": "0JuRVx9PRu04"
   },
   "source": [
    "***Train the model***\n",
    "\n",
    "Train the model for 200 epochs, and record the training and validation accuracy in the history object."
   ]
  },
  {
   "cell_type": "code",
   "execution_count": null,
   "metadata": {
    "colab": {
     "base_uri": "https://localhost:8080/",
     "height": 105
    },
    "colab_type": "code",
    "executionInfo": {
     "elapsed": 12761,
     "status": "ok",
     "timestamp": 1588991969906,
     "user": {
      "displayName": "Maura Tokay",
      "photoUrl": "",
      "userId": "08366631216777031425"
     },
     "user_tz": 240
    },
    "id": "paksST_FIKXD",
    "outputId": "2b640ad2-4d43-455c-acc9-204add40542f"
   },
   "outputs": [],
   "source": [
    "EPOCHS = 200\n",
    "history = model.fit(train_scaler_16w_X, train_16w_y, epochs=EPOCHS, validation_split = 0.2, verbose=0, callbacks=[tfdocs.modeling.EpochDots()])"
   ]
  },
  {
   "cell_type": "code",
   "execution_count": null,
   "metadata": {
    "colab": {},
    "colab_type": "code",
    "id": "OzNFWSo3K4ci"
   },
   "outputs": [],
   "source": [
    "plotter = tfdocs.plots.HistoryPlotter(smoothing_std=2)"
   ]
  },
  {
   "cell_type": "code",
   "execution_count": null,
   "metadata": {
    "colab": {
     "base_uri": "https://localhost:8080/",
     "height": 296
    },
    "colab_type": "code",
    "executionInfo": {
     "elapsed": 472,
     "status": "ok",
     "timestamp": 1588991976559,
     "user": {
      "displayName": "Maura Tokay",
      "photoUrl": "",
      "userId": "08366631216777031425"
     },
     "user_tz": 240
    },
    "id": "CLQj_4DRK-Wj",
    "outputId": "81d73508-6b4c-4314-f7ab-a1136eb62436"
   },
   "outputs": [],
   "source": [
    "plotter.plot({'Basic': history}, metric = \"mae\")\n",
    "plt.ylabel('MAE [GrainYield]')"
   ]
  },
  {
   "cell_type": "code",
   "execution_count": null,
   "metadata": {
    "colab": {
     "base_uri": "https://localhost:8080/",
     "height": 307
    },
    "colab_type": "code",
    "executionInfo": {
     "elapsed": 439,
     "status": "ok",
     "timestamp": 1588991981512,
     "user": {
      "displayName": "Maura Tokay",
      "photoUrl": "",
      "userId": "08366631216777031425"
     },
     "user_tz": 240
    },
    "id": "feqIKwzFK-DX",
    "outputId": "6efc0c34-9dbc-4a4c-8f9e-793acbbbe6ff"
   },
   "outputs": [],
   "source": [
    "plotter.plot({'Basic': history}, metric = \"mse\")\n",
    "plt.ylabel('MSE [GrainYield^2]')"
   ]
  },
  {
   "cell_type": "code",
   "execution_count": null,
   "metadata": {
    "colab": {
     "base_uri": "https://localhost:8080/",
     "height": 70
    },
    "colab_type": "code",
    "executionInfo": {
     "elapsed": 3274,
     "status": "ok",
     "timestamp": 1588991990695,
     "user": {
      "displayName": "Maura Tokay",
      "photoUrl": "",
      "userId": "08366631216777031425"
     },
     "user_tz": 240
    },
    "id": "wleubiAuLlY2",
    "outputId": "d5521c99-2f41-4664-c8a0-00e91975690e"
   },
   "outputs": [],
   "source": [
    "model = build_model()\n",
    "\n",
    "# The patience parameter is the amount of epochs to check for improvement\n",
    "early_stop = keras.callbacks.EarlyStopping(monitor='val_loss', patience=5)\n",
    "early_history = model.fit(train_scaler_16w_X, train_16w_y, epochs=EPOCHS, validation_split = 0.2, verbose=0, callbacks=[early_stop, tfdocs.modeling.EpochDots()])"
   ]
  },
  {
   "cell_type": "markdown",
   "metadata": {
    "colab_type": "text",
    "id": "Uv745xwKTtVV"
   },
   "source": [
    "Let's see how well the model generalizes by using the test set, which we did not use when training the model. This tells us how well we can expect the model to predict when we use it in the real world."
   ]
  },
  {
   "cell_type": "code",
   "execution_count": null,
   "metadata": {
    "colab": {
     "base_uri": "https://localhost:8080/",
     "height": 52
    },
    "colab_type": "code",
    "executionInfo": {
     "elapsed": 424,
     "status": "ok",
     "timestamp": 1588991994813,
     "user": {
      "displayName": "Maura Tokay",
      "photoUrl": "",
      "userId": "08366631216777031425"
     },
     "user_tz": 240
    },
    "id": "82ohVIfgOOfw",
    "outputId": "7260160a-cc0d-4028-e4c4-4c0812f61c4d"
   },
   "outputs": [],
   "source": [
    "loss, mae, mse = model.evaluate(test_scaler_16w_X, test_16w_y, verbose=2)\n",
    "print(\"Testing set Mean Abs Error: {:5.2f} GrainYield\".format(mae))"
   ]
  },
  {
   "cell_type": "markdown",
   "metadata": {
    "colab_type": "text",
    "id": "HbUX9_YfT7ew"
   },
   "source": [
    "***Make predictions***\n",
    "\n",
    "Finally, predict GrainYield values using data in the testing set:"
   ]
  },
  {
   "cell_type": "code",
   "execution_count": null,
   "metadata": {
    "colab": {},
    "colab_type": "code",
    "id": "fArJr6yLOnvb"
   },
   "outputs": [],
   "source": [
    "y_pred_16w_nn = model.predict(test_scaler_16w_X).flatten()"
   ]
  },
  {
   "cell_type": "code",
   "execution_count": null,
   "metadata": {
    "colab": {
     "base_uri": "https://localhost:8080/",
     "height": 350
    },
    "colab_type": "code",
    "executionInfo": {
     "elapsed": 574,
     "status": "ok",
     "timestamp": 1588992007683,
     "user": {
      "displayName": "Maura Tokay",
      "photoUrl": "",
      "userId": "08366631216777031425"
     },
     "user_tz": 240
    },
    "id": "KofQSAzFXOBT",
    "outputId": "6450b827-627a-4a94-91c2-aad6cef0feaa"
   },
   "outputs": [],
   "source": [
    "modelEvaluation(test_16w_y, y_pred_16w_nn)"
   ]
  },
  {
   "cell_type": "markdown",
   "metadata": {
    "colab_type": "text",
    "id": "HFZYiyR0UHYW"
   },
   "source": [
    "It looks like our model predicts reasonably well. Let's take a look at the error distribution."
   ]
  },
  {
   "cell_type": "code",
   "execution_count": null,
   "metadata": {
    "colab": {
     "base_uri": "https://localhost:8080/",
     "height": 278
    },
    "colab_type": "code",
    "executionInfo": {
     "elapsed": 406,
     "status": "ok",
     "timestamp": 1588992013644,
     "user": {
      "displayName": "Maura Tokay",
      "photoUrl": "",
      "userId": "08366631216777031425"
     },
     "user_tz": 240
    },
    "id": "Y-BxpzYTOFKR",
    "outputId": "bf0e27b9-f324-4d22-fbb3-5976f8a1d97a"
   },
   "outputs": [],
   "source": [
    "errorPlot(test_16w_y, y_pred_16w_nn)"
   ]
  },
  {
   "cell_type": "markdown",
   "metadata": {
    "colab_type": "text",
    "id": "inTvEWj1D3A6"
   },
   "source": [
    "# Corn - 15 weeks"
   ]
  },
  {
   "cell_type": "code",
   "execution_count": null,
   "metadata": {
    "colab": {
     "base_uri": "https://localhost:8080/",
     "height": 1000,
     "output_embedded_package_id": "17k74PyudhVQOIETzbaGC5pe-M9pBGyOw"
    },
    "colab_type": "code",
    "executionInfo": {
     "elapsed": 4835,
     "status": "ok",
     "timestamp": 1588992022465,
     "user": {
      "displayName": "Maura Tokay",
      "photoUrl": "",
      "userId": "08366631216777031425"
     },
     "user_tz": 240
    },
    "id": "sbh9pbC_D3A6",
    "outputId": "62e64087-18f7-4017-fd64-4458717d0cdc"
   },
   "outputs": [],
   "source": [
    "dataCorn15w = pd.read_csv('./dataset/cornFeatures15w.csv')\n",
    "corrCorn15w = dataCorn15w.corr()\n",
    "corrCorn15w.style.background_gradient(cmap='coolwarm').set_precision(2)"
   ]
  },
  {
   "cell_type": "code",
   "execution_count": null,
   "metadata": {
    "colab": {},
    "colab_type": "code",
    "id": "ah2qBNm4D3BA"
   },
   "outputs": [],
   "source": [
    "# Splitting data set\n",
    "train_15w_X, test_15w_X = train_test_split(dataCorn15w.drop('GrainYield', axis=1), random_state=1)\n",
    "train_15w_y, test_15w_y = train_test_split(dataCorn15w['GrainYield'], random_state=1)\n",
    "\n",
    "# Apply Robust Scaler\n",
    "scaler = RobustScaler()\n",
    "train_scaler_15w_X = scaler.fit_transform(train_15w_X)\n",
    "test_scaler_15w_X = scaler.transform(test_15w_X)"
   ]
  },
  {
   "cell_type": "markdown",
   "metadata": {
    "colab_type": "text",
    "id": "DWHAgcwmD3BF"
   },
   "source": [
    "**Lasso**"
   ]
  },
  {
   "cell_type": "code",
   "execution_count": null,
   "metadata": {
    "colab": {
     "base_uri": "https://localhost:8080/",
     "height": 618
    },
    "colab_type": "code",
    "executionInfo": {
     "elapsed": 490,
     "status": "ok",
     "timestamp": 1588992032832,
     "user": {
      "displayName": "Maura Tokay",
      "photoUrl": "",
      "userId": "08366631216777031425"
     },
     "user_tz": 240
    },
    "id": "4jcW64s2D3BG",
    "outputId": "6a45a49e-1e62-4ae9-913b-dc839b678283"
   },
   "outputs": [],
   "source": [
    "lm = linear_model.Lasso(alpha=0.8)\n",
    "lm.fit(train_scaler_15w_X,train_15w_y)\n",
    "y_pred_15w_lm = lm.predict(test_scaler_15w_X)\n",
    "modelEvaluation(test_15w_y, y_pred_15w_lm)\n",
    "\n",
    "important_features = pd.Series(data=lm.coef_,index=dataCorn15w.drop('GrainYield', axis=1).columns)\n",
    "important_features.sort_values(ascending=False,inplace=True)\n",
    "print(important_features[:5])\n",
    "print(important_features[-5:])"
   ]
  },
  {
   "cell_type": "code",
   "execution_count": null,
   "metadata": {
    "colab": {
     "base_uri": "https://localhost:8080/",
     "height": 278
    },
    "colab_type": "code",
    "executionInfo": {
     "elapsed": 394,
     "status": "ok",
     "timestamp": 1588992038632,
     "user": {
      "displayName": "Maura Tokay",
      "photoUrl": "",
      "userId": "08366631216777031425"
     },
     "user_tz": 240
    },
    "id": "rUqMRgRZOifJ",
    "outputId": "87d8be19-56c6-4519-c04f-b5be4cd7b5f3"
   },
   "outputs": [],
   "source": [
    "errorPlot(test_15w_y, y_pred_15w_lm)"
   ]
  },
  {
   "cell_type": "markdown",
   "metadata": {
    "colab_type": "text",
    "id": "prqfihkcD3BK"
   },
   "source": [
    "**Decision Tree Regressor**"
   ]
  },
  {
   "cell_type": "code",
   "execution_count": null,
   "metadata": {
    "colab": {
     "base_uri": "https://localhost:8080/",
     "height": 563
    },
    "colab_type": "code",
    "executionInfo": {
     "elapsed": 469,
     "status": "ok",
     "timestamp": 1588992044524,
     "user": {
      "displayName": "Maura Tokay",
      "photoUrl": "",
      "userId": "08366631216777031425"
     },
     "user_tz": 240
    },
    "id": "mQ_wJkztD3BL",
    "outputId": "6dbacb46-7b26-47b2-a230-0e9fa05fbf37"
   },
   "outputs": [],
   "source": [
    "tree_model = DecisionTreeRegressor()\n",
    "tree_model.fit(train_scaler_15w_X,train_15w_y)\n",
    "y_pred_15w_dtr = tree_model.predict(test_scaler_15w_X)\n",
    "modelEvaluation(test_15w_y, y_pred_15w_dtr)\n",
    "\n",
    "important_features = pd.Series(data=tree_model.feature_importances_,index=dataCorn15w.drop('GrainYield', axis=1).columns)\n",
    "important_features.sort_values(ascending=False,inplace=True)\n",
    "print(important_features[:5])\n",
    "print(important_features[-5:])"
   ]
  },
  {
   "cell_type": "code",
   "execution_count": null,
   "metadata": {
    "colab": {
     "base_uri": "https://localhost:8080/",
     "height": 278
    },
    "colab_type": "code",
    "executionInfo": {
     "elapsed": 507,
     "status": "ok",
     "timestamp": 1588992049820,
     "user": {
      "displayName": "Maura Tokay",
      "photoUrl": "",
      "userId": "08366631216777031425"
     },
     "user_tz": 240
    },
    "id": "PxxfuJKjPX5L",
    "outputId": "a6a93282-2204-4836-e46b-51b9e57d674d"
   },
   "outputs": [],
   "source": [
    "errorPlot(test_15w_y, y_pred_15w_dtr)"
   ]
  },
  {
   "cell_type": "markdown",
   "metadata": {
    "colab_type": "text",
    "id": "WTNOU5hZD3BO"
   },
   "source": [
    "**Random Forest Regressor**"
   ]
  },
  {
   "cell_type": "code",
   "execution_count": null,
   "metadata": {
    "colab": {
     "base_uri": "https://localhost:8080/",
     "height": 563
    },
    "colab_type": "code",
    "executionInfo": {
     "elapsed": 925,
     "status": "ok",
     "timestamp": 1588992056766,
     "user": {
      "displayName": "Maura Tokay",
      "photoUrl": "",
      "userId": "08366631216777031425"
     },
     "user_tz": 240
    },
    "id": "ALX24xfLD3BO",
    "outputId": "ce841c01-f9c2-46a4-f53a-dfa0e02ac235"
   },
   "outputs": [],
   "source": [
    "rf_model = RandomForestRegressor()\n",
    "rf_model.fit(train_scaler_15w_X,train_15w_y)\n",
    "y_pred_15w_rfr = rf_model.predict(test_scaler_15w_X)\n",
    "modelEvaluation(test_15w_y, y_pred_15w_rfr)\n",
    "\n",
    "important_features = pd.Series(data=rf_model.feature_importances_,index=dataCorn15w.drop('GrainYield', axis=1).columns)\n",
    "important_features.sort_values(ascending=False,inplace=True)\n",
    "print(important_features[:5])\n",
    "print(important_features[-5:])"
   ]
  },
  {
   "cell_type": "code",
   "execution_count": null,
   "metadata": {
    "colab": {
     "base_uri": "https://localhost:8080/",
     "height": 278
    },
    "colab_type": "code",
    "executionInfo": {
     "elapsed": 441,
     "status": "ok",
     "timestamp": 1588992064404,
     "user": {
      "displayName": "Maura Tokay",
      "photoUrl": "",
      "userId": "08366631216777031425"
     },
     "user_tz": 240
    },
    "id": "fyzJO_Z1QtKG",
    "outputId": "3a310aab-340f-4a72-899b-9be21ccff2de"
   },
   "outputs": [],
   "source": [
    "errorPlot(test_15w_y, y_pred_15w_rfr)"
   ]
  },
  {
   "cell_type": "code",
   "execution_count": null,
   "metadata": {
    "colab": {
     "base_uri": "https://localhost:8080/",
     "height": 563
    },
    "colab_type": "code",
    "executionInfo": {
     "elapsed": 1363,
     "status": "ok",
     "timestamp": 1588992073893,
     "user": {
      "displayName": "Maura Tokay",
      "photoUrl": "",
      "userId": "08366631216777031425"
     },
     "user_tz": 240
    },
    "id": "SpjQqxn6D3BR",
    "outputId": "bad9f2bc-b687-4695-ba72-fc1059f67d5f"
   },
   "outputs": [],
   "source": [
    "max_depth = 20\n",
    "n_est = 200\n",
    "rf_model = RandomForestRegressor(n_estimators=n_est,max_depth=max_depth,random_state=0)\n",
    "rf_model.fit(train_scaler_15w_X,train_15w_y)\n",
    "y_pred_15w_rfrc = rf_model.predict(test_scaler_15w_X)\n",
    "modelEvaluation(test_15w_y, y_pred_15w_rfrc)\n",
    "\n",
    "important_features = pd.Series(data=rf_model.feature_importances_,index=dataCorn15w.drop('GrainYield', axis=1).columns)\n",
    "important_features.sort_values(ascending=False,inplace=True)\n",
    "print(important_features[:5])\n",
    "print(important_features[-5:])"
   ]
  },
  {
   "cell_type": "code",
   "execution_count": null,
   "metadata": {
    "colab": {
     "base_uri": "https://localhost:8080/",
     "height": 278
    },
    "colab_type": "code",
    "executionInfo": {
     "elapsed": 422,
     "status": "ok",
     "timestamp": 1588992078267,
     "user": {
      "displayName": "Maura Tokay",
      "photoUrl": "",
      "userId": "08366631216777031425"
     },
     "user_tz": 240
    },
    "id": "QvVVMUGgUPas",
    "outputId": "d472cf2d-3122-4026-98fe-0b92d16893d0"
   },
   "outputs": [],
   "source": [
    "errorPlot(test_15w_y, y_pred_15w_rfrc)"
   ]
  },
  {
   "cell_type": "markdown",
   "metadata": {
    "colab_type": "text",
    "id": "XZL1CJFSZVAN"
   },
   "source": [
    "**Neural Network**"
   ]
  },
  {
   "cell_type": "markdown",
   "metadata": {
    "colab_type": "text",
    "id": "BaiBqmLbZhLC"
   },
   "source": [
    "***Build the model***\n",
    "\n",
    "\n",
    "Let's build our model. Here, we'll use a Sequential model with seven densely connected hidden layers, and an output layer that returns a single, continuous value. The model building steps are wrapped in a function, build_model, since we'll create a second model, later on."
   ]
  },
  {
   "cell_type": "code",
   "execution_count": null,
   "metadata": {
    "colab": {},
    "colab_type": "code",
    "id": "ZeagkRvkZjHR"
   },
   "outputs": [],
   "source": [
    "def build_model():\n",
    "    model = keras.Sequential([\n",
    "        layers.Dense(128, activation='relu', input_shape=[len(train_15w_X.keys())]),\n",
    "        layers.Dense(64, activation='relu'),\n",
    "        layers.Dense(32, activation='relu'),\n",
    "        layers.Flatten(),\n",
    "        layers.Dense(64, activation='relu'),\n",
    "        layers.Dense(32, activation='relu'),\n",
    "        layers.Dense(16, activation='relu'),\n",
    "        layers.Dense(1)\n",
    "    ])\n",
    "\n",
    "    optimizer = tf.keras.optimizers.RMSprop(learning_rate=0.001)\n",
    "\n",
    "    model.compile(loss='mse', optimizer=optimizer, metrics=['mae', 'mse'])\n",
    "    return model"
   ]
  },
  {
   "cell_type": "code",
   "execution_count": null,
   "metadata": {
    "colab": {},
    "colab_type": "code",
    "id": "vFpbEWApZvL2"
   },
   "outputs": [],
   "source": [
    "model = build_model()"
   ]
  },
  {
   "cell_type": "markdown",
   "metadata": {
    "colab_type": "text",
    "id": "GPYOHqfyZ9sb"
   },
   "source": [
    "***Inspect the model***\n",
    "\n",
    "Use the .summary method to print a simple description of the model"
   ]
  },
  {
   "cell_type": "code",
   "execution_count": null,
   "metadata": {
    "colab": {
     "base_uri": "https://localhost:8080/",
     "height": 443
    },
    "colab_type": "code",
    "executionInfo": {
     "elapsed": 301,
     "status": "ok",
     "timestamp": 1588992089981,
     "user": {
      "displayName": "Maura Tokay",
      "photoUrl": "",
      "userId": "08366631216777031425"
     },
     "user_tz": 240
    },
    "id": "E8AdRF2caQH9",
    "outputId": "00cddd3f-1db1-426b-8005-3603d087c567"
   },
   "outputs": [],
   "source": [
    "model.summary()"
   ]
  },
  {
   "cell_type": "markdown",
   "metadata": {
    "colab_type": "text",
    "id": "ovsNv8Czab1i"
   },
   "source": [
    "***Train the model***\n",
    "\n",
    "Train the model for 200 epochs, and record the training and validation accuracy in the history object."
   ]
  },
  {
   "cell_type": "code",
   "execution_count": null,
   "metadata": {
    "colab": {
     "base_uri": "https://localhost:8080/",
     "height": 105
    },
    "colab_type": "code",
    "executionInfo": {
     "elapsed": 11008,
     "status": "ok",
     "timestamp": 1588992103857,
     "user": {
      "displayName": "Maura Tokay",
      "photoUrl": "",
      "userId": "08366631216777031425"
     },
     "user_tz": 240
    },
    "id": "glSj6IL0agEK",
    "outputId": "47fb022c-684b-4e01-e79a-58cc2acbb4e2"
   },
   "outputs": [],
   "source": [
    "EPOCHS = 200\n",
    "history = model.fit(train_scaler_15w_X, train_15w_y, epochs=EPOCHS, validation_split = 0.2, verbose=0, callbacks=[tfdocs.modeling.EpochDots()])"
   ]
  },
  {
   "cell_type": "code",
   "execution_count": null,
   "metadata": {
    "colab": {},
    "colab_type": "code",
    "id": "8bKMPkfEbJaW"
   },
   "outputs": [],
   "source": [
    "plotter = tfdocs.plots.HistoryPlotter(smoothing_std=2)"
   ]
  },
  {
   "cell_type": "code",
   "execution_count": null,
   "metadata": {
    "colab": {
     "base_uri": "https://localhost:8080/",
     "height": 296
    },
    "colab_type": "code",
    "executionInfo": {
     "elapsed": 428,
     "status": "ok",
     "timestamp": 1588992109928,
     "user": {
      "displayName": "Maura Tokay",
      "photoUrl": "",
      "userId": "08366631216777031425"
     },
     "user_tz": 240
    },
    "id": "4UF34a6fbLFJ",
    "outputId": "85de17af-ff39-426c-d462-c14ab8303850"
   },
   "outputs": [],
   "source": [
    "plotter.plot({'Basic': history}, metric = \"mae\")\n",
    "plt.ylabel('MAE [GrainYield]')"
   ]
  },
  {
   "cell_type": "code",
   "execution_count": null,
   "metadata": {
    "colab": {
     "base_uri": "https://localhost:8080/",
     "height": 307
    },
    "colab_type": "code",
    "executionInfo": {
     "elapsed": 435,
     "status": "ok",
     "timestamp": 1588992115396,
     "user": {
      "displayName": "Maura Tokay",
      "photoUrl": "",
      "userId": "08366631216777031425"
     },
     "user_tz": 240
    },
    "id": "2DsTj8hFbW-5",
    "outputId": "3195d70b-55e6-4253-ca05-3f4688460c59"
   },
   "outputs": [],
   "source": [
    "plotter.plot({'Basic': history}, metric = \"mse\")\n",
    "plt.ylabel('MSE [GrainYield^2]')"
   ]
  },
  {
   "cell_type": "code",
   "execution_count": null,
   "metadata": {
    "colab": {
     "base_uri": "https://localhost:8080/",
     "height": 70
    },
    "colab_type": "code",
    "executionInfo": {
     "elapsed": 4842,
     "status": "ok",
     "timestamp": 1588992125894,
     "user": {
      "displayName": "Maura Tokay",
      "photoUrl": "",
      "userId": "08366631216777031425"
     },
     "user_tz": 240
    },
    "id": "p4IHJQgPbpja",
    "outputId": "703cf3be-67c1-4b79-bca3-505a4b5fcf6b"
   },
   "outputs": [],
   "source": [
    "model = build_model()\n",
    "\n",
    "# The patience parameter is the amount of epochs to check for improvement\n",
    "early_stop = keras.callbacks.EarlyStopping(monitor='val_loss', patience=10)\n",
    "early_history = model.fit(train_scaler_15w_X, train_15w_y, epochs=EPOCHS, validation_split = 0.2, verbose=0, callbacks=[early_stop, tfdocs.modeling.EpochDots()])"
   ]
  },
  {
   "cell_type": "code",
   "execution_count": null,
   "metadata": {
    "colab": {
     "base_uri": "https://localhost:8080/",
     "height": 52
    },
    "colab_type": "code",
    "executionInfo": {
     "elapsed": 520,
     "status": "ok",
     "timestamp": 1588992131629,
     "user": {
      "displayName": "Maura Tokay",
      "photoUrl": "",
      "userId": "08366631216777031425"
     },
     "user_tz": 240
    },
    "id": "cUw2V961b_9G",
    "outputId": "9e7cd744-a0e0-42ea-e333-9394abcf89ab"
   },
   "outputs": [],
   "source": [
    "loss, mae, mse = model.evaluate(test_scaler_15w_X, test_15w_y, verbose=2)\n",
    "print(\"Testing set Mean Abs Error: {:5.2f} GrainYield\".format(mae))"
   ]
  },
  {
   "cell_type": "code",
   "execution_count": null,
   "metadata": {
    "colab": {
     "base_uri": "https://localhost:8080/",
     "height": 350
    },
    "colab_type": "code",
    "executionInfo": {
     "elapsed": 484,
     "status": "ok",
     "timestamp": 1588992136449,
     "user": {
      "displayName": "Maura Tokay",
      "photoUrl": "",
      "userId": "08366631216777031425"
     },
     "user_tz": 240
    },
    "id": "rNXy2mrdcNsy",
    "outputId": "adcc24e4-d22d-4d07-ee2c-99397119dd94"
   },
   "outputs": [],
   "source": [
    "y_pred_15w_nn = model.predict(test_scaler_15w_X).flatten()\n",
    "modelEvaluation(test_15w_y, y_pred_15w_nn)"
   ]
  },
  {
   "cell_type": "code",
   "execution_count": null,
   "metadata": {
    "colab": {
     "base_uri": "https://localhost:8080/",
     "height": 278
    },
    "colab_type": "code",
    "executionInfo": {
     "elapsed": 521,
     "status": "ok",
     "timestamp": 1588992151334,
     "user": {
      "displayName": "Maura Tokay",
      "photoUrl": "",
      "userId": "08366631216777031425"
     },
     "user_tz": 240
    },
    "id": "P_Kz6MhAW1Pg",
    "outputId": "2876359b-988d-491f-b6b0-7c67b2993173"
   },
   "outputs": [],
   "source": [
    "errorPlot(test_15w_y, y_pred_15w_nn)"
   ]
  },
  {
   "cell_type": "markdown",
   "metadata": {
    "colab_type": "text",
    "id": "ztrpt8s2D3BU"
   },
   "source": [
    "# Corn - 14 weeks"
   ]
  },
  {
   "cell_type": "code",
   "execution_count": null,
   "metadata": {
    "colab": {
     "base_uri": "https://localhost:8080/",
     "height": 1000,
     "output_embedded_package_id": "1HYFw_u0_7d8CcjXUjhi6e8IEp8_zl5UT"
    },
    "colab_type": "code",
    "executionInfo": {
     "elapsed": 4238,
     "status": "ok",
     "timestamp": 1588992161029,
     "user": {
      "displayName": "Maura Tokay",
      "photoUrl": "",
      "userId": "08366631216777031425"
     },
     "user_tz": 240
    },
    "id": "e9zmhVLhD3BV",
    "outputId": "e6e06120-4c65-43b7-b27d-ef6f4c0f3c89"
   },
   "outputs": [],
   "source": [
    "dataCorn14w = pd.read_csv('./dataset/cornFeatures14w.csv')\n",
    "corrCorn14w = dataCorn14w.corr()\n",
    "corrCorn14w.style.background_gradient(cmap='coolwarm').set_precision(2)"
   ]
  },
  {
   "cell_type": "code",
   "execution_count": null,
   "metadata": {
    "colab": {},
    "colab_type": "code",
    "id": "KCd8hiCvD3Ba"
   },
   "outputs": [],
   "source": [
    "# Splitting data set\n",
    "train_14w_X, test_14w_X = train_test_split(dataCorn14w.drop('GrainYield', axis=1), random_state=1)\n",
    "train_14w_y, test_14w_y = train_test_split(dataCorn14w['GrainYield'], random_state=1)\n",
    "\n",
    "# Apply Robust Scaler\n",
    "scaler = RobustScaler()\n",
    "train_scaler_14w_X = scaler.fit_transform(train_14w_X)\n",
    "test_scaler_14w_X = scaler.transform(test_14w_X)"
   ]
  },
  {
   "cell_type": "markdown",
   "metadata": {
    "colab_type": "text",
    "id": "3Ui_GN2eD3Bd"
   },
   "source": [
    "**Lasso**"
   ]
  },
  {
   "cell_type": "code",
   "execution_count": null,
   "metadata": {
    "colab": {
     "base_uri": "https://localhost:8080/",
     "height": 618
    },
    "colab_type": "code",
    "executionInfo": {
     "elapsed": 510,
     "status": "ok",
     "timestamp": 1588992168702,
     "user": {
      "displayName": "Maura Tokay",
      "photoUrl": "",
      "userId": "08366631216777031425"
     },
     "user_tz": 240
    },
    "id": "T93OnbGED3Be",
    "outputId": "11a71313-36c6-4b3e-a2f6-26adad240120"
   },
   "outputs": [],
   "source": [
    "lm = linear_model.Lasso(alpha=0.9)\n",
    "lm.fit(train_scaler_14w_X,train_14w_y)\n",
    "y_pred_14w_lm = lm.predict(test_scaler_14w_X)\n",
    "modelEvaluation(test_14w_y, y_pred_14w_lm)\n",
    "\n",
    "important_features = pd.Series(data=lm.coef_,index=dataCorn14w.drop('GrainYield', axis=1).columns)\n",
    "important_features.sort_values(ascending=False,inplace=True)\n",
    "print(important_features[:5])\n",
    "print(important_features[-5:])"
   ]
  },
  {
   "cell_type": "code",
   "execution_count": null,
   "metadata": {
    "colab": {
     "base_uri": "https://localhost:8080/",
     "height": 278
    },
    "colab_type": "code",
    "executionInfo": {
     "elapsed": 584,
     "status": "ok",
     "timestamp": 1588992174740,
     "user": {
      "displayName": "Maura Tokay",
      "photoUrl": "",
      "userId": "08366631216777031425"
     },
     "user_tz": 240
    },
    "id": "POWCK40jXjN5",
    "outputId": "28bd00c5-62af-47c2-b47b-995230353a3f"
   },
   "outputs": [],
   "source": [
    "errorPlot(test_14w_y, y_pred_14w_lm)"
   ]
  },
  {
   "cell_type": "markdown",
   "metadata": {
    "colab_type": "text",
    "id": "QwgqPocqD3Bg"
   },
   "source": [
    "**Decision Tree Regressor**"
   ]
  },
  {
   "cell_type": "code",
   "execution_count": null,
   "metadata": {
    "colab": {
     "base_uri": "https://localhost:8080/",
     "height": 563
    },
    "colab_type": "code",
    "executionInfo": {
     "elapsed": 671,
     "status": "ok",
     "timestamp": 1588992179714,
     "user": {
      "displayName": "Maura Tokay",
      "photoUrl": "",
      "userId": "08366631216777031425"
     },
     "user_tz": 240
    },
    "id": "B1LdXJJLD3Bh",
    "outputId": "c30ffdb7-f04e-4e4b-d92e-a5ed0cf0bcce"
   },
   "outputs": [],
   "source": [
    "tree_model = DecisionTreeRegressor()\n",
    "tree_model.fit(train_scaler_14w_X,train_14w_y)\n",
    "y_pred_14w_dtr = tree_model.predict(test_scaler_14w_X)\n",
    "modelEvaluation(test_14w_y, y_pred_14w_dtr)\n",
    "\n",
    "mportant_features = pd.Series(data=tree_model.feature_importances_,index=dataCorn14w.drop('GrainYield', axis=1).columns)\n",
    "important_features.sort_values(ascending=False,inplace=True)\n",
    "print(important_features[:5])\n",
    "print(important_features[-5:])"
   ]
  },
  {
   "cell_type": "code",
   "execution_count": null,
   "metadata": {
    "colab": {
     "base_uri": "https://localhost:8080/",
     "height": 278
    },
    "colab_type": "code",
    "executionInfo": {
     "elapsed": 439,
     "status": "ok",
     "timestamp": 1588992183580,
     "user": {
      "displayName": "Maura Tokay",
      "photoUrl": "",
      "userId": "08366631216777031425"
     },
     "user_tz": 240
    },
    "id": "YuY2NLCyYAa_",
    "outputId": "4c3e3f42-d68e-4522-9653-9fb3fa3f91a7"
   },
   "outputs": [],
   "source": [
    "errorPlot(test_14w_y, y_pred_14w_dtr)"
   ]
  },
  {
   "cell_type": "markdown",
   "metadata": {
    "colab_type": "text",
    "id": "CAgg0Mn7D3Bk"
   },
   "source": [
    "**Random Forest Regressor**"
   ]
  },
  {
   "cell_type": "code",
   "execution_count": null,
   "metadata": {
    "colab": {
     "base_uri": "https://localhost:8080/",
     "height": 563
    },
    "colab_type": "code",
    "executionInfo": {
     "elapsed": 948,
     "status": "ok",
     "timestamp": 1588992187514,
     "user": {
      "displayName": "Maura Tokay",
      "photoUrl": "",
      "userId": "08366631216777031425"
     },
     "user_tz": 240
    },
    "id": "uN-XQMqDD3Bl",
    "outputId": "c768973e-d3c1-49a6-e63f-50b8c385523b"
   },
   "outputs": [],
   "source": [
    "rf_model = RandomForestRegressor()\n",
    "rf_model.fit(train_scaler_14w_X,train_14w_y)\n",
    "y_pred_14w_rfr = rf_model.predict(test_scaler_14w_X)\n",
    "modelEvaluation(test_14w_y, y_pred_14w_rfr)\n",
    "\n",
    "important_features = pd.Series(data=rf_model.feature_importances_,index=dataCorn14w.drop('GrainYield', axis=1).columns)\n",
    "important_features.sort_values(ascending=False,inplace=True)\n",
    "print(important_features[:5])\n",
    "print(important_features[-5:])"
   ]
  },
  {
   "cell_type": "code",
   "execution_count": null,
   "metadata": {
    "colab": {
     "base_uri": "https://localhost:8080/",
     "height": 563
    },
    "colab_type": "code",
    "executionInfo": {
     "elapsed": 1255,
     "status": "ok",
     "timestamp": 1588992194341,
     "user": {
      "displayName": "Maura Tokay",
      "photoUrl": "",
      "userId": "08366631216777031425"
     },
     "user_tz": 240
    },
    "id": "8Z1CpnctD3Bn",
    "outputId": "3b5a9f4d-aa4d-4cdd-a15d-4d9099251118"
   },
   "outputs": [],
   "source": [
    "max_depth = 20\n",
    "n_est = 190\n",
    "rf_model = RandomForestRegressor(n_estimators=n_est,max_depth=max_depth,random_state=0)\n",
    "rf_model.fit(train_scaler_14w_X,train_14w_y)\n",
    "y_pred_14w_rfrc = rf_model.predict(test_scaler_14w_X)\n",
    "modelEvaluation(test_14w_y, y_pred_14w_rfrc)\n",
    "\n",
    "important_features = pd.Series(data=rf_model.feature_importances_,index=dataCorn14w.drop('GrainYield', axis=1).columns)\n",
    "important_features.sort_values(ascending=False,inplace=True)\n",
    "print(important_features[:5])\n",
    "print(important_features[-5:])"
   ]
  },
  {
   "cell_type": "code",
   "execution_count": null,
   "metadata": {
    "colab": {
     "base_uri": "https://localhost:8080/",
     "height": 278
    },
    "colab_type": "code",
    "executionInfo": {
     "elapsed": 418,
     "status": "ok",
     "timestamp": 1588992198160,
     "user": {
      "displayName": "Maura Tokay",
      "photoUrl": "",
      "userId": "08366631216777031425"
     },
     "user_tz": 240
    },
    "id": "NozS9eR4D3Bq",
    "outputId": "9dc9d5c9-e4aa-4961-f838-25a6bfba0286"
   },
   "outputs": [],
   "source": [
    "errorPlot(test_14w_y, y_pred_14w_rfrc)"
   ]
  },
  {
   "cell_type": "markdown",
   "metadata": {
    "colab_type": "text",
    "id": "TZeuc1xBZjfG"
   },
   "source": [
    "**Neural Network**"
   ]
  },
  {
   "cell_type": "markdown",
   "metadata": {
    "colab_type": "text",
    "id": "uOLc3dqfZtXf"
   },
   "source": [
    "***Build the model***\n",
    "\n",
    "\n",
    "Let's build our model. Here, we'll use a Sequential model with seven densely connected hidden layers, and an output layer that returns a single, continuous value. The model building steps are wrapped in a function, build_model, since we'll create a second model, later on."
   ]
  },
  {
   "cell_type": "code",
   "execution_count": null,
   "metadata": {
    "colab": {},
    "colab_type": "code",
    "id": "XUDdmMoqZ9HH"
   },
   "outputs": [],
   "source": [
    "def build_model():\n",
    "    model = keras.Sequential([\n",
    "        layers.Dense(128, activation='relu', input_shape=[len(train_14w_X.keys())]),\n",
    "        layers.Dense(64, activation='relu'),\n",
    "        layers.Dense(32, activation='relu'),\n",
    "        layers.Flatten(),\n",
    "        layers.Dense(64, activation='relu'),\n",
    "        layers.Dense(32, activation='relu'),\n",
    "        layers.Dense(16, activation='relu'),\n",
    "        layers.Dense(1)\n",
    "    ])\n",
    "\n",
    "    optimizer = tf.keras.optimizers.RMSprop(learning_rate=0.001)\n",
    "\n",
    "    model.compile(loss='mse',optimizer=optimizer,metrics=['mae', 'mse'])\n",
    "    return model"
   ]
  },
  {
   "cell_type": "code",
   "execution_count": null,
   "metadata": {
    "colab": {},
    "colab_type": "code",
    "id": "XcX3H2DoaAE3"
   },
   "outputs": [],
   "source": [
    "model = build_model()"
   ]
  },
  {
   "cell_type": "markdown",
   "metadata": {
    "colab_type": "text",
    "id": "WqmfANBNaRiw"
   },
   "source": [
    "***Inspect the model***\n",
    "\n",
    "Use the .summary method to print a simple description of the model"
   ]
  },
  {
   "cell_type": "code",
   "execution_count": null,
   "metadata": {
    "colab": {
     "base_uri": "https://localhost:8080/",
     "height": 443
    },
    "colab_type": "code",
    "executionInfo": {
     "elapsed": 309,
     "status": "ok",
     "timestamp": 1588992214298,
     "user": {
      "displayName": "Maura Tokay",
      "photoUrl": "",
      "userId": "08366631216777031425"
     },
     "user_tz": 240
    },
    "id": "RiGZ4o35aVq2",
    "outputId": "e2437da1-018d-4b5a-d47c-bde0c88af7da"
   },
   "outputs": [],
   "source": [
    "model.summary()"
   ]
  },
  {
   "cell_type": "markdown",
   "metadata": {
    "colab_type": "text",
    "id": "z-KxBKOsajjD"
   },
   "source": [
    "***Train the model***\n",
    "\n",
    "Train the model for 200 epochs, and record the training and validation accuracy in the history object."
   ]
  },
  {
   "cell_type": "code",
   "execution_count": null,
   "metadata": {
    "colab": {
     "base_uri": "https://localhost:8080/",
     "height": 105
    },
    "colab_type": "code",
    "executionInfo": {
     "elapsed": 10800,
     "status": "ok",
     "timestamp": 1588992228631,
     "user": {
      "displayName": "Maura Tokay",
      "photoUrl": "",
      "userId": "08366631216777031425"
     },
     "user_tz": 240
    },
    "id": "bt5CTtxTaltg",
    "outputId": "ab7cfd26-3f15-4f87-e66b-3ec344935cd2"
   },
   "outputs": [],
   "source": [
    "EPOCHS = 200\n",
    "history = model.fit(train_scaler_14w_X, train_14w_y, epochs=EPOCHS, validation_split = 0.2, verbose=0, callbacks=[tfdocs.modeling.EpochDots()])"
   ]
  },
  {
   "cell_type": "code",
   "execution_count": null,
   "metadata": {
    "colab": {},
    "colab_type": "code",
    "id": "aJ0b431ya_y8"
   },
   "outputs": [],
   "source": [
    "plotter = tfdocs.plots.HistoryPlotter(smoothing_std=2)"
   ]
  },
  {
   "cell_type": "code",
   "execution_count": null,
   "metadata": {
    "colab": {
     "base_uri": "https://localhost:8080/",
     "height": 296
    },
    "colab_type": "code",
    "executionInfo": {
     "elapsed": 452,
     "status": "ok",
     "timestamp": 1588992235047,
     "user": {
      "displayName": "Maura Tokay",
      "photoUrl": "",
      "userId": "08366631216777031425"
     },
     "user_tz": 240
    },
    "id": "sM_4ECRobB8u",
    "outputId": "d9a2adb2-8edd-4329-c054-b8da61a5de5a"
   },
   "outputs": [],
   "source": [
    "plotter.plot({'Basic': history}, metric = \"mae\")\n",
    "plt.ylabel('MAE [GrainYield]')"
   ]
  },
  {
   "cell_type": "code",
   "execution_count": null,
   "metadata": {
    "colab": {
     "base_uri": "https://localhost:8080/",
     "height": 307
    },
    "colab_type": "code",
    "executionInfo": {
     "elapsed": 491,
     "status": "ok",
     "timestamp": 1588992238657,
     "user": {
      "displayName": "Maura Tokay",
      "photoUrl": "",
      "userId": "08366631216777031425"
     },
     "user_tz": 240
    },
    "id": "WtakfVGsbCco",
    "outputId": "1f152258-fc15-4fc3-9743-5003f90126f3"
   },
   "outputs": [],
   "source": [
    "plotter.plot({'Basic': history}, metric = \"mse\")\n",
    "plt.ylabel('MSE [GrainYield^2]')"
   ]
  },
  {
   "cell_type": "code",
   "execution_count": null,
   "metadata": {
    "colab": {
     "base_uri": "https://localhost:8080/",
     "height": 105
    },
    "colab_type": "code",
    "executionInfo": {
     "elapsed": 11788,
     "status": "ok",
     "timestamp": 1588992257048,
     "user": {
      "displayName": "Maura Tokay",
      "photoUrl": "",
      "userId": "08366631216777031425"
     },
     "user_tz": 240
    },
    "id": "T3tzIwE2beTB",
    "outputId": "009cea71-ace3-4221-b027-71749fab90c0"
   },
   "outputs": [],
   "source": [
    "model = build_model()\n",
    "\n",
    "# The patience parameter is the amount of epochs to check for improvement\n",
    "early_stop = keras.callbacks.EarlyStopping(monitor='val_loss', patience=30)\n",
    "early_history = model.fit(train_scaler_14w_X, train_14w_y, epochs=EPOCHS, validation_split = 0.2, verbose=0, callbacks=[early_stop, tfdocs.modeling.EpochDots()])"
   ]
  },
  {
   "cell_type": "code",
   "execution_count": null,
   "metadata": {
    "colab": {
     "base_uri": "https://localhost:8080/",
     "height": 52
    },
    "colab_type": "code",
    "executionInfo": {
     "elapsed": 339,
     "status": "ok",
     "timestamp": 1588992263352,
     "user": {
      "displayName": "Maura Tokay",
      "photoUrl": "",
      "userId": "08366631216777031425"
     },
     "user_tz": 240
    },
    "id": "ci5IvtZEb14_",
    "outputId": "dc67f048-7343-4746-91bd-212af5f8e886"
   },
   "outputs": [],
   "source": [
    "loss, mae, mse = model.evaluate(test_scaler_14w_X, test_14w_y, verbose=2)\n",
    "print(\"Testing set Mean Abs Error: {:5.2f} GrainYield\".format(mae))"
   ]
  },
  {
   "cell_type": "code",
   "execution_count": null,
   "metadata": {
    "colab": {
     "base_uri": "https://localhost:8080/",
     "height": 350
    },
    "colab_type": "code",
    "executionInfo": {
     "elapsed": 490,
     "status": "ok",
     "timestamp": 1588992268644,
     "user": {
      "displayName": "Maura Tokay",
      "photoUrl": "",
      "userId": "08366631216777031425"
     },
     "user_tz": 240
    },
    "id": "DqUlCpfPc2TK",
    "outputId": "940880d6-4cfd-4e3d-ace3-35bf0a470d92"
   },
   "outputs": [],
   "source": [
    "y_pred_14w_nn = model.predict(test_scaler_14w_X).flatten()\n",
    "modelEvaluation(test_14w_y, y_pred_14w_nn)"
   ]
  },
  {
   "cell_type": "code",
   "execution_count": null,
   "metadata": {
    "colab": {
     "base_uri": "https://localhost:8080/",
     "height": 278
    },
    "colab_type": "code",
    "executionInfo": {
     "elapsed": 642,
     "status": "ok",
     "timestamp": 1588992274317,
     "user": {
      "displayName": "Maura Tokay",
      "photoUrl": "",
      "userId": "08366631216777031425"
     },
     "user_tz": 240
    },
    "id": "t7PpmZN0c_KO",
    "outputId": "eb32dcb0-b4cf-498a-8a78-52dff313996b"
   },
   "outputs": [],
   "source": [
    "errorPlot(test_14w_y, y_pred_14w_nn)"
   ]
  },
  {
   "cell_type": "markdown",
   "metadata": {
    "colab_type": "text",
    "id": "rsXfadgTUgxb"
   },
   "source": [
    "# Corn - 13 weeks"
   ]
  },
  {
   "cell_type": "code",
   "execution_count": null,
   "metadata": {
    "colab": {
     "base_uri": "https://localhost:8080/",
     "height": 1000,
     "output_embedded_package_id": "1j5fqyOHfjVBNh7nFgbFkMODcqeXXl9Lh"
    },
    "colab_type": "code",
    "executionInfo": {
     "elapsed": 3557,
     "status": "ok",
     "timestamp": 1588992379230,
     "user": {
      "displayName": "Maura Tokay",
      "photoUrl": "",
      "userId": "08366631216777031425"
     },
     "user_tz": 240
    },
    "id": "a2FP8XFHUrWP",
    "outputId": "67d6c000-83c4-4a25-a9c0-a6fcb2ad5d8e"
   },
   "outputs": [],
   "source": [
    "dataCorn13w = pd.read_csv('./dataset/cornFeatures13w.csv')\n",
    "corrCorn13w = dataCorn13w.corr()\n",
    "corrCorn13w.style.background_gradient(cmap='coolwarm').set_precision(2)"
   ]
  },
  {
   "cell_type": "code",
   "execution_count": null,
   "metadata": {
    "colab": {},
    "colab_type": "code",
    "id": "H3PmxsQHU7r7"
   },
   "outputs": [],
   "source": [
    "# Splitting data set\n",
    "train_13w_X, test_13w_X = train_test_split(dataCorn13w.drop('GrainYield', axis=1), random_state=1)\n",
    "train_13w_y, test_13w_y = train_test_split(dataCorn13w['GrainYield'], random_state=1)\n",
    "\n",
    "# Apply Robust Scaler\n",
    "scaler = RobustScaler()\n",
    "train_scaler_13w_X = scaler.fit_transform(train_13w_X)\n",
    "test_scaler_13w_X = scaler.transform(test_13w_X)"
   ]
  },
  {
   "cell_type": "markdown",
   "metadata": {
    "colab_type": "text",
    "id": "QtnuJm8bVZ5H"
   },
   "source": [
    "**Lasso**"
   ]
  },
  {
   "cell_type": "code",
   "execution_count": null,
   "metadata": {
    "colab": {
     "base_uri": "https://localhost:8080/",
     "height": 618
    },
    "colab_type": "code",
    "executionInfo": {
     "elapsed": 492,
     "status": "ok",
     "timestamp": 1588992597892,
     "user": {
      "displayName": "Maura Tokay",
      "photoUrl": "",
      "userId": "08366631216777031425"
     },
     "user_tz": 240
    },
    "id": "rJAIU4jbVbeH",
    "outputId": "e6b48ee6-9355-4b38-ae47-160cff9807fb"
   },
   "outputs": [],
   "source": [
    "lm = linear_model.Lasso(alpha=0.9)\n",
    "lm.fit(train_scaler_13w_X,train_13w_y)\n",
    "y_pred_13w_lm = lm.predict(test_scaler_13w_X)\n",
    "modelEvaluation(test_13w_y, y_pred_13w_lm)\n",
    "\n",
    "important_features = pd.Series(data=lm.coef_,index=dataCorn13w.drop('GrainYield', axis=1).columns)\n",
    "important_features.sort_values(ascending=False,inplace=True)\n",
    "print(important_features[:5])\n",
    "print(important_features[-5:])"
   ]
  },
  {
   "cell_type": "code",
   "execution_count": null,
   "metadata": {
    "colab": {
     "base_uri": "https://localhost:8080/",
     "height": 278
    },
    "colab_type": "code",
    "executionInfo": {
     "elapsed": 472,
     "status": "ok",
     "timestamp": 1588992689888,
     "user": {
      "displayName": "Maura Tokay",
      "photoUrl": "",
      "userId": "08366631216777031425"
     },
     "user_tz": 240
    },
    "id": "_ui4MRk5WA-U",
    "outputId": "1529b305-ee4c-4685-b55c-ece683cd2169"
   },
   "outputs": [],
   "source": [
    "errorPlot(test_13w_y, y_pred_13w_lm)"
   ]
  },
  {
   "cell_type": "markdown",
   "metadata": {
    "colab_type": "text",
    "id": "N3tyWvsSVOOo"
   },
   "source": [
    "**Decision Tree Regressor**"
   ]
  },
  {
   "cell_type": "code",
   "execution_count": null,
   "metadata": {
    "colab": {
     "base_uri": "https://localhost:8080/",
     "height": 563
    },
    "colab_type": "code",
    "executionInfo": {
     "elapsed": 561,
     "status": "ok",
     "timestamp": 1588992823141,
     "user": {
      "displayName": "Maura Tokay",
      "photoUrl": "",
      "userId": "08366631216777031425"
     },
     "user_tz": 240
    },
    "id": "yCeH7su6WRrX",
    "outputId": "9bc32fbc-ebd7-445d-df0e-67b3c8acb33b"
   },
   "outputs": [],
   "source": [
    "tree_model = DecisionTreeRegressor()\n",
    "tree_model.fit(train_scaler_13w_X,train_13w_y)\n",
    "y_pred_13w_dtr = tree_model.predict(test_scaler_13w_X)\n",
    "modelEvaluation(test_13w_y, y_pred_13w_dtr)\n",
    "\n",
    "mportant_features = pd.Series(data=tree_model.feature_importances_,index=dataCorn13w.drop('GrainYield', axis=1).columns)\n",
    "important_features.sort_values(ascending=False,inplace=True)\n",
    "print(important_features[:5])\n",
    "print(important_features[-5:])"
   ]
  },
  {
   "cell_type": "code",
   "execution_count": null,
   "metadata": {
    "colab": {
     "base_uri": "https://localhost:8080/",
     "height": 278
    },
    "colab_type": "code",
    "executionInfo": {
     "elapsed": 495,
     "status": "ok",
     "timestamp": 1588992890327,
     "user": {
      "displayName": "Maura Tokay",
      "photoUrl": "",
      "userId": "08366631216777031425"
     },
     "user_tz": 240
    },
    "id": "A4dBxlt_WyRy",
    "outputId": "b7f18172-6eed-4716-ea6d-627fe24966d7"
   },
   "outputs": [],
   "source": [
    "errorPlot(test_13w_y, y_pred_13w_dtr)"
   ]
  },
  {
   "cell_type": "markdown",
   "metadata": {
    "colab_type": "text",
    "id": "OhT-9HqgW272"
   },
   "source": [
    "**Random Forest Regressor**"
   ]
  },
  {
   "cell_type": "code",
   "execution_count": null,
   "metadata": {
    "colab": {
     "base_uri": "https://localhost:8080/",
     "height": 563
    },
    "colab_type": "code",
    "executionInfo": {
     "elapsed": 997,
     "status": "ok",
     "timestamp": 1588993004726,
     "user": {
      "displayName": "Maura Tokay",
      "photoUrl": "",
      "userId": "08366631216777031425"
     },
     "user_tz": 240
    },
    "id": "_XC8Y1XOXAHQ",
    "outputId": "3f6e19b2-f7f5-4458-cd06-770092bdbb59"
   },
   "outputs": [],
   "source": [
    "rf_model = RandomForestRegressor()\n",
    "rf_model.fit(train_scaler_13w_X,train_13w_y)\n",
    "y_pred_13w_rfr = rf_model.predict(test_scaler_13w_X)\n",
    "modelEvaluation(test_13w_y, y_pred_13w_rfr)\n",
    "\n",
    "important_features = pd.Series(data=rf_model.feature_importances_,index=dataCorn13w.drop('GrainYield', axis=1).columns)\n",
    "important_features.sort_values(ascending=False,inplace=True)\n",
    "print(important_features[:5])\n",
    "print(important_features[-5:])"
   ]
  },
  {
   "cell_type": "code",
   "execution_count": null,
   "metadata": {
    "colab": {
     "base_uri": "https://localhost:8080/",
     "height": 563
    },
    "colab_type": "code",
    "executionInfo": {
     "elapsed": 1700,
     "status": "ok",
     "timestamp": 1588993298864,
     "user": {
      "displayName": "Maura Tokay",
      "photoUrl": "",
      "userId": "08366631216777031425"
     },
     "user_tz": 240
    },
    "id": "PvYkQm-OXTfX",
    "outputId": "de3e5a4c-3e5c-4863-ca90-a0eb6bc0abb2"
   },
   "outputs": [],
   "source": [
    "max_depth = 20\n",
    "n_est = 190\n",
    "rf_model = RandomForestRegressor(n_estimators=n_est,max_depth=max_depth,random_state=0)\n",
    "rf_model.fit(train_scaler_13w_X,train_13w_y)\n",
    "y_pred_13w_rfrc = rf_model.predict(test_scaler_13w_X)\n",
    "modelEvaluation(test_13w_y, y_pred_13w_rfrc)\n",
    "\n",
    "important_features = pd.Series(data=rf_model.feature_importances_,index=dataCorn13w.drop('GrainYield', axis=1).columns)\n",
    "important_features.sort_values(ascending=False,inplace=True)\n",
    "print(important_features[:5])\n",
    "print(important_features[-5:])"
   ]
  },
  {
   "cell_type": "code",
   "execution_count": null,
   "metadata": {
    "colab": {
     "base_uri": "https://localhost:8080/",
     "height": 278
    },
    "colab_type": "code",
    "executionInfo": {
     "elapsed": 367,
     "status": "ok",
     "timestamp": 1588993306185,
     "user": {
      "displayName": "Maura Tokay",
      "photoUrl": "",
      "userId": "08366631216777031425"
     },
     "user_tz": 240
    },
    "id": "pfaKfQitXxjz",
    "outputId": "8c46f923-65e2-438b-d001-34bb88edc1ec"
   },
   "outputs": [],
   "source": [
    "errorPlot(test_13w_y, y_pred_13w_rfrc)"
   ]
  },
  {
   "cell_type": "markdown",
   "metadata": {
    "colab_type": "text",
    "id": "KZlnw-e8YlMN"
   },
   "source": [
    "**Neural Network**"
   ]
  },
  {
   "cell_type": "markdown",
   "metadata": {
    "colab_type": "text",
    "id": "wq4EUC9CZND-"
   },
   "source": [
    "***Build the model***\n",
    "\n",
    "\n",
    "Let's build our model. Here, we'll use a Sequential model with seven densely connected hidden layers, and an output layer that returns a single, continuous value. The model building steps are wrapped in a function, build_model, since we'll create a second model, later on."
   ]
  },
  {
   "cell_type": "code",
   "execution_count": null,
   "metadata": {
    "colab": {},
    "colab_type": "code",
    "id": "s-xKr3mGYjnl"
   },
   "outputs": [],
   "source": [
    "def build_model():\n",
    "    model = keras.Sequential([\n",
    "        layers.Dense(128, activation='relu', input_shape=[len(train_13w_X.keys())]),\n",
    "        layers.Dense(64, activation='relu'),\n",
    "        layers.Dense(32, activation='relu'),\n",
    "        layers.Flatten(),\n",
    "        layers.Dense(64, activation='relu'),\n",
    "        layers.Dense(32, activation='relu'),\n",
    "        layers.Dense(16, activation='relu'),\n",
    "        layers.Dense(1)\n",
    "    ])\n",
    "\n",
    "    optimizer = tf.keras.optimizers.RMSprop(learning_rate=0.001)\n",
    "\n",
    "    model.compile(loss='mse',optimizer=optimizer,metrics=['mae', 'mse'])\n",
    "    return model"
   ]
  },
  {
   "cell_type": "code",
   "execution_count": null,
   "metadata": {
    "colab": {},
    "colab_type": "code",
    "id": "ke-9fBKBZrmd"
   },
   "outputs": [],
   "source": [
    "model = build_model()"
   ]
  },
  {
   "cell_type": "markdown",
   "metadata": {
    "colab_type": "text",
    "id": "gkvf-1r4Z1kE"
   },
   "source": [
    "***Inspect the model***\n",
    "\n",
    "Use the .summary method to print a simple description of the model"
   ]
  },
  {
   "cell_type": "code",
   "execution_count": null,
   "metadata": {
    "colab": {
     "base_uri": "https://localhost:8080/",
     "height": 443
    },
    "colab_type": "code",
    "executionInfo": {
     "elapsed": 303,
     "status": "ok",
     "timestamp": 1588993735421,
     "user": {
      "displayName": "Maura Tokay",
      "photoUrl": "",
      "userId": "08366631216777031425"
     },
     "user_tz": 240
    },
    "id": "59BS3AcJaC0u",
    "outputId": "0ac55213-de2d-4d84-9c2a-15a5b172c5e4"
   },
   "outputs": [],
   "source": [
    "model.summary()"
   ]
  },
  {
   "cell_type": "markdown",
   "metadata": {
    "colab_type": "text",
    "id": "Fbt58OgxZ3z-"
   },
   "source": [
    "***Train the model***\n",
    "\n",
    "Train the model for 200 epochs, and record the training and validation accuracy in the history object."
   ]
  },
  {
   "cell_type": "code",
   "execution_count": null,
   "metadata": {
    "colab": {
     "base_uri": "https://localhost:8080/",
     "height": 105
    },
    "colab_type": "code",
    "executionInfo": {
     "elapsed": 11130,
     "status": "ok",
     "timestamp": 1588993849292,
     "user": {
      "displayName": "Maura Tokay",
      "photoUrl": "",
      "userId": "08366631216777031425"
     },
     "user_tz": 240
    },
    "id": "ZpmmrT2DaY0D",
    "outputId": "463b4ffb-c27d-4a69-eaf3-291656dcea29"
   },
   "outputs": [],
   "source": [
    "EPOCHS = 200\n",
    "history = model.fit(train_scaler_13w_X, train_13w_y, epochs=EPOCHS, validation_split = 0.2, verbose=0, callbacks=[tfdocs.modeling.EpochDots()])"
   ]
  },
  {
   "cell_type": "code",
   "execution_count": null,
   "metadata": {
    "colab": {
     "base_uri": "https://localhost:8080/",
     "height": 52
    },
    "colab_type": "code",
    "executionInfo": {
     "elapsed": 454,
     "status": "ok",
     "timestamp": 1588993895290,
     "user": {
      "displayName": "Maura Tokay",
      "photoUrl": "",
      "userId": "08366631216777031425"
     },
     "user_tz": 240
    },
    "id": "C1NaXtyDanX0",
    "outputId": "e7d42b72-c36a-4f8d-c610-dacee8290a38"
   },
   "outputs": [],
   "source": [
    "loss, mae, mse = model.evaluate(test_scaler_13w_X, test_13w_y, verbose=2)\n",
    "print(\"Testing set Mean Abs Error: {:5.2f} GrainYield\".format(mae))"
   ]
  },
  {
   "cell_type": "code",
   "execution_count": null,
   "metadata": {
    "colab": {},
    "colab_type": "code",
    "id": "yVLt_nM7a46k"
   },
   "outputs": [],
   "source": [
    "plotter = tfdocs.plots.HistoryPlotter(smoothing_std=2)"
   ]
  },
  {
   "cell_type": "code",
   "execution_count": null,
   "metadata": {
    "colab": {
     "base_uri": "https://localhost:8080/",
     "height": 296
    },
    "colab_type": "code",
    "executionInfo": {
     "elapsed": 441,
     "status": "ok",
     "timestamp": 1588994001551,
     "user": {
      "displayName": "Maura Tokay",
      "photoUrl": "",
      "userId": "08366631216777031425"
     },
     "user_tz": 240
    },
    "id": "SvMXrR1abCj8",
    "outputId": "e72b6f85-6e0e-495e-fa1b-29ac24d51913"
   },
   "outputs": [],
   "source": [
    "plotter.plot({'Basic': history}, metric = \"mae\")\n",
    "plt.ylabel('MAE [GrainYield]')"
   ]
  },
  {
   "cell_type": "code",
   "execution_count": null,
   "metadata": {
    "colab": {
     "base_uri": "https://localhost:8080/",
     "height": 307
    },
    "colab_type": "code",
    "executionInfo": {
     "elapsed": 540,
     "status": "ok",
     "timestamp": 1588994039453,
     "user": {
      "displayName": "Maura Tokay",
      "photoUrl": "",
      "userId": "08366631216777031425"
     },
     "user_tz": 240
    },
    "id": "LXDUMp_vbM4F",
    "outputId": "89c943ce-2aea-432a-abc2-de1b6d7b4bbb"
   },
   "outputs": [],
   "source": [
    "plotter.plot({'Basic': history}, metric = \"mse\")\n",
    "plt.ylabel('MSE [GrainYield^2]')"
   ]
  },
  {
   "cell_type": "code",
   "execution_count": null,
   "metadata": {
    "colab": {
     "base_uri": "https://localhost:8080/",
     "height": 105
    },
    "colab_type": "code",
    "executionInfo": {
     "elapsed": 6851,
     "status": "ok",
     "timestamp": 1588994096223,
     "user": {
      "displayName": "Maura Tokay",
      "photoUrl": "",
      "userId": "08366631216777031425"
     },
     "user_tz": 240
    },
    "id": "K7iQTGmhbWCO",
    "outputId": "8241a105-c992-4c7a-da05-fc8c7be8d2ff"
   },
   "outputs": [],
   "source": [
    "model = build_model()\n",
    "\n",
    "# The patience parameter is the amount of epochs to check for improvement\n",
    "early_stop = keras.callbacks.EarlyStopping(monitor='val_loss', patience=30)\n",
    "early_history = model.fit(train_scaler_13w_X, train_13w_y, epochs=EPOCHS, validation_split = 0.2, verbose=0, callbacks=[early_stop, tfdocs.modeling.EpochDots()])"
   ]
  },
  {
   "cell_type": "code",
   "execution_count": null,
   "metadata": {
    "colab": {
     "base_uri": "https://localhost:8080/",
     "height": 52
    },
    "colab_type": "code",
    "executionInfo": {
     "elapsed": 354,
     "status": "ok",
     "timestamp": 1588994143272,
     "user": {
      "displayName": "Maura Tokay",
      "photoUrl": "",
      "userId": "08366631216777031425"
     },
     "user_tz": 240
    },
    "id": "ohgmTz39bj-L",
    "outputId": "d205986a-9838-495f-8a4f-da90160a59c2"
   },
   "outputs": [],
   "source": [
    "loss, mae, mse = model.evaluate(test_scaler_13w_X, test_13w_y, verbose=2)\n",
    "print(\"Testing set Mean Abs Error: {:5.2f} GrainYield\".format(mae))"
   ]
  },
  {
   "cell_type": "code",
   "execution_count": null,
   "metadata": {
    "colab": {
     "base_uri": "https://localhost:8080/",
     "height": 350
    },
    "colab_type": "code",
    "executionInfo": {
     "elapsed": 638,
     "status": "ok",
     "timestamp": 1588994209684,
     "user": {
      "displayName": "Maura Tokay",
      "photoUrl": "",
      "userId": "08366631216777031425"
     },
     "user_tz": 240
    },
    "id": "voFP3Gctbx3Q",
    "outputId": "e44048f9-fd25-4df8-e0e6-94b145ccf449"
   },
   "outputs": [],
   "source": [
    "y_pred_13w_nn = model.predict(test_scaler_13w_X).flatten()\n",
    "modelEvaluation(test_13w_y, y_pred_13w_nn)"
   ]
  },
  {
   "cell_type": "code",
   "execution_count": null,
   "metadata": {
    "colab": {
     "base_uri": "https://localhost:8080/",
     "height": 278
    },
    "colab_type": "code",
    "executionInfo": {
     "elapsed": 465,
     "status": "ok",
     "timestamp": 1588994265455,
     "user": {
      "displayName": "Maura Tokay",
      "photoUrl": "",
      "userId": "08366631216777031425"
     },
     "user_tz": 240
    },
    "id": "CyYJG3MBcBAz",
    "outputId": "76e8dc8d-c711-4bc6-d63c-c55650c742fe"
   },
   "outputs": [],
   "source": [
    "errorPlot(test_13w_y, y_pred_13w_nn)"
   ]
  },
  {
   "cell_type": "code",
   "execution_count": null,
   "metadata": {
    "colab": {
     "base_uri": "https://localhost:8080/",
     "height": 368
    },
    "colab_type": "code",
    "executionInfo": {
     "elapsed": 818,
     "status": "ok",
     "timestamp": 1588994701565,
     "user": {
      "displayName": "Maura Tokay",
      "photoUrl": "",
      "userId": "08366631216777031425"
     },
     "user_tz": 240
    },
    "id": "wJrhGbRXID2k",
    "outputId": "e80c38a4-f1de-4427-84b6-d1e8364d0d2a"
   },
   "outputs": [],
   "source": [
    "data = np.array([[median_absolute_error(test_13w_y, y_pred_13w_lm), median_absolute_error(test_14w_y, y_pred_14w_lm), median_absolute_error(test_15w_y, y_pred_15w_lm), median_absolute_error(test_16w_y, y_pred_16w_lm)],\n",
    "                 [median_absolute_error(test_13w_y, y_pred_13w_dtr), median_absolute_error(test_14w_y, y_pred_14w_dtr), median_absolute_error(test_15w_y, y_pred_15w_dtr), median_absolute_error(test_16w_y, y_pred_16w_dtr)],\n",
    "                 [median_absolute_error(test_13w_y, y_pred_13w_rfr), median_absolute_error(test_14w_y, y_pred_14w_rfr), median_absolute_error(test_15w_y, y_pred_15w_rfr), median_absolute_error(test_16w_y, y_pred_16w_rfr)],\n",
    "                 [median_absolute_error(test_13w_y, y_pred_13w_rfrc), median_absolute_error(test_14w_y, y_pred_14w_rfrc), median_absolute_error(test_15w_y, y_pred_15w_rfrc), median_absolute_error(test_16w_y, y_pred_16w_rfrc)],\n",
    "                 [median_absolute_error(test_13w_y, y_pred_13w_nn), median_absolute_error(test_14w_y, y_pred_14w_nn), median_absolute_error(test_15w_y, y_pred_15w_nn), median_absolute_error(test_16w_y, y_pred_16w_nn)]])\n",
    "length = len(data)\n",
    "x_labels = ['Lasso', 'Decision Tree', 'Random Forest', 'Random Forest C', 'Neural Network']\n",
    "\n",
    "# Set plot parameters\n",
    "fig, ax = plt.subplots()\n",
    "fig.set_size_inches(7,5)\n",
    "\n",
    "width = 0.2 # width of bar\n",
    "x = np.arange(length)\n",
    "\n",
    "ax.bar(x, data[:,0], width, color='#000080', label='13 weeks')\n",
    "ax.bar(x + width, data[:,1], width, color='#0F52BA', label='14 weeks')\n",
    "ax.bar(x + (2 * width), data[:,2], width, color='#6593F5', label='15 weeks')\n",
    "ax.bar(x + (3 * width), data[:,3], width, color='#93b4fa', label='16 weeks')\n",
    "\n",
    "\n",
    "ax.set_ylim(710,840)\n",
    "ax.set_xticks(x + width + width/2)\n",
    "ax.set_xticklabels(x_labels)\n",
    "ax.set_ylabel('Grain Yield (kg/ha)')\n",
    "ax.set_xlabel('Regression Model')\n",
    "ax.set_title('Median Absolute Percentage Error (MAPE)')\n",
    "ax.legend()\n",
    "plt.grid(True, 'major', 'y', ls='--', lw=.5, c='k', alpha=.3)\n",
    "\n",
    "fig.tight_layout()\n",
    "plt.show()"
   ]
  },
  {
   "cell_type": "code",
   "execution_count": null,
   "metadata": {
    "colab": {
     "base_uri": "https://localhost:8080/",
     "height": 368
    },
    "colab_type": "code",
    "executionInfo": {
     "elapsed": 547,
     "status": "ok",
     "timestamp": 1588995279107,
     "user": {
      "displayName": "Maura Tokay",
      "photoUrl": "",
      "userId": "08366631216777031425"
     },
     "user_tz": 240
    },
    "id": "9Habw0yfdm_h",
    "outputId": "6f2e9f10-2603-4299-8630-e62669d67a47"
   },
   "outputs": [],
   "source": [
    "data = np.array([[r2_score(y_pred_13w_lm, test_13w_y), r2_score(y_pred_14w_lm, test_14w_y), r2_score(y_pred_15w_lm, test_15w_y), r2_score(y_pred_16w_lm, test_16w_y)],\n",
    "                 [r2_score(y_pred_13w_dtr, test_13w_y), r2_score(y_pred_14w_dtr, test_14w_y), r2_score(y_pred_15w_dtr, test_15w_y), r2_score(y_pred_16w_dtr, test_16w_y)],\n",
    "                 [r2_score(y_pred_13w_rfr, test_13w_y), r2_score(y_pred_14w_rfr, test_14w_y), r2_score(y_pred_15w_rfr, test_15w_y), r2_score(y_pred_16w_rfr, test_16w_y)],\n",
    "                 [r2_score(y_pred_13w_rfrc, test_13w_y), r2_score(y_pred_14w_rfrc, test_14w_y), r2_score(y_pred_15w_rfrc, test_15w_y), r2_score(y_pred_16w_rfrc, test_16w_y)],\n",
    "                 [r2_score(y_pred_13w_nn, test_13w_y), r2_score(y_pred_14w_nn, test_14w_y), r2_score(y_pred_15w_nn, test_15w_y), r2_score(y_pred_16w_nn, test_16w_y)]])\n",
    "#r2_score(y_pred, test_y)\n",
    "length = len(data)\n",
    "x_labels = ['Lasso', 'Decision Tree', 'Random Forest', 'Random Forest C', 'Neural Network']\n",
    "\n",
    "# Set plot parameters\n",
    "fig, ax = plt.subplots()\n",
    "fig.set_size_inches(7,5)\n",
    "width = 0.2 # width of bar\n",
    "x = np.arange(length)\n",
    "\n",
    "ax.bar(x, data[:,0], width, color='#000080', label='13 weeks')\n",
    "ax.bar(x + width, data[:,1], width, color='#0F52BA', label='14 weeks')\n",
    "ax.bar(x + (2 * width), data[:,2], width, color='#6593F5', label='15 weeks')\n",
    "ax.bar(x + (3 * width), data[:,3], width, color='#93b4fa', label='16 weeks')\n",
    "\n",
    "ax.set_ylim(0.805,0.835)\n",
    "ax.set_xticks(x + width + width/2)\n",
    "ax.set_xticklabels(x_labels)\n",
    "ax.set_xlabel('Regression Model')\n",
    "ax.set_title('Coefficient of Determination (R^2)')\n",
    "ax.legend()\n",
    "plt.grid(True, 'major', 'y', ls='--', lw=.5, c='k', alpha=.3)\n",
    "\n",
    "fig.tight_layout()\n",
    "plt.show()"
   ]
  },
  {
   "cell_type": "code",
   "execution_count": null,
   "metadata": {},
   "outputs": [],
   "source": []
  }
 ],
 "metadata": {
  "accelerator": "GPU",
  "colab": {
   "collapsed_sections": [],
   "name": "PredictCornYieldD4.ipynb",
   "provenance": [
    {
     "file_id": "1OBYhzFUbB4r70erWd9AwUCElmcyVNZqS",
     "timestamp": 1548871654118
    }
   ]
  },
  "kernelspec": {
   "display_name": "user_tensorflow",
   "language": "python",
   "name": "user_tensorflow"
  },
  "language_info": {
   "codemirror_mode": {
    "name": "ipython",
    "version": 3
   },
   "file_extension": ".py",
   "mimetype": "text/x-python",
   "name": "python",
   "nbconvert_exporter": "python",
   "pygments_lexer": "ipython3",
   "version": "3.7.9"
  }
 },
 "nbformat": 4,
 "nbformat_minor": 4
}
