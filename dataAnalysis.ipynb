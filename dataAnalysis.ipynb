{
 "cells": [
  {
   "cell_type": "markdown",
   "metadata": {
    "colab_type": "text",
    "id": "gD2Nxo0AHu7w"
   },
   "source": [
    "This dataset is part of the [Farming Systems Project](https://www.ars.usda.gov/northeast-area/beltsville-md-barc/beltsville-agricultural-research-center/sustainable-agricultural-systems-laboratory/docs/farming-systems-project/) at USDA, Beltsville MD.  This data is not available online on the USDA\n",
    " website but can be found on my [GitHub](https://github.com/mmtokay/DATA606/tree/master/datasets).\n",
    "\n",
    "\n",
    "The data is split in two files, one that contains crop information and other with weather data.\n",
    "\n",
    "Crop file:\n",
    "* Crop - wheat, corn or soybean           \n",
    "* GrowingSeason - year crop was cultivated \n",
    "* SystemName - crop management (traditional: NT and CT; organic: Org2, Org3 and Org6')    \n",
    "* GrainYield - grain yield measured in kg/ha     \n",
    "* PlantingDate - date seeds were planted  \n",
    "* HarvestDate - date crop was harvested\n",
    "\n",
    "\n",
    "Weather file:\n",
    "* Year \n",
    "* Julian Day \n",
    "* Month\n",
    "* Day\n",
    "* Date\n",
    "* avgtTempC - average temperature in C\n",
    "* maxTempC - maximum temperature in C\n",
    "* minTempC - minimum temperature in C\n",
    "* maxHumPct - maximum humidity in %\n",
    "* minHumPct - minimum humidity in %\n",
    "* avgRadWm-2 - average radiation in w/m2\n",
    "* meanWindMs-1 - mean wind in m/s\n",
    "* PrecipitationMm - precipitation/snow melt in mm\n",
    "\n",
    "# Exploratory Data Analysis (Preliminary)\n"
   ]
  },
  {
   "cell_type": "code",
   "execution_count": null,
   "metadata": {
    "colab": {
     "base_uri": "https://localhost:8080/",
     "height": 125
    },
    "colab_type": "code",
    "executionInfo": {
     "elapsed": 37778,
     "status": "ok",
     "timestamp": 1588987775505,
     "user": {
      "displayName": "Maura Tokay",
      "photoUrl": "",
      "userId": "08366631216777031425"
     },
     "user_tz": 240
    },
    "id": "-WqchYRo7LRu",
    "outputId": "7a4feb3b-0360-4596-8286-3ca89e75d675"
   },
   "outputs": [],
   "source": [
    "import io\n",
    "import matplotlib.pyplot as plt\n",
    "import numpy as np\n",
    "import pandas as pd\n",
    "import re\n",
    "import warnings\n",
    "import time\n",
    "import pathlib\n",
    "import seaborn as sns\n",
    "import tensorflow as tf\n",
    "\n",
    "from datetime import datetime, timedelta\n",
    "from sklearn import linear_model\n",
    "from sklearn.decomposition import PCA\n",
    "from sklearn.ensemble import RandomForestRegressor\n",
    "from sklearn.linear_model import LogisticRegression, LinearRegression, RidgeClassifier\n",
    "from sklearn.metrics import *\n",
    "from sklearn.model_selection import train_test_split, GridSearchCV, cross_val_score, cross_val_predict, cross_validate\n",
    "from sklearn.pipeline import Pipeline\n",
    "from sklearn.preprocessing import OneHotEncoder, PolynomialFeatures, RobustScaler, Normalizer, MinMaxScaler, StandardScaler, Binarizer\n",
    "from sklearn.tree import DecisionTreeRegressor, export_graphviz\n",
    "from sklearn.utils import shuffle\n",
    "from time import time\n",
    "from tensorflow import keras\n",
    "from tensorflow.keras import layers\n",
    "\n",
    "print(tf.__version__)\n",
    "warnings.simplefilter(action='ignore', category=FutureWarning)"
   ]
  },
  {
   "cell_type": "markdown",
   "metadata": {
    "colab_type": "text",
    "id": "h9zzD1CZrnxv"
   },
   "source": [
    "# Crop Data\n",
    "Import crop data file."
   ]
  },
  {
   "cell_type": "code",
   "execution_count": null,
   "metadata": {
    "colab": {
     "base_uri": "https://localhost:8080/",
     "height": 407
    },
    "colab_type": "code",
    "executionInfo": {
     "elapsed": 2178,
     "status": "ok",
     "timestamp": 1588987836383,
     "user": {
      "displayName": "Maura Tokay",
      "photoUrl": "",
      "userId": "08366631216777031425"
     },
     "user_tz": 240
    },
    "id": "X0w-Kyvd8NLT",
    "outputId": "994a7d5a-a7ce-4164-d053-b30656ecbb80"
   },
   "outputs": [],
   "source": [
    "data = pd.read_csv('./dataset/FSPGrainYieldsV3Clean.csv')\n",
    "print(data.head())\n",
    "print('\\nData information.')\n",
    "print(data.info())"
   ]
  },
  {
   "cell_type": "markdown",
   "metadata": {
    "colab_type": "text",
    "id": "L6UxtYazsx5I"
   },
   "source": [
    "Data contains 6 columns and 1113 rows.\n",
    "\n",
    "Data conversion:\n",
    "*   Convert GrainYield to numeric.\n",
    "*   Convert PlantingDate and HarvestDate to datetime.\n",
    "\n"
   ]
  },
  {
   "cell_type": "code",
   "execution_count": null,
   "metadata": {
    "colab": {},
    "colab_type": "code",
    "id": "BPS7JxullD3L"
   },
   "outputs": [],
   "source": [
    "# Convert from object to float64\n",
    "data['GrainYield'] = pd.to_numeric(data.GrainYield, errors='coerce')\n",
    "\n",
    "# Convert PlantingDate and HarvestDate from object to date\n",
    "data['PlantingDate'] = pd.to_datetime(data.PlantingDate)\n",
    "data['HarvestDate'] = pd.to_datetime(data.HarvestDate)"
   ]
  },
  {
   "cell_type": "markdown",
   "metadata": {
    "colab_type": "text",
    "id": "4xRURjzZuCue"
   },
   "source": [
    "Let's check if there is any data missing on the dataset.  "
   ]
  },
  {
   "cell_type": "code",
   "execution_count": null,
   "metadata": {
    "colab": {
     "base_uri": "https://localhost:8080/",
     "height": 141
    },
    "colab_type": "code",
    "executionInfo": {
     "elapsed": 645,
     "status": "ok",
     "timestamp": 1588987846010,
     "user": {
      "displayName": "Maura Tokay",
      "photoUrl": "",
      "userId": "08366631216777031425"
     },
     "user_tz": 240
    },
    "id": "eQgk2ArNx1NL",
    "outputId": "03a5510a-5c66-49d9-9126-b9a8ca7496bc"
   },
   "outputs": [],
   "source": [
    "data.isna().sum()"
   ]
  },
  {
   "cell_type": "markdown",
   "metadata": {
    "colab_type": "text",
    "id": "hThctljAzb4p"
   },
   "source": [
    "I don't have harvest date for 71 measurements.  Harvest date is not critical because often times the crop is not harvest as soon as the crop is mature.  It is important to know how long each crop takes to mature on average.  I will create a new column called weekDuration to calculate the week duration between planting date and harvest date."
   ]
  },
  {
   "cell_type": "code",
   "execution_count": null,
   "metadata": {
    "colab": {
     "base_uri": "https://localhost:8080/",
     "height": 176
    },
    "colab_type": "code",
    "executionInfo": {
     "elapsed": 562,
     "status": "ok",
     "timestamp": 1588987849200,
     "user": {
      "displayName": "Maura Tokay",
      "photoUrl": "",
      "userId": "08366631216777031425"
     },
     "user_tz": 240
    },
    "id": "kNfhNynJNLiL",
    "outputId": "2cb50234-d0e4-4002-e642-7a35ed083a11"
   },
   "outputs": [],
   "source": [
    "# Calculate duration between PlantingDate and HarvestDate\n",
    "data['weekDuration'] = data['HarvestDate'] - data['PlantingDate']\n",
    "data['weekDuration'] = data['weekDuration']/np.timedelta64(1,'W')\n",
    "print('\\nCheck unique values for Crop, GrowingSeason and SystemName columns.\\n')\n",
    "print(\"Crop\", data.Crop.unique())\n",
    "print(\"\\nGrowing Season\", data.GrowingSeason.unique())\n",
    "print(\"\\nCrop Management Type\", data.SystemName.unique())"
   ]
  },
  {
   "cell_type": "markdown",
   "metadata": {
    "colab_type": "text",
    "id": "3mvrpz59KoKc"
   },
   "source": [
    "There are duplicate values for SystemManagement because column values are case sensitive.  I will convert SystemName column to uppercase.\n",
    "\n",
    "**Note:** There is no data for 1999 because it was a dry year and this experiment doesn't use irrigation, crops never matured."
   ]
  },
  {
   "cell_type": "code",
   "execution_count": null,
   "metadata": {
    "colab": {
     "base_uri": "https://localhost:8080/",
     "height": 52
    },
    "colab_type": "code",
    "executionInfo": {
     "elapsed": 1213,
     "status": "ok",
     "timestamp": 1588987853325,
     "user": {
      "displayName": "Maura Tokay",
      "photoUrl": "",
      "userId": "08366631216777031425"
     },
     "user_tz": 240
    },
    "id": "Krva_phILCkM",
    "outputId": "89ddc284-4633-4a73-b203-0752f205e677"
   },
   "outputs": [],
   "source": [
    "data['SystemName'] = data['SystemName'].str.upper()\n",
    "print(\"\\nCrop Management Type\", data.SystemName.unique())"
   ]
  },
  {
   "cell_type": "markdown",
   "metadata": {
    "colab_type": "text",
    "id": "IVRcc3ZD842D"
   },
   "source": [
    "I will create a new column called SystemNameType for conventional and organic management.  These values will be generated from SystemName column. \n",
    "\n",
    "Conventional = NT and CT\n",
    "\n",
    "Organic = ORG2, ORG3 and ORG6"
   ]
  },
  {
   "cell_type": "code",
   "execution_count": null,
   "metadata": {
    "colab": {
     "base_uri": "https://localhost:8080/",
     "height": 197
    },
    "colab_type": "code",
    "executionInfo": {
     "elapsed": 2389,
     "status": "ok",
     "timestamp": 1588987858338,
     "user": {
      "displayName": "Maura Tokay",
      "photoUrl": "",
      "userId": "08366631216777031425"
     },
     "user_tz": 240
    },
    "id": "Uxam03EF85pP",
    "outputId": "67207942-8707-46de-c1c0-0384fb5e9a72"
   },
   "outputs": [],
   "source": [
    "# 1 for conventional\n",
    "# 0 for organic\n",
    "data['SystemNameType'] = ((data.SystemName == \"NT\") | (data.SystemName == \"CT\")).map({True:'1', False:'0'})\n",
    "# Drop SystemName column\n",
    "data.drop('SystemName', axis=1, inplace=True)\n",
    "data.head()"
   ]
  },
  {
   "cell_type": "markdown",
   "metadata": {
    "colab_type": "text",
    "id": "jKTFN5rr0_xe"
   },
   "source": [
    "I will separate the data by crop: corn, soybean and wheat and I will display basic statistics for each crop.\n",
    "\n",
    "# Corn dataset - Statistics"
   ]
  },
  {
   "cell_type": "code",
   "execution_count": null,
   "metadata": {
    "colab": {
     "base_uri": "https://localhost:8080/",
     "height": 461
    },
    "colab_type": "code",
    "executionInfo": {
     "elapsed": 631,
     "status": "ok",
     "timestamp": 1588987875916,
     "user": {
      "displayName": "Maura Tokay",
      "photoUrl": "",
      "userId": "08366631216777031425"
     },
     "user_tz": 240
    },
    "id": "REkL1Qd1LFXe",
    "outputId": "aef4c531-b203-4d39-9c6d-6ab6e4d0712b"
   },
   "outputs": [],
   "source": [
    "data_corn = data.loc[data['Crop'] == \"CRN\"]\n",
    "print(data_corn.describe(include=\"all\"))\n",
    "print('\\nCorn Data Distribution by Year\\n')\n",
    "data_corn_grouped = data_corn.groupby(['GrowingSeason'], as_index=False).agg({'GrainYield': \"count\"})\n",
    "print(data_corn_grouped.head())"
   ]
  },
  {
   "cell_type": "code",
   "execution_count": null,
   "metadata": {
    "colab": {
     "base_uri": "https://localhost:8080/",
     "height": 295
    },
    "colab_type": "code",
    "executionInfo": {
     "elapsed": 593,
     "status": "ok",
     "timestamp": 1588987881264,
     "user": {
      "displayName": "Maura Tokay",
      "photoUrl": "",
      "userId": "08366631216777031425"
     },
     "user_tz": 240
    },
    "id": "-8qUcmTg-H9J",
    "outputId": "f5e35ee6-015e-4592-d116-fcfbc6d7ee3b"
   },
   "outputs": [],
   "source": [
    "y_pos = np.arange(len(data_corn_grouped['GrowingSeason']))\n",
    "plt.bar(y_pos, data_corn_grouped['GrainYield'], align='center')\n",
    "plt.xticks(y_pos, data_corn_grouped['GrowingSeason'], rotation=45)\n",
    "plt.ylabel('Number of Samples')\n",
    "plt.title('Number of Corn Yield Samples per Year')\n",
    "plt.show()"
   ]
  },
  {
   "cell_type": "markdown",
   "metadata": {
    "colab_type": "text",
    "id": "hkseLzvyEp1z"
   },
   "source": [
    "Corn Data Distribution by Crop Management Type"
   ]
  },
  {
   "cell_type": "code",
   "execution_count": null,
   "metadata": {
    "colab": {
     "base_uri": "https://localhost:8080/",
     "height": 107
    },
    "colab_type": "code",
    "executionInfo": {
     "elapsed": 542,
     "status": "ok",
     "timestamp": 1588987885362,
     "user": {
      "displayName": "Maura Tokay",
      "photoUrl": "",
      "userId": "08366631216777031425"
     },
     "user_tz": 240
    },
    "id": "EHpFvjSBFhWt",
    "outputId": "22a03738-5003-4cb3-c3e8-1da5b3fc35dd"
   },
   "outputs": [],
   "source": [
    "data_corn_sys_grouped = data_corn.groupby(['SystemNameType'], as_index=False).agg({'GrainYield': \"count\"})\n",
    "data_corn_sys_grouped.head()"
   ]
  },
  {
   "cell_type": "code",
   "execution_count": null,
   "metadata": {
    "colab": {
     "base_uri": "https://localhost:8080/",
     "height": 283
    },
    "colab_type": "code",
    "executionInfo": {
     "elapsed": 2770,
     "status": "ok",
     "timestamp": 1588987890998,
     "user": {
      "displayName": "Maura Tokay",
      "photoUrl": "",
      "userId": "08366631216777031425"
     },
     "user_tz": 240
    },
    "id": "UQKhIH75F7ID",
    "outputId": "b0ffce47-7f19-4648-90b0-797b5353f4d0"
   },
   "outputs": [],
   "source": [
    "y_pos = np.arange(len(data_corn_sys_grouped['SystemNameType']))\n",
    "plt.bar(y_pos, data_corn_sys_grouped['GrainYield'], align='center')\n",
    "plt.xticks(y_pos, data_corn_sys_grouped['SystemNameType'], rotation=45)\n",
    "plt.ylabel('Number of Samples')\n",
    "plt.title('Number of Corn Yield Samples per Crop Management Type')\n",
    "plt.show()"
   ]
  },
  {
   "cell_type": "markdown",
   "metadata": {
    "colab_type": "text",
    "id": "IIYFJ0Bu1i0v"
   },
   "source": [
    "# Soybean dataset - Statistics"
   ]
  },
  {
   "cell_type": "code",
   "execution_count": null,
   "metadata": {
    "colab": {
     "base_uri": "https://localhost:8080/",
     "height": 461
    },
    "colab_type": "code",
    "executionInfo": {
     "elapsed": 600,
     "status": "ok",
     "timestamp": 1588987895215,
     "user": {
      "displayName": "Maura Tokay",
      "photoUrl": "",
      "userId": "08366631216777031425"
     },
     "user_tz": 240
    },
    "id": "7ITzsK4PAzlm",
    "outputId": "c6a729bf-5480-4878-a0ee-7dd4184c318d"
   },
   "outputs": [],
   "source": [
    "data_soy = data.loc[data['Crop'] == \"SOY\"]\n",
    "print(data_soy.describe(include=\"all\"))\n",
    "print('\\nSoybean Data Distribution by Year\\n')\n",
    "data_soy_grouped = data_soy.groupby(['GrowingSeason'], as_index=False).agg({'GrainYield': \"count\"})\n",
    "print(data_soy_grouped.head())"
   ]
  },
  {
   "cell_type": "code",
   "execution_count": null,
   "metadata": {
    "colab": {
     "base_uri": "https://localhost:8080/",
     "height": 295
    },
    "colab_type": "code",
    "executionInfo": {
     "elapsed": 569,
     "status": "ok",
     "timestamp": 1588987903198,
     "user": {
      "displayName": "Maura Tokay",
      "photoUrl": "",
      "userId": "08366631216777031425"
     },
     "user_tz": 240
    },
    "id": "DJT3SJbH_euB",
    "outputId": "2806cbd4-6396-422f-8d5d-b81121fed8dc"
   },
   "outputs": [],
   "source": [
    "y_pos = np.arange(len(data_soy_grouped['GrowingSeason']))\n",
    "plt.bar(y_pos, data_soy_grouped['GrainYield'], align='center')\n",
    "plt.xticks(y_pos, data_soy_grouped['GrowingSeason'], rotation=45)\n",
    "plt.ylabel('Number of Samples')\n",
    "plt.title('Number of Soybean Samples per Year')\n",
    "plt.show()"
   ]
  },
  {
   "cell_type": "markdown",
   "metadata": {
    "colab_type": "text",
    "id": "SDuugTAqMHH-"
   },
   "source": [
    "Soybean Data Distribution by Crop Management Type"
   ]
  },
  {
   "cell_type": "code",
   "execution_count": null,
   "metadata": {
    "colab": {
     "base_uri": "https://localhost:8080/",
     "height": 107
    },
    "colab_type": "code",
    "executionInfo": {
     "elapsed": 516,
     "status": "ok",
     "timestamp": 1588987906018,
     "user": {
      "displayName": "Maura Tokay",
      "photoUrl": "",
      "userId": "08366631216777031425"
     },
     "user_tz": 240
    },
    "id": "zAXbT36ZL9KM",
    "outputId": "6d74d07e-10a5-41e7-a263-657a2fe5056e"
   },
   "outputs": [],
   "source": [
    "data_soy_sys_grouped = data_soy.groupby(['SystemNameType'], as_index=False).agg({'GrainYield': \"count\"})\n",
    "data_soy_sys_grouped.head()"
   ]
  },
  {
   "cell_type": "code",
   "execution_count": null,
   "metadata": {
    "colab": {
     "base_uri": "https://localhost:8080/",
     "height": 283
    },
    "colab_type": "code",
    "executionInfo": {
     "elapsed": 726,
     "status": "ok",
     "timestamp": 1588987912205,
     "user": {
      "displayName": "Maura Tokay",
      "photoUrl": "",
      "userId": "08366631216777031425"
     },
     "user_tz": 240
    },
    "id": "uBzco77gMzR8",
    "outputId": "001b84c6-5472-4aa8-9085-0112cd801c88"
   },
   "outputs": [],
   "source": [
    "y_pos = np.arange(len(data_soy_sys_grouped['SystemNameType']))\n",
    "plt.bar(y_pos, data_soy_sys_grouped['GrainYield'], align='center')\n",
    "plt.xticks(y_pos, data_soy_sys_grouped['SystemNameType'], rotation=45)\n",
    "plt.ylabel('Number of Samples')\n",
    "plt.title('Number of Soybean Yield Samples per Crop Management Type')\n",
    "plt.show()"
   ]
  },
  {
   "cell_type": "markdown",
   "metadata": {
    "colab_type": "text",
    "id": "P83mjxjc13pe"
   },
   "source": [
    "# Wheat dataset - Statistics"
   ]
  },
  {
   "cell_type": "code",
   "execution_count": null,
   "metadata": {
    "colab": {
     "base_uri": "https://localhost:8080/",
     "height": 461
    },
    "colab_type": "code",
    "executionInfo": {
     "elapsed": 1208,
     "status": "ok",
     "timestamp": 1588987917194,
     "user": {
      "displayName": "Maura Tokay",
      "photoUrl": "",
      "userId": "08366631216777031425"
     },
     "user_tz": 240
    },
    "id": "NgzaZ5fZD3Tn",
    "outputId": "617bfb61-0280-4cc3-d3bc-57059525cfba"
   },
   "outputs": [],
   "source": [
    "data_wheat = data.loc[data['Crop'] == \"WHT\"]\n",
    "print(data_wheat.describe(include=\"all\"))\n",
    "print('\\nWheat Data Distribution by Year\\n')\n",
    "data_wheat_grouped = data_wheat.groupby(['GrowingSeason'], as_index=False).agg({'GrainYield': \"count\"})\n",
    "print(data_wheat_grouped.head())"
   ]
  },
  {
   "cell_type": "code",
   "execution_count": null,
   "metadata": {
    "colab": {
     "base_uri": "https://localhost:8080/",
     "height": 295
    },
    "colab_type": "code",
    "executionInfo": {
     "elapsed": 1787,
     "status": "ok",
     "timestamp": 1588987923569,
     "user": {
      "displayName": "Maura Tokay",
      "photoUrl": "",
      "userId": "08366631216777031425"
     },
     "user_tz": 240
    },
    "id": "oUapzZ1gAGbB",
    "outputId": "2c7b11eb-16a8-424e-f320-d40f698581ba"
   },
   "outputs": [],
   "source": [
    "y_pos = np.arange(len(data_wheat_grouped['GrowingSeason']))\n",
    "plt.bar(y_pos, data_wheat_grouped['GrainYield'], align='center')\n",
    "plt.xticks(y_pos, data_wheat_grouped['GrowingSeason'], rotation=45)\n",
    "plt.ylabel('Number of Samples')\n",
    "plt.title('Number of Wheat Samples per Year')\n",
    "plt.show()"
   ]
  },
  {
   "cell_type": "markdown",
   "metadata": {
    "colab_type": "text",
    "id": "R6OEF6TpN-bO"
   },
   "source": [
    "Wheat Data Distribution by Crop Management Type"
   ]
  },
  {
   "cell_type": "code",
   "execution_count": null,
   "metadata": {
    "colab": {
     "base_uri": "https://localhost:8080/",
     "height": 107
    },
    "colab_type": "code",
    "executionInfo": {
     "elapsed": 532,
     "status": "ok",
     "timestamp": 1588987926980,
     "user": {
      "displayName": "Maura Tokay",
      "photoUrl": "",
      "userId": "08366631216777031425"
     },
     "user_tz": 240
    },
    "id": "nYnzmBfgN51y",
    "outputId": "b5ca144a-72ef-47f4-975a-5b3d0dadce9e"
   },
   "outputs": [],
   "source": [
    "data_wheat_sys_grouped = data_wheat.groupby(['SystemNameType'], as_index=False).agg({'GrainYield': \"count\"})\n",
    "data_wheat_sys_grouped.head()"
   ]
  },
  {
   "cell_type": "code",
   "execution_count": null,
   "metadata": {
    "colab": {
     "base_uri": "https://localhost:8080/",
     "height": 283
    },
    "colab_type": "code",
    "executionInfo": {
     "elapsed": 572,
     "status": "ok",
     "timestamp": 1588987930937,
     "user": {
      "displayName": "Maura Tokay",
      "photoUrl": "",
      "userId": "08366631216777031425"
     },
     "user_tz": 240
    },
    "id": "yVSPyheHOQi8",
    "outputId": "bfdac90b-f568-4db2-a30a-1880f08becec"
   },
   "outputs": [],
   "source": [
    "y_pos = np.arange(len(data_wheat_sys_grouped['SystemNameType']))\n",
    "plt.bar(y_pos, data_wheat_sys_grouped['GrainYield'], align='center')\n",
    "plt.xticks(y_pos, data_wheat_sys_grouped['SystemNameType'], rotation=45)\n",
    "plt.ylabel('Number of Samples')\n",
    "plt.title('Number of Wheat Yield Samples per Crop Management Type')\n",
    "plt.show()"
   ]
  },
  {
   "cell_type": "markdown",
   "metadata": {
    "colab_type": "text",
    "id": "6C6kEo8qAcnk"
   },
   "source": [
    "# Weather Data\n",
    "\n",
    "Import weather data."
   ]
  },
  {
   "cell_type": "code",
   "execution_count": null,
   "metadata": {
    "colab": {
     "base_uri": "https://localhost:8080/",
     "height": 585
    },
    "colab_type": "code",
    "executionInfo": {
     "elapsed": 1289,
     "status": "ok",
     "timestamp": 1588987961081,
     "user": {
      "displayName": "Maura Tokay",
      "photoUrl": "",
      "userId": "08366631216777031425"
     },
     "user_tz": 240
    },
    "id": "6GHb5SrNA0pB",
    "outputId": "a9b828b7-8ada-487e-b70e-42a7c6e9d55c"
   },
   "outputs": [],
   "source": [
    "weather_data = pd.read_csv('./dataset/FSPWeather1996-2019V2.csv')\n",
    "print(weather_data.head())\n",
    "print('\\nData information.\\n')\n",
    "print(weather_data.info())"
   ]
  },
  {
   "cell_type": "markdown",
   "metadata": {
    "colab_type": "text",
    "id": "7Ngz2IUrUXAQ"
   },
   "source": [
    "Data contains 13 columns and 8762 rows. Convert Date to datetime."
   ]
  },
  {
   "cell_type": "code",
   "execution_count": null,
   "metadata": {
    "colab": {},
    "colab_type": "code",
    "id": "sSD_FFzDPTn4"
   },
   "outputs": [],
   "source": [
    "weather_data['Date'] = pd.to_datetime(weather_data.Date)"
   ]
  },
  {
   "cell_type": "markdown",
   "metadata": {
    "colab_type": "text",
    "id": "x068ruVMV1b-"
   },
   "source": [
    "# Weather Data - Statistics"
   ]
  },
  {
   "cell_type": "code",
   "execution_count": null,
   "metadata": {
    "colab": {
     "base_uri": "https://localhost:8080/",
     "height": 504
    },
    "colab_type": "code",
    "executionInfo": {
     "elapsed": 505,
     "status": "ok",
     "timestamp": 1588987970040,
     "user": {
      "displayName": "Maura Tokay",
      "photoUrl": "",
      "userId": "08366631216777031425"
     },
     "user_tz": 240
    },
    "id": "aK80MOvXV3QA",
    "outputId": "5783c295-f638-42d8-f8bb-b242117172f4"
   },
   "outputs": [],
   "source": [
    "weather_data.describe(include=\"all\")"
   ]
  },
  {
   "cell_type": "markdown",
   "metadata": {
    "colab_type": "text",
    "id": "WQMiz3VQU3AV"
   },
   "source": [
    "Let's check if there is any data missing on the dataset."
   ]
  },
  {
   "cell_type": "code",
   "execution_count": null,
   "metadata": {
    "colab": {
     "base_uri": "https://localhost:8080/",
     "height": 265
    },
    "colab_type": "code",
    "executionInfo": {
     "elapsed": 657,
     "status": "ok",
     "timestamp": 1588987974079,
     "user": {
      "displayName": "Maura Tokay",
      "photoUrl": "",
      "userId": "08366631216777031425"
     },
     "user_tz": 240
    },
    "id": "li_70t4jRBxA",
    "outputId": "df160fce-4c6e-4f88-8343-48d2706317c5"
   },
   "outputs": [],
   "source": [
    "weather_data.isna().sum()"
   ]
  },
  {
   "cell_type": "markdown",
   "metadata": {
    "colab_type": "text",
    "id": "O0i6PuVPPQL9"
   },
   "source": [
    "There are some data missing.  Let's plot each variable to check for anomalies in the data."
   ]
  },
  {
   "cell_type": "code",
   "execution_count": null,
   "metadata": {
    "colab": {
     "base_uri": "https://localhost:8080/",
     "height": 350
    },
    "colab_type": "code",
    "executionInfo": {
     "elapsed": 1601,
     "status": "ok",
     "timestamp": 1588987977844,
     "user": {
      "displayName": "Maura Tokay",
      "photoUrl": "",
      "userId": "08366631216777031425"
     },
     "user_tz": 240
    },
    "id": "TfQQxvSlmN1R",
    "outputId": "997eed3a-ac69-40d8-dc7c-28fef22d7472"
   },
   "outputs": [],
   "source": [
    "fig, ax = plt.subplots()\n",
    "fig.set_size_inches(20,5)\n",
    "ax.plot(weather_data['Date'], weather_data['avgtTempC'])\n",
    "ax.set(xlabel='Date', ylabel='Temperature (C)', title='Average Temperature')\n",
    "ax.grid()\n",
    "plt.show()"
   ]
  },
  {
   "cell_type": "code",
   "execution_count": null,
   "metadata": {
    "colab": {
     "base_uri": "https://localhost:8080/",
     "height": 350
    },
    "colab_type": "code",
    "executionInfo": {
     "elapsed": 931,
     "status": "ok",
     "timestamp": 1588987981166,
     "user": {
      "displayName": "Maura Tokay",
      "photoUrl": "",
      "userId": "08366631216777031425"
     },
     "user_tz": 240
    },
    "id": "_wkdn1ttcl4v",
    "outputId": "9898f64a-31d4-4c0d-c064-d0e930540433"
   },
   "outputs": [],
   "source": [
    "fig, ax = plt.subplots()\n",
    "fig.set_size_inches(20,5)\n",
    "ax.plot(weather_data['Date'], weather_data['maxTempC'])\n",
    "ax.set(xlabel='Date', ylabel='Temperature (C)', title='Maximum Temperature')\n",
    "ax.grid()\n",
    "plt.show()"
   ]
  },
  {
   "cell_type": "code",
   "execution_count": null,
   "metadata": {
    "colab": {
     "base_uri": "https://localhost:8080/",
     "height": 350
    },
    "colab_type": "code",
    "executionInfo": {
     "elapsed": 1286,
     "status": "ok",
     "timestamp": 1588987984425,
     "user": {
      "displayName": "Maura Tokay",
      "photoUrl": "",
      "userId": "08366631216777031425"
     },
     "user_tz": 240
    },
    "id": "bV5jdnmQc0de",
    "outputId": "1d0f8a14-f7c6-4e54-a54a-af022a412550"
   },
   "outputs": [],
   "source": [
    "fig, ax = plt.subplots()\n",
    "fig.set_size_inches(20,5)\n",
    "ax.plot(weather_data['Date'], weather_data['minTempC'])\n",
    "ax.set(xlabel='Date', ylabel='Temperature (C)', title='Minimum Temperature')\n",
    "ax.grid()\n",
    "plt.show()"
   ]
  },
  {
   "cell_type": "code",
   "execution_count": null,
   "metadata": {
    "colab": {
     "base_uri": "https://localhost:8080/",
     "height": 350
    },
    "colab_type": "code",
    "executionInfo": {
     "elapsed": 786,
     "status": "ok",
     "timestamp": 1588987987992,
     "user": {
      "displayName": "Maura Tokay",
      "photoUrl": "",
      "userId": "08366631216777031425"
     },
     "user_tz": 240
    },
    "id": "B2bK3Wv6dNhr",
    "outputId": "f4493a38-128c-47c0-eccf-22f8c2e62ffc"
   },
   "outputs": [],
   "source": [
    "fig, ax = plt.subplots()\n",
    "fig.set_size_inches(20,5)\n",
    "ax.plot(weather_data['Date'], weather_data['maxHumPct'])\n",
    "ax.set(xlabel='Date', ylabel='Humidity (%)', title='Maximum Humidity')\n",
    "ax.grid()\n",
    "plt.show()"
   ]
  },
  {
   "cell_type": "code",
   "execution_count": null,
   "metadata": {
    "colab": {
     "base_uri": "https://localhost:8080/",
     "height": 350
    },
    "colab_type": "code",
    "executionInfo": {
     "elapsed": 927,
     "status": "ok",
     "timestamp": 1588987992070,
     "user": {
      "displayName": "Maura Tokay",
      "photoUrl": "",
      "userId": "08366631216777031425"
     },
     "user_tz": 240
    },
    "id": "6SO9UfKBdr3f",
    "outputId": "fa4179e7-8784-438f-bdb5-27e3d4dfc927"
   },
   "outputs": [],
   "source": [
    "fig, ax = plt.subplots()\n",
    "fig.set_size_inches(20,5)\n",
    "ax.plot(weather_data['Date'], weather_data['minHumPct'])\n",
    "ax.set(xlabel='Date', ylabel='Humidity (%)', title='Minimum Humidity')\n",
    "ax.grid()\n",
    "plt.show()"
   ]
  },
  {
   "cell_type": "code",
   "execution_count": null,
   "metadata": {
    "colab": {
     "base_uri": "https://localhost:8080/",
     "height": 350
    },
    "colab_type": "code",
    "executionInfo": {
     "elapsed": 766,
     "status": "ok",
     "timestamp": 1588987995341,
     "user": {
      "displayName": "Maura Tokay",
      "photoUrl": "",
      "userId": "08366631216777031425"
     },
     "user_tz": 240
    },
    "id": "P_cmm5ySeFwa",
    "outputId": "6c9540d7-9001-4064-e1f6-61aef4de239d"
   },
   "outputs": [],
   "source": [
    "fig, ax = plt.subplots()\n",
    "fig.set_size_inches(20,5)\n",
    "ax.plot(weather_data['Date'], weather_data['avgRadWm-2'])\n",
    "ax.set(xlabel='Date', ylabel='Radiation (W/m2)', title='Average Radiation')\n",
    "ax.grid()\n",
    "plt.show()"
   ]
  },
  {
   "cell_type": "code",
   "execution_count": null,
   "metadata": {
    "colab": {},
    "colab_type": "code",
    "id": "5ioG9uLReyZw"
   },
   "outputs": [],
   "source": [
    "fig, ax = plt.subplots()\n",
    "fig.set_size_inches(20,5)\n",
    "ax.plot(weather_data['Date'], weather_data['meanWindMs-1'])\n",
    "ax.set(xlabel='Date', ylabel='Wind (m/s)', title='Mean Wind')\n",
    "ax.grid()\n",
    "plt.show()"
   ]
  },
  {
   "cell_type": "code",
   "execution_count": null,
   "metadata": {
    "colab": {
     "base_uri": "https://localhost:8080/",
     "height": 343
    },
    "colab_type": "code",
    "executionInfo": {
     "elapsed": 2024,
     "status": "ok",
     "timestamp": 1584325724384,
     "user": {
      "displayName": "Maura Tokay",
      "photoUrl": "",
      "userId": "08366631216777031425"
     },
     "user_tz": 240
    },
    "id": "zbGAt4VtsQZg",
    "outputId": "06a93a30-fff9-4a78-f078-6c495a9673da"
   },
   "outputs": [],
   "source": [
    "fig, ax = plt.subplots()\n",
    "fig.set_size_inches(20,5)\n",
    "ax.plot(weather_data['Date'], weather_data['PrecipitationMm'])\n",
    "ax.set(xlabel='Date', ylabel='Precipitation (mm)', title='Precipitation')\n",
    "ax.grid()\n",
    "plt.show()"
   ]
  },
  {
   "cell_type": "markdown",
   "metadata": {
    "colab_type": "text",
    "id": "w4JsHlG3jd2h"
   },
   "source": [
    "Looking at the graphics, I will not use average radiation because data is missing for years 2003-2008.  I need to check the anomalies for maximum humidity and mean wind and how this can be corrected.\n",
    "\n",
    "My next step is to work on feature engineering, I will combine crop mangement type in two categories traditional and organic.  After I determine the average number of weeks that takes for each crop to mature I will calculate weather variables weekly average starting from planting date.\n",
    "\n",
    "I will also calculate growing degree days (GDD) that \"are used to estimate the growth and development of plants and insects during the growing season. The basic concept is that development will only occur if the temperature exceeds some minimum development threshold, or base temperature (TBASE). The base temperatures are determined experimentally and are different for each organism\". [1]\n",
    "\n",
    "GDD formula for corn and soybean:\n",
    "\n",
    "GDD = (Daily Max Temp °C + Daily Min Temp °C) / 2 - 10\n",
    "\n",
    "GDD formula wheat:\n",
    "\n",
    "GDD = (Daily Max Temp °C + Daily Min Temp °C) / 2 - 4.4"
   ]
  },
  {
   "cell_type": "markdown",
   "metadata": {
    "colab_type": "text",
    "id": "-G__xl6jJUGm"
   },
   "source": [
    "# References\n",
    "\n",
    "1. Explanation of Growing Degree Days, Midwestern Regional Climate Center, mrcc.illinois.edu/gismaps/info/gddinfo.htm.\n"
   ]
  }
 ],
 "metadata": {
  "colab": {
   "collapsed_sections": [],
   "name": "PredictYieldD2.ipynb",
   "provenance": [
    {
     "file_id": "1OBYhzFUbB4r70erWd9AwUCElmcyVNZqS",
     "timestamp": 1548871654118
    }
   ]
  },
  "kernelspec": {
   "display_name": "user_tensorflow",
   "language": "python",
   "name": "user_tensorflow"
  },
  "language_info": {
   "codemirror_mode": {
    "name": "ipython",
    "version": 3
   },
   "file_extension": ".py",
   "mimetype": "text/x-python",
   "name": "python",
   "nbconvert_exporter": "python",
   "pygments_lexer": "ipython3",
   "version": "3.7.9"
  }
 },
 "nbformat": 4,
 "nbformat_minor": 4
}
